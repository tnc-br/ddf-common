{
  "cells": [
    {
      "cell_type": "markdown",
      "metadata": {
        "id": "muxw0qAviP5M"
      },
      "source": [
        "Generate an isoscape from a variational inferenence model"
      ]
    },
    {
      "cell_type": "code",
      "execution_count": null,
      "metadata": {
        "id": "Z411bUWuVAfG"
      },
      "outputs": [],
      "source": [
        "MODEL_SAVE_LOCATION = \"/content/gdrive/MyDrive/amazon_rainforest_files/variational/model/random_boosted_isorix_carbon_ensemble.tf\" #@param\n",
        "TRANSFORMER_SAVE_LOCATION = \"/content/gdrive/MyDrive/amazon_rainforest_files/variational/model/random_boosted_isorix_carbon_ensemble.pkl\" #@param\n",
        "OUTPUT_RASTER_NAME = \"amazon_test_old_res\" #@param\n",
        "USE_LOCAL_DRIVE = False #@param {type:\"boolean\"}\n",
        "\n",
        "# Number of pixels on each dimension\n",
        "RESOLUTION_X = 300 #@param\n",
        "RESOLUTION_Y = 300 #@param\n",
        "AMAZON_ONLY = False #@param {type: \"boolean\"}"
      ]
    },
    {
      "cell_type": "code",
      "execution_count": null,
      "metadata": {
        "id": "t2Lwa0v2UPjB"
      },
      "outputs": [],
      "source": [
        "#@title Imports and modules.\n",
        "\n",
        "import tensorflow as tf\n",
        "import joblib\n",
        "import os\n",
        "import sys\n",
        "from matplotlib import rc\n",
        "\n",
        "rc('animation', html='jshtml')\n",
        "\n",
        "!if [ ! -d \"/content/ddf_common_stub\" ] ; then git clone -b test https://github.com/tnc-br/ddf_common_stub.git; fi\n",
        "sys.path.append(\"/content/ddf_common_stub/\")\n",
        "import ddfimport\n",
        "ddfimport.ddf_import_common()"
      ]
    },
    {
      "cell_type": "code",
      "source": [
        "import model\n",
        "import raster\n",
        "\n",
        "# Access data stored on Google Drive if not reading data locally.\n",
        "if not USE_LOCAL_DRIVE:\n",
        "  raster.mount_gdrive()"
      ],
      "metadata": {
        "id": "LUhJ2C1QS5Pz"
      },
      "execution_count": null,
      "outputs": []
    },
    {
      "cell_type": "markdown",
      "metadata": {
        "id": "JJXcXVDZbSgo"
      },
      "source": [
        "# Import Tensorflow model and scalers"
      ]
    },
    {
      "cell_type": "code",
      "execution_count": null,
      "metadata": {
        "id": "36Aeo8B5bVOl"
      },
      "outputs": [],
      "source": [
        "vi_model = model.TFModel(MODEL_SAVE_LOCATION, TRANSFORMER_SAVE_LOCATION)\n",
        "\n",
        "# Note: These need to be in the same as the columns used to train the model.\n",
        "required_geotiffs = [\n",
        "    'VPD', 'RH', 'PET', 'DEM', 'PA',\n",
        "    'Mean Annual Temperature','Mean Annual Precipitation',\n",
        "    'Iso_Oxi_Stack_mean_TERZER',\n",
        "    'isoscape_fullmodel_d18O_prec_REGRESSION',\n",
        "    'brisoscape_mean_ISORIX',\n",
        "    'd13C_cel_mean',\n",
        "    'd13C_cel_var',\n",
        "    'ordinary_kriging_linear_d18O_predicted_mean',\n",
        "    'ordinary_kriging_linear_d18O_predicted_variance']"
      ]
    },
    {
      "cell_type": "code",
      "execution_count": null,
      "metadata": {
        "id": "nLwdaqCq1rLl"
      },
      "outputs": [],
      "source": [
        "raster.generate_isoscapes_from_variational_model(\n",
        "  vi_model, required_geotiffs, RESOLUTION_X, RESOLUTION_Y, OUTPUT_RASTER_NAME, amazon_only=AMAZON_ONLY)"
      ]
    },
    {
      "cell_type": "markdown",
      "source": [
        "# Rendering"
      ],
      "metadata": {
        "id": "LMKv4IbWQnxz"
      }
    },
    {
      "cell_type": "markdown",
      "source": [
        "## Means"
      ],
      "metadata": {
        "id": "WQmVp3uGQqTt"
      }
    },
    {
      "cell_type": "code",
      "source": [
        "means_anim = raster.animate(raster.load_raster(raster.get_raster_path(OUTPUT_RASTER_NAME+\".tiff\"), use_only_band_index=0), 1, 1)\n",
        "means_anim"
      ],
      "metadata": {
        "id": "MwvBcQKeQAvg"
      },
      "execution_count": null,
      "outputs": []
    },
    {
      "cell_type": "markdown",
      "source": [
        "# Vars"
      ],
      "metadata": {
        "id": "LAlRDGX2Qr-P"
      }
    },
    {
      "cell_type": "code",
      "source": [
        "vars_anim = raster.animate(raster.load_raster(raster.get_raster_path(OUTPUT_RASTER_NAME+\".tiff\"), use_only_band_index=1), 1, 1)\n",
        "vars_anim"
      ],
      "metadata": {
        "id": "bXUaqpt-Qs3E"
      },
      "execution_count": null,
      "outputs": []
    }
  ],
  "metadata": {
    "colab": {
      "machine_shape": "hm",
      "provenance": []
    },
    "kernelspec": {
      "display_name": "Python 3",
      "name": "python3"
    },
    "language_info": {
      "name": "python"
    }
  },
  "nbformat": 4,
  "nbformat_minor": 0
}