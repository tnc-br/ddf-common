{
  "cells": [
    {
      "cell_type": "markdown",
      "metadata": {
        "id": "muxw0qAviP5M"
      },
      "source": [
        "Generate an isoscape from a variational inferenence model"
      ]
    },
    {
      "cell_type": "code",
      "execution_count": 1,
      "metadata": {
        "id": "Z411bUWuVAfG"
      },
      "outputs": [],
      "source": [
        "MODEL_SAVE_LOCATION = \"/content/gdrive/MyDrive/amazon_rainforest_files/variational/model/random_boosted_isorix_carbon_ensemble.tf\" #@param\n",
        "TRANSFORMER_SAVE_LOCATION = \"/content/gdrive/MyDrive/amazon_rainforest_files/variational/model/random_boosted_isorix_carbon_ensemble.pkl\" #@param\n",
        "OUTPUT_RASTER_NAME = \"amazon_test_old_res\" #@param\n",
        "USE_LOCAL_DRIVE = False #@param {type:\"boolean\"}\n",
        "\n",
        "# Number of pixels on each dimension\n",
        "RESOLUTION_X = 300 #@param\n",
        "RESOLUTION_Y = 300 #@param\n",
        "AMAZON_ONLY = False #@param {type: \"boolean\"}"
      ]
    },
    {
      "cell_type": "code",
      "execution_count": 2,
      "metadata": {
        "id": "t2Lwa0v2UPjB",
        "outputId": "7ca67daf-c2af-4fe0-faa0-46c2afbae94c",
        "colab": {
          "base_uri": "https://localhost:8080/"
        }
      },
      "outputs": [
        {
          "output_type": "stream",
          "name": "stdout",
          "text": [
            "Cloning into 'ddf_common_stub'...\n",
            "remote: Enumerating objects: 14, done.\u001b[K\n",
            "remote: Counting objects: 100% (14/14), done.\u001b[K\n",
            "remote: Compressing objects: 100% (14/14), done.\u001b[K\n",
            "remote: Total 14 (delta 5), reused 0 (delta 0), pack-reused 0\u001b[K\n",
            "Receiving objects: 100% (14/14), 6.14 KiB | 6.14 MiB/s, done.\n",
            "Resolving deltas: 100% (5/5), done.\n",
            "executing checkout_branch ...\n",
            "b''\n",
            "main branch checked out as readonly. You may now use ddf_common imports\n"
          ]
        }
      ],
      "source": [
        "#@title Imports and modules.\n",
        "\n",
        "import tensorflow as tf\n",
        "import joblib\n",
        "import os\n",
        "import sys\n",
        "from matplotlib import rc\n",
        "\n",
        "rc('animation', html='jshtml')\n",
        "\n",
        "!if [ ! -d \"/content/ddf_common_stub\" ] ; then git clone -b test https://github.com/tnc-br/ddf_common_stub.git; fi\n",
        "sys.path.append(\"/content/ddf_common_stub/\")\n",
        "import ddfimport\n",
        "ddfimport.ddf_import_common()"
      ]
    },
    {
      "cell_type": "code",
      "source": [
        "import model\n",
        "import raster\n",
        "\n",
        "# Access data stored on Google Drive if not reading data locally.\n",
        "if not USE_LOCAL_DRIVE:\n",
        "  raster.mount_gdrive()"
      ],
      "metadata": {
        "id": "LUhJ2C1QS5Pz",
        "outputId": "58ae661d-e646-4e76-92c3-21361baea729",
        "colab": {
          "base_uri": "https://localhost:8080/"
        }
      },
      "execution_count": 3,
      "outputs": [
        {
          "output_type": "stream",
          "name": "stdout",
          "text": [
            "Mounted at /content/gdrive\n"
          ]
        }
      ]
    },
    {
      "cell_type": "markdown",
      "metadata": {
        "id": "JJXcXVDZbSgo"
      },
      "source": [
        "# Import Tensorflow model and scalers"
      ]
    },
    {
      "cell_type": "code",
      "execution_count": 4,
      "metadata": {
        "id": "36Aeo8B5bVOl"
      },
      "outputs": [],
      "source": [
        "vi_model = model.TFModel(MODEL_SAVE_LOCATION, TRANSFORMER_SAVE_LOCATION)"
      ]
    },
    {
      "cell_type": "code",
      "execution_count": null,
      "metadata": {
        "id": "nLwdaqCq1rLl",
        "outputId": "827b031a-3aa7-451b-d12f-7af6a2a4d220",
        "colab": {
          "base_uri": "https://localhost:8080/"
        }
      },
      "outputs": [
        {
          "output_type": "stream",
          "name": "stdout",
          "text": [
            "Driver: GTiff/GeoTIFF\n",
            "Size is 941 x 937 x 12\n",
            "Projection is GEOGCS[\"WGS 84\",DATUM[\"WGS_1984\",SPHEROID[\"WGS 84\",6378137,298.257223563,AUTHORITY[\"EPSG\",\"7030\"]],AUTHORITY[\"EPSG\",\"6326\"]],PRIMEM[\"Greenwich\",0],UNIT[\"degree\",0.0174532925199433,AUTHORITY[\"EPSG\",\"9122\"]],AXIS[\"Latitude\",NORTH],AXIS[\"Longitude\",EAST],AUTHORITY[\"EPSG\",\"4326\"]]\n",
            "Origin = (-74.0000000000241, 5.29166666665704)\n",
            "Pixel Size = (0.04166666666665718, -0.04166666666667143)\n",
            "Driver: GTiff/GeoTIFF\n",
            "Size is 941 x 937 x 12\n",
            "Projection is GEOGCS[\"WGS 84\",DATUM[\"WGS_1984\",SPHEROID[\"WGS 84\",6378137,298.257223563,AUTHORITY[\"EPSG\",\"7030\"]],AUTHORITY[\"EPSG\",\"6326\"]],PRIMEM[\"Greenwich\",0],UNIT[\"degree\",0.0174532925199433,AUTHORITY[\"EPSG\",\"9122\"]],AXIS[\"Latitude\",NORTH],AXIS[\"Longitude\",EAST],AUTHORITY[\"EPSG\",\"4326\"]]\n",
            "Origin = (-74.0000000000241, 5.29166666665704)\n",
            "Pixel Size = (0.04166666666665718, -0.04166666666667143)\n",
            "Driver: GTiff/GeoTIFF\n",
            "Size is 942 x 936 x 1\n",
            "Projection is GEOGCS[\"SIRGAS 2000\",DATUM[\"Sistema_de_Referencia_Geocentrico_para_las_AmericaS_2000\",SPHEROID[\"GRS 1980\",6378137,298.257222101004,AUTHORITY[\"EPSG\",\"7019\"]],AUTHORITY[\"EPSG\",\"6674\"]],PRIMEM[\"Greenwich\",0],UNIT[\"degree\",0.0174532925199433,AUTHORITY[\"EPSG\",\"9122\"]],AXIS[\"Latitude\",NORTH],AXIS[\"Longitude\",EAST],AUTHORITY[\"EPSG\",\"4674\"]]\n",
            "Origin = (-74.0, 5.25)\n",
            "Pixel Size = (0.041666666666666664, -0.041666666666666664)\n",
            "Driver: GTiff/GeoTIFF\n",
            "Size is 5418 x 4683 x 2\n",
            "Projection is GEOGCS[\"SIRGAS 2000\",DATUM[\"Sistema_de_Referencia_Geocentrico_para_las_AmericaS_2000\",SPHEROID[\"GRS 1980\",6378137,298.257222101004,AUTHORITY[\"EPSG\",\"7019\"]],AUTHORITY[\"EPSG\",\"6674\"]],PRIMEM[\"Greenwich\",0],UNIT[\"degree\",0.0174532925199433,AUTHORITY[\"EPSG\",\"9122\"]],AXIS[\"Latitude\",NORTH],AXIS[\"Longitude\",EAST],AUTHORITY[\"EPSG\",\"4674\"]]\n",
            "Origin = (-73.991666667, 5.275)\n",
            "Pixel Size = (0.008333333333333335, -0.008333333333333333)\n",
            "Driver: GTiff/GeoTIFF\n",
            "Size is 5418 x 4683 x 2\n",
            "Projection is GEOGCS[\"SIRGAS 2000\",DATUM[\"Sistema_de_Referencia_Geocentrico_para_las_AmericaS_2000\",SPHEROID[\"GRS 1980\",6378137,298.257222101004,AUTHORITY[\"EPSG\",\"7019\"]],AUTHORITY[\"EPSG\",\"6674\"]],PRIMEM[\"Greenwich\",0],UNIT[\"degree\",0.0174532925199433,AUTHORITY[\"EPSG\",\"9122\"]],AXIS[\"Latitude\",NORTH],AXIS[\"Longitude\",EAST],AUTHORITY[\"EPSG\",\"4674\"]]\n",
            "Origin = (-73.991666667, 5.275)\n",
            "Pixel Size = (0.008333333333333335, -0.008333333333333333)\n"
          ]
        }
      ],
      "source": [
        "raster.generate_isoscapes_from_variational_model(\n",
        "  vi_model, RESOLUTION_X, RESOLUTION_Y, OUTPUT_RASTER_NAME, amazon_only=AMAZON_ONLY)"
      ]
    },
    {
      "cell_type": "markdown",
      "source": [
        "# Rendering"
      ],
      "metadata": {
        "id": "LMKv4IbWQnxz"
      }
    },
    {
      "cell_type": "markdown",
      "source": [
        "## Means"
      ],
      "metadata": {
        "id": "WQmVp3uGQqTt"
      }
    },
    {
      "cell_type": "code",
      "source": [
        "means_anim = raster.animate(raster.load_raster(raster.get_raster_path(OUTPUT_RASTER_NAME+\".tiff\"), use_only_band_index=0), 1, 1)\n",
        "means_anim"
      ],
      "metadata": {
        "id": "MwvBcQKeQAvg"
      },
      "execution_count": null,
      "outputs": []
    },
    {
      "cell_type": "markdown",
      "source": [
        "# Vars"
      ],
      "metadata": {
        "id": "LAlRDGX2Qr-P"
      }
    },
    {
      "cell_type": "code",
      "source": [
        "vars_anim = raster.animate(raster.load_raster(raster.get_raster_path(OUTPUT_RASTER_NAME+\".tiff\"), use_only_band_index=1), 1, 1)\n",
        "vars_anim"
      ],
      "metadata": {
        "id": "bXUaqpt-Qs3E"
      },
      "execution_count": null,
      "outputs": []
    }
  ],
  "metadata": {
    "colab": {
      "machine_shape": "hm",
      "provenance": []
    },
    "kernelspec": {
      "display_name": "Python 3",
      "name": "python3"
    },
    "language_info": {
      "name": "python"
    }
  },
  "nbformat": 4,
  "nbformat_minor": 0
}