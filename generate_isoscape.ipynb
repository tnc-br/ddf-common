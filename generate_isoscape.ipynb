{
  "cells": [
    {
      "cell_type": "markdown",
      "metadata": {
        "id": "view-in-github",
        "colab_type": "text"
      },
      "source": [
        "<a href=\"https://colab.research.google.com/github/tnc-br/ddf_common/blob/model_class/generate_isoscape.ipynb\" target=\"_parent\"><img src=\"https://colab.research.google.com/assets/colab-badge.svg\" alt=\"Open In Colab\"/></a>"
      ]
    },
    {
      "cell_type": "markdown",
      "metadata": {
        "id": "muxw0qAviP5M"
      },
      "source": [
        "Generate an isoscape from a variational inferenence model"
      ]
    },
    {
      "cell_type": "code",
      "execution_count": 6,
      "metadata": {
        "id": "Z411bUWuVAfG"
      },
      "outputs": [],
      "source": [
        "MODEL_SAVE_LOCATION = \"/content/gdrive/MyDrive/amazon_rainforest_files/variational/model/random_boosted_isorix_carbon_ensemble.tf\"\n",
        "TRANSFORMER_SAVE_LOCATION = \"/content/gdrive/MyDrive/amazon_rainforest_files/variational/model/random_boosted_isorix_carbon_ensemble.pkl\"\n",
        "RUN_ID = \"raster_test_old_res\"\n",
        "\n",
        "# Number of pixels on each dimension\n",
        "RESOLUTION = (300, 300)"
      ]
    },
    {
      "cell_type": "code",
      "execution_count": null,
      "metadata": {
        "id": "t2Lwa0v2UPjB"
      },
      "outputs": [],
      "source": [
        "#@title Imports and modules.\n",
        "\n",
        "import tensorflow as tf\n",
        "import joblib\n",
        "import os\n",
        "import sys\n",
        "from matplotlib import rc\n",
        "\n",
        "rc('animation', html='jshtml')\n",
        "\n",
        "!if [ ! -d \"/content/ddf_common_stub\" ] ; then git clone -b test https://github.com/tnc-br/ddf_common_stub.git; fi\n",
        "sys.path.append(\"/content/ddf_common_stub/\")\n",
        "import ddfimport\n",
        "ddfimport.ddf_source_control_pane()"
      ]
    },
    {
      "cell_type": "code",
      "execution_count": 9,
      "metadata": {
        "id": "M82e_JJJPIds",
        "outputId": "4e3c3441-2067-435a-c3b4-be2d8158682b",
        "colab": {
          "base_uri": "https://localhost:8080/"
        }
      },
      "outputs": [
        {
          "output_type": "execute_result",
          "data": {
            "text/plain": [
              "<module 'raster' from '/content/gdrive/MyDrive/model_class/ddf_common/raster.py'>"
            ]
          },
          "metadata": {},
          "execution_count": 9
        }
      ],
      "source": [
        "import importlib\n",
        "import model\n",
        "import raster\n",
        "importlib.reload(model)\n",
        "importlib.reload(raster)"
      ]
    },
    {
      "cell_type": "markdown",
      "metadata": {
        "id": "JJXcXVDZbSgo"
      },
      "source": [
        "# Import Tensorflow model and scalers"
      ]
    },
    {
      "cell_type": "code",
      "execution_count": 10,
      "metadata": {
        "id": "36Aeo8B5bVOl"
      },
      "outputs": [],
      "source": [
        "vi_model = model.TFModel(MODEL_SAVE_LOCATION, TRANSFORMER_SAVE_LOCATION)\n",
        "\n",
        "# Note: These need to be in the same as the columns used to train the model.\n",
        "required_geotiffs = [\n",
        "    'VPD', 'RH', 'PET', 'DEM', 'PA',\n",
        "    'Mean Annual Temperature','Mean Annual Precipitation',\n",
        "    'Iso_Oxi_Stack_mean_TERZER',\n",
        "    'isoscape_fullmodel_d18O_prec_REGRESSION',\n",
        "    'brisoscape_mean_ISORIX',\n",
        "    'd13C_cel_mean',\n",
        "    'd13C_cel_var',\n",
        "    'ordinary_kriging_linear_d18O_predicted_mean',\n",
        "    'ordinary_kriging_linear_d18O_predicted_variance']"
      ]
    },
    {
      "cell_type": "code",
      "execution_count": null,
      "metadata": {
        "id": "nLwdaqCq1rLl"
      },
      "outputs": [],
      "source": [
        "raster.generate_isoscapes_from_variational_model(\n",
        "    RUN_ID, vi_model, required_geotiffs, RESOLUTION[0], RESOLUTION[1])"
      ]
    },
    {
      "cell_type": "markdown",
      "source": [
        "# Rendering"
      ],
      "metadata": {
        "id": "LMKv4IbWQnxz"
      }
    },
    {
      "cell_type": "markdown",
      "source": [
        "## Means"
      ],
      "metadata": {
        "id": "WQmVp3uGQqTt"
      }
    },
    {
      "cell_type": "code",
      "source": [
        "means_anim = raster.animate(raster.load_raster(raster.get_raster_path(RUN_ID+\".tiff\"), use_only_band_index=0), 1, 1)\n",
        "means_anim"
      ],
      "metadata": {
        "id": "MwvBcQKeQAvg"
      },
      "execution_count": null,
      "outputs": []
    },
    {
      "cell_type": "markdown",
      "source": [
        "# Vars"
      ],
      "metadata": {
        "id": "LAlRDGX2Qr-P"
      }
    },
    {
      "cell_type": "code",
      "source": [
        "vars_anim = raster.animate(raster.load_raster(raster.get_raster_path(RUN_ID+\".tiff\"), use_only_band_index=1), 1, 1)\n",
        "vars_anim"
      ],
      "metadata": {
        "id": "bXUaqpt-Qs3E"
      },
      "execution_count": null,
      "outputs": []
    }
  ],
  "metadata": {
    "colab": {
      "machine_shape": "hm",
      "provenance": [],
      "include_colab_link": true
    },
    "kernelspec": {
      "display_name": "Python 3",
      "name": "python3"
    },
    "language_info": {
      "name": "python"
    }
  },
  "nbformat": 4,
  "nbformat_minor": 0
}