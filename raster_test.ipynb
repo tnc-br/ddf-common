{
  "cells": [
    {
      "cell_type": "markdown",
      "metadata": {
        "id": "view-in-github",
        "colab_type": "text"
      },
      "source": [
        "<a href=\"https://colab.research.google.com/github/tnc-br/ddf_common/blob/amazon_only/raster_test.ipynb\" target=\"_parent\"><img src=\"https://colab.research.google.com/assets/colab-badge.svg\" alt=\"Open In Colab\"/></a>"
      ]
    },
    {
      "cell_type": "code",
      "execution_count": null,
      "metadata": {
        "id": "7Ej4_QMnD-u_"
      },
      "outputs": [],
      "source": [
        "#@title Imports and modules.\n",
        "%pip install opencv-python\n",
        "%pip install matplotlib\n",
        "%pip install pandas\n",
        "\n",
        "from osgeo import gdal, gdal_array\n",
        "import numpy as np\n",
        "import matplotlib.pyplot as plt\n",
        "from dataclasses import dataclass\n",
        "import matplotlib.animation as animation\n",
        "from matplotlib import rc\n",
        "from typing import List\n",
        "from numpy.random import MT19937, RandomState, SeedSequence\n",
        "import pandas as pd\n",
        "from tqdm import tqdm\n",
        "from io import StringIO\n",
        "import xgboost as xgb\n",
        "import os\n",
        "import math\n",
        "import glob\n",
        "import tensorflow as tf\n",
        "import joblib\n",
        "\n",
        "rc('animation', html='jshtml')\n",
        "\n",
        "import sys\n",
        "!if [ ! -d \"/content/ddf_common_stub\" ] ; then git clone -b test https://github.com/tnc-br/ddf_common_stub.git; fi\n",
        "sys.path.append(\"/content/ddf_common_stub/\")\n",
        "import ddfimport\n",
        "ddfimport.ddf_source_control_pane()\n",
        "# ddfimport.ddf_import_common()"
      ]
    },
    {
      "cell_type": "code",
      "execution_count": null,
      "metadata": {
        "id": "yysZAYO4HhOR"
      },
      "outputs": [],
      "source": [
        "import model\n",
        "import raster\n",
        "import pytest\n",
        "import importlib\n",
        "\n",
        "importlib.reload(model)\n",
        "importlib.reload(raster)\n",
        "\n",
        "def fake_brazil_bounds():\n",
        "  return raster.Bounds(minx=-73.97513931345594,\n",
        "                       maxx=-34.808472803053895,\n",
        "                       miny=-33.73347244751509,\n",
        "                       maxy=5.266527396029211,\n",
        "                       pixel_size_x=0.04166666650042771,\n",
        "                       pixel_size_y=-0.041666666499513144,\n",
        "                       raster_size_x=937, raster_size_y=941)\n",
        "\n",
        "def test_coords_to_indices():\n",
        "  bounds = raster.Bounds(50, 100, 50, 100, 1, 1, 50, 50)\n",
        "  x, y = raster.coords_to_indices(bounds, 55, 55)\n",
        "  assert x == 45\n",
        "  assert y == 5\n",
        "\n",
        "  bounds = raster.Bounds(-100, -50, -100, -50, 1, 1, 50, 50)\n",
        "  x, y = raster.coords_to_indices(bounds, -55, -55)\n",
        "  assert x == 5\n",
        "  assert y == 45\n",
        "\n",
        "  bounds = raster.Bounds(-10, 50, -10, 50, 1, 1, 60, 60)\n",
        "  x, y = raster.coords_to_indices(bounds, -1, 13)\n",
        "  assert x == 37\n",
        "  assert y == 9\n",
        "\n",
        "  x, y = raster.coords_to_indices(fake_brazil_bounds(), -67.14342073173958, -7.273271869467912e-05)\n",
        "  assert x == 131 # was: 132\n",
        "  assert y == 163\n",
        "\n",
        "def test_mount_gdrive_local():\n",
        "  raster.GDRIVE_BASE = \"/content/gdrive\"\n",
        "  raster.mount_gdrive()\n",
        "  assert os.path.exists(raster.GDRIVE_BASE)\n",
        "\n",
        "def test_is_valid_point():\n",
        "  assert(not raster.is_valid_point(0, 0,\n",
        "                                   raster.atmosphere_isoscape_geotiff()))\n",
        "  assert(raster.is_valid_point(-2.5, -59,\n",
        "                                   raster.atmosphere_isoscape_geotiff()))\n",
        "\n",
        "def test_gen_isoscape():\n",
        "  model_path = \"/content/gdrive/MyDrive/amazon_rainforest_files/variational/model/unit_tests/test_model.tf\"\n",
        "  transformer_path = \"/content/gdrive/MyDrive/amazon_rainforest_files/variational/model/unit_tests/test_model.pkl\"\n",
        "  vi_model = model.TFModel(model_path, transformer_path)\n",
        "\n",
        "  required_geotiffs = [\"Mean Annual Precipitation\"]\n",
        "  run_id = 'raster_unit_test'\n",
        "\n",
        "  raster.generate_isoscapes_from_variational_model(vi_model, required_geotiffs, res_x=235, res_y=235, output_geotiff=run_id)\n",
        "\n",
        "  generated_means_raster = raster.load_raster(raster.get_raster_path(run_id+\".tiff\"), use_only_band_index=0)\n",
        "  assert 25.29 == pytest.approx(generated_means_raster.value_at(-59, -2.5), 0.01)\n",
        "  assert(not raster.is_valid_point(0, 0, generated_means_raster))\n",
        "\n",
        "  generated_vars_raster = raster.load_raster(raster.get_raster_path(run_id+\".tiff\"), use_only_band_index=1)\n",
        "\n",
        "  assert 1.54 == pytest.approx(generated_vars_raster.value_at(-59, -2.5), 0.01)\n",
        "  assert(not raster.is_valid_point(0, 0, generated_vars_raster))\n",
        "\n",
        "  assert 26.5 == pytest.approx(generated_means_raster.value_at(-50, -20), 0.01)\n",
        "\n",
        "  anim = raster.animate(raster.load_raster(raster.get_raster_path(run_id+\".tiff\"), use_only_band_index=0), 1, 1)\n",
        "  anim\n",
        "\n",
        "def test_gen_isoscape_amazon_only():\n",
        "  model_path = \"/content/gdrive/MyDrive/amazon_rainforest_files/variational/model/unit_tests/test_model.tf\"\n",
        "  transformer_path = \"/content/gdrive/MyDrive/amazon_rainforest_files/variational/model/unit_tests/test_model.pkl\"\n",
        "  vi_model = model.TFModel(model_path, transformer_path)\n",
        "\n",
        "  required_geotiffs = [\"Mean Annual Precipitation\"]\n",
        "  run_id = 'raster_unit_test_amazon_only'\n",
        "\n",
        "  raster.generate_isoscapes_from_variational_model(vi_model, required_geotiffs, res_x=180, res_y=100, output_geotiff=run_id, amazon_only=True)\n",
        "\n",
        "  generated_means_raster = raster.load_raster(raster.get_raster_path(run_id+\".tiff\"), use_only_band_index=0)\n",
        "  assert 25.29 == pytest.approx(generated_means_raster.value_at(-59, -2.5), 0.01)\n",
        "  assert(not raster.is_valid_point(0, 0, generated_means_raster))\n",
        "\n",
        "  generated_vars_raster = raster.load_raster(raster.get_raster_path(run_id+\".tiff\"), use_only_band_index=1)\n",
        "  assert 1.54 == pytest.approx(generated_vars_raster.value_at(-59, -2.5), 0.01)\n",
        "  assert(not raster.is_valid_point(0, 0, generated_vars_raster))\n",
        "\n",
        "  # The following points are present in the Brazil raster, but should not be\n",
        "  # present in the Amazon raster.\n",
        "  assert(not raster.is_valid_point(-50, -20, generated_means_raster))\n",
        "  assert(not raster.is_valid_point(-35, -6, generated_means_raster))\n",
        "  assert(not raster.is_valid_point(-50, -20, generated_vars_raster))\n",
        "  assert(not raster.is_valid_point(-35, -6, generated_vars_raster))\n",
        "\n",
        "def test_create_bounds_from_res():\n",
        "  # Create 100p image from the fake brazil bounds\n",
        "  new_bounds = raster.create_bounds_from_res(100, 200, fake_brazil_bounds())\n",
        "\n",
        "  # Boundaries should remain the same.\n",
        "  assert(new_bounds.minx == fake_brazil_bounds().minx)\n",
        "  assert(new_bounds.maxx == fake_brazil_bounds().maxx)\n",
        "  assert(new_bounds.miny == fake_brazil_bounds().miny)\n",
        "  assert(new_bounds.maxy == fake_brazil_bounds().maxy)\n",
        "\n",
        "  # Pixel size should change.\n",
        "  assert 0.39 == pytest.approx(new_bounds.pixel_size_x, 0.1)\n",
        "  assert -0.19 == pytest.approx(new_bounds.pixel_size_y, 0.1)\n",
        "\n",
        "  # Number of pixels should change.\n",
        "  assert (new_bounds.raster_size_x == 100)\n",
        "  assert (new_bounds.raster_size_y == 200)\n",
        "\n",
        "\n",
        "test_coords_to_indices()\n",
        "test_is_valid_point()\n",
        "test_mount_gdrive_local()\n",
        "test_gen_isoscape()\n",
        "test_gen_isoscape_amazon_only()\n",
        "test_create_bounds_from_res()"
      ]
    },
    {
      "cell_type": "markdown",
      "source": [
        "#Stamp isoscape"
      ],
      "metadata": {
        "id": "YBsPvC_g8cZ2"
      }
    },
    {
      "cell_type": "code",
      "source": [
        "filename = \"/content/gdrive/Shared drives/TNC Fellowship 🌳/4. Isotope Research & Signals/code/amazon_rainforest_files/amazon_rasters/variational/ensemble_with_carbon_brisoisorix/fixed_isorix_carbon_ensemble.tiff\" #@param"
      ],
      "metadata": {
        "id": "ehHGHgEi8bDW"
      },
      "execution_count": 9,
      "outputs": []
    },
    {
      "cell_type": "code",
      "source": [
        "raster.show_stamps(filename)"
      ],
      "metadata": {
        "id": "TXtyvU8b9odb"
      },
      "execution_count": null,
      "outputs": []
    },
    {
      "cell_type": "code",
      "source": [
        "metadata_name = \"TEST\"\n",
        "metadata_value = 0.55\n",
        "raster.stamp_isoscape(filename, metadata_name, metadata_value)"
      ],
      "metadata": {
        "id": "bcdgVRzn9b-L"
      },
      "execution_count": null,
      "outputs": []
    },
    {
      "cell_type": "code",
      "source": [
        "raster.show_stamps(filename)"
      ],
      "metadata": {
        "id": "zTpgGXCN94u_"
      },
      "execution_count": null,
      "outputs": []
    },
    {
      "cell_type": "code",
      "source": [
        "metadata_name = \"TEST\""
      ],
      "metadata": {
        "id": "2vPrjn8X9_ZE"
      },
      "execution_count": null,
      "outputs": []
    },
    {
      "cell_type": "code",
      "source": [
        "raster.del_stamp(filename, metadata_name)"
      ],
      "metadata": {
        "id": "Qh2x5c1r9cR_"
      },
      "execution_count": null,
      "outputs": []
    },
    {
      "cell_type": "code",
      "source": [
        "raster.show_stamps(filename)"
      ],
      "metadata": {
        "id": "Rg6rvKaA-Fo0"
      },
      "execution_count": null,
      "outputs": []
    }
  ],
  "metadata": {
    "colab": {
      "provenance": [],
      "include_colab_link": true
    },
    "kernelspec": {
      "display_name": "Python 3",
      "name": "python3"
    },
    "language_info": {
      "name": "python"
    }
  },
  "nbformat": 4,
  "nbformat_minor": 0
}