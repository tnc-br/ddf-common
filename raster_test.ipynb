{
  "nbformat": 4,
  "nbformat_minor": 0,
  "metadata": {
    "colab": {
      "provenance": [],
      "authorship_tag": "ABX9TyNm/haWtDHsTK+5Q8p8jmFO",
      "include_colab_link": true
    },
    "kernelspec": {
      "name": "python3",
      "display_name": "Python 3"
    },
    "language_info": {
      "name": "python"
    }
  },
  "cells": [
    {
      "cell_type": "markdown",
      "metadata": {
        "id": "view-in-github",
        "colab_type": "text"
      },
      "source": [
        "<a href=\"https://colab.research.google.com/github/tnc-br/ddf_common/blob/indeterminate/raster_test.ipynb\" target=\"_parent\"><img src=\"https://colab.research.google.com/assets/colab-badge.svg\" alt=\"Open In Colab\"/></a>"
      ]
    },
    {
      "cell_type": "code",
      "execution_count": null,
      "metadata": {
        "id": "7Ej4_QMnD-u_"
      },
      "outputs": [],
      "source": [
        "#@title Imports and modules.\n",
        "%pip install opencv-python\n",
        "%pip install matplotlib\n",
        "%pip install pandas\n",
        "\n",
        "from osgeo import gdal, gdal_array\n",
        "import numpy as np\n",
        "import matplotlib.pyplot as plt\n",
        "from dataclasses import dataclass\n",
        "import matplotlib.animation as animation\n",
        "from matplotlib import rc\n",
        "from typing import List\n",
        "from numpy.random import MT19937, RandomState, SeedSequence\n",
        "import pandas as pd\n",
        "from tqdm import tqdm\n",
        "from io import StringIO\n",
        "import xgboost as xgb\n",
        "import os\n",
        "import math\n",
        "import glob\n",
        "\n",
        "rc('animation', html='jshtml')\n",
        "\n",
        "import sys\n",
        "!if [ ! -d \"/content/ddf_common_stub\" ] ; then git clone -b test https://github.com/tnc-br/ddf_common_stub.git; fi\n",
        "sys.path.append(\"/content/ddf_common_stub/\")\n",
        "import ddfimport\n",
        "ddfimport.ddf_source_control_pane()\n",
        "# ddfimport.ddf_import_common()"
      ]
    },
    {
      "cell_type": "code",
      "source": [
        "import raster\n",
        "import importlib\n",
        "\n",
        "importlib.reload(raster)\n",
        "\n",
        "def test_coords_to_indices():\n",
        "  bounds = raster.Bounds(50, 100, 50, 100, 1, 1, 50, 50)\n",
        "  x, y = raster.coords_to_indices(bounds, 55, 55)\n",
        "  assert x == 45\n",
        "  assert y == 5\n",
        "\n",
        "  bounds = raster.Bounds(-100, -50, -100, -50, 1, 1, 50, 50)\n",
        "  x, y = raster.coords_to_indices(bounds, -55, -55)\n",
        "  assert x == 5\n",
        "  assert y == 45\n",
        "\n",
        "  bounds = raster.Bounds(-10, 50, -10, 50, 1, 1, 60, 60)\n",
        "  x, y = raster.coords_to_indices(bounds, -1, 13)\n",
        "  assert x == 37\n",
        "  assert y == 9\n",
        "\n",
        "  bounds = raster.Bounds(minx=-73.97513931345594, maxx=-34.808472803053895, miny=-33.73347244751509, maxy=5.266527396029211, pixel_size_x=0.04166666650042771, pixel_size_y=-0.041666666499513144, raster_size_x=937, raster_size_y=941)\n",
        "  x, y = raster.coords_to_indices(bounds, -67.14342073173958, -7.273271869467912e-05)\n",
        "  #print(x)\n",
        "  assert x == 131 # was: 132\n",
        "  assert y == 163\n",
        "\n",
        "def test_mount_gdrive_local():\n",
        "  raster.GDRIVE_BASE = \"/content/mygdrive\"\n",
        "  raster.mount_gdrive()\n",
        "  assert os.path.exists(raster.GDRIVE_BASE)\n",
        "\n",
        "def test_is_valid_point():\n",
        "  assert(not raster.is_valid_point(0, 0,\n",
        "                                   raster.atmosphere_isoscape_geotiff()))\n",
        "  assert(raster.is_valid_point(-2.5, -59,\n",
        "                                   raster.atmosphere_isoscape_geotiff()))\n",
        "\n",
        "\n",
        "test_coords_to_indices()\n",
        "test_mount_gdrive_local()\n"
      ],
      "metadata": {
        "id": "yysZAYO4HhOR"
      },
      "execution_count": 5,
      "outputs": []
    }
  ]
}