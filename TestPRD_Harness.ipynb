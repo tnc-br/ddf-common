{
  "nbformat": 4,
  "nbformat_minor": 0,
  "metadata": {
    "colab": {
      "provenance": [],
      "authorship_tag": "ABX9TyMUPybdcIrsL5cQ4FptacYF",
      "include_colab_link": true
    },
    "kernelspec": {
      "name": "python3",
      "display_name": "Python 3"
    },
    "language_info": {
      "name": "python"
    }
  },
  "cells": [
    {
      "cell_type": "markdown",
      "metadata": {
        "id": "view-in-github",
        "colab_type": "text"
      },
      "source": [
        "<a href=\"https://colab.research.google.com/github/tnc-br/ddf_common/blob/FirestoreTest/TestPRD_Harness.ipynb\" target=\"_parent\"><img src=\"https://colab.research.google.com/assets/colab-badge.svg\" alt=\"Open In Colab\"/></a>"
      ]
    },
    {
      "cell_type": "code",
      "source": [
        "# This stub (ddfimport) allows the Ddf EE API to be imported.\n",
        "import sys\n",
        "!if [ ! -d \"/content/ddf_common_stub\" ] ; then git clone -b test https://github.com/tnc-br/ddf_common_stub.git; fi\n",
        "sys.path.append(\"/content/ddf_common_stub/\")\n",
        "import ddfimport\n",
        "\n",
        "# Use this line to import from a branch of the github repository.\n",
        "# It will git clone the git repository under a google drive path.\n",
        "# This allows you to modify the source files by opening the file view and\n",
        "# changing files under /content/gdrive/MyDrive/\n",
        "ddfimport.ddf_source_control_pane()\n"
      ],
      "metadata": {
        "id": "FRDfq4dEXPsL"
      },
      "execution_count": null,
      "outputs": []
    },
    {
      "cell_type": "code",
      "execution_count": 3,
      "metadata": {
        "colab": {
          "base_uri": "https://localhost:8080/"
        },
        "id": "un5b1WDETpgI",
        "outputId": "a8790295-bbf9-4264-8498-e2bfc1e4617f"
      },
      "outputs": [
        {
          "output_type": "execute_result",
          "data": {
            "text/plain": [
              "update_time {\n",
              "  seconds: 1716567310\n",
              "  nanos: 175951000\n",
              "}"
            ]
          },
          "metadata": {},
          "execution_count": 3
        }
      ],
      "source": [
        "import firebase_admin\n",
        "from firebase_admin import credentials\n",
        "from firebase_admin import firestore\n",
        "import os\n",
        "\n",
        "# open https://pantheon.corp.google.com/iam-admin/serviceaccounts/details/101022385268487960539?project=timberid-prd&supportedpurview=project\n",
        "# to obtain a json key file and place it in your Drive folder in the path indicated below\n",
        "os.environ[\"GOOGLE_APPLICATION_CREDENTIALS\"]=\"/content/gdrive/MyDrive/Harness/timberid-prd-key.json\"\n",
        "cred = credentials.ApplicationDefault()\n",
        "\n",
        "firebase_admin.initialize_app(cred)\n",
        "db = firestore.client()\n",
        "\n",
        "# TODO: Here is where we need to set data for a new Test Sample\n",
        "# See https://firebase.corp.google.com/u/0/project/timberid-prd/firestore/databases/-default-/data/~2Fusers~2Falovelace\n",
        "doc_ref = db.collection(\"users\").document(\"alovelace\")\n",
        "doc_ref.set({\"first\": \"Ada\", \"last\": \"Lovelace\", \"born\": 1815})\n",
        "\n",
        "# TODO: Wait...\n",
        "\n",
        "# TODO: and read result\n"
      ]
    }
  ]
}