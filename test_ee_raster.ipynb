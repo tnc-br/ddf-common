{
  "nbformat": 4,
  "nbformat_minor": 0,
  "metadata": {
    "colab": {
      "provenance": [],
      "authorship_tag": "ABX9TyObe2nnWKgGzE7LCrXdBeSa",
      "include_colab_link": true
    },
    "kernelspec": {
      "name": "python3",
      "display_name": "Python 3"
    },
    "language_info": {
      "name": "python"
    }
  },
  "cells": [
    {
      "cell_type": "markdown",
      "metadata": {
        "id": "view-in-github",
        "colab_type": "text"
      },
      "source": [
        "<a href=\"https://colab.research.google.com/github/tnc-br/ddf_common/blob/ee_raster/test_ee_raster.ipynb\" target=\"_parent\"><img src=\"https://colab.research.google.com/assets/colab-badge.svg\" alt=\"Open In Colab\"/></a>"
      ]
    },
    {
      "cell_type": "code",
      "source": [
        "import sys\n",
        "!if [ ! -d \"/content/ddf_common_stub\" ] ; then git clone -b test https://github.com/tnc-br/ddf_common_stub.git; fi\n",
        "sys.path.append(\"/content/ddf_common_stub/\")\n",
        "import ddfimport\n",
        "ddfimport.ddf_source_control_pane()\n",
        "# ddfimport.ddf_import_common()\n"
      ],
      "metadata": {
        "id": "xV--VZujfe62"
      },
      "execution_count": null,
      "outputs": []
    },
    {
      "cell_type": "code",
      "source": [
        "import importlib\n",
        "import eeddf\n",
        "importlib.reload(eeddf)\n",
        "import eeraster\n",
        "importlib.reload(eeraster)\n",
        "import numpy as np\n",
        "import time\n",
        "\n",
        "\n",
        "# Brazil national territory extends 4,395 kilometers (2,731 mi) from north to\n",
        "# south (5°16'20\" N to 33°44'32\" S latitude), and 4,319 kilometers (2,684 mi)\n",
        "# from east to west (34°47'30\" W to 73°59'32\" W longitude)\n",
        "\n",
        "def simple_dem_raster_query_latlon():\n",
        "  value = eeraster.eeRaster.dem().value_at(-10.0, -50.0)\n",
        "  print(value)\n",
        "  assert(value > 0)\n",
        "\n",
        "def simple_dem_raster_query_latlon_int64():\n",
        "  value = eeraster.eeRaster.dem().value_at(-10, -50)\n",
        "  print(value)\n",
        "  assert(value > 0)\n",
        "\n",
        "def water_dem_raster_query_latlon():\n",
        "  value = eeraster.eeRaster.dem().value_at(-20.0, -40.0)\n",
        "  print(value)\n",
        "  assert(np.isnan(value))\n",
        "\n",
        "def list_dem_raster_query_latlon_int64():\n",
        "  values = eeraster.eeRaster.dem().values_at([[-10, -50], [-9.5, -50], [-9.5, -40], [-10, -30]])\n",
        "  print(values)\n",
        "  assert(len(values) > 0)\n",
        "  assert(values[0] > 0)\n",
        "  assert(values[1] > 0)\n",
        "  assert(values[2] > 0)\n",
        "  assert(np.isnan(values[3]))\n",
        "\n",
        "def ee_performance():\n",
        "  #-8,-35 to -8,-75\n",
        "  start_time = time.time()\n",
        "\n",
        "  coords = [(-8.0, n) for n in np.arange(-75.0, -35.0, 0.05)]\n",
        "  print(\"sending batch of coords of size, \", len(coords))\n",
        "  values = eeraster.eeRaster.dem().values_at(coords)\n",
        "  end_time = time.time()\n",
        "  total_time = end_time - start_time\n",
        "  print(f\"Total time: {total_time:.2f} seconds\")\n",
        "  print(f\"Throughput: {len(coords) / total_time:.2f} qps\")\n",
        "\n",
        "\n",
        "simple_dem_raster_query_latlon()\n",
        "simple_dem_raster_query_latlon_int64()\n",
        "list_dem_raster_query_latlon_int64()\n",
        "water_dem_raster_query_latlon()\n",
        "ee_performance()\n",
        "\n"
      ],
      "metadata": {
        "colab": {
          "base_uri": "https://localhost:8080/"
        },
        "id": "Nbn5shXqhge-",
        "outputId": "cac29e70-0be7-4055-bf40-660f24d078f8"
      },
      "execution_count": 34,
      "outputs": [
        {
          "output_type": "stream",
          "name": "stdout",
          "text": [
            "168.5\n",
            "168.5\n",
            "[168.5, 163.92420959472656, 452.7209777832031, nan]\n",
            "nan\n",
            "sending batch of coords of size,  800\n",
            "Total time: 9.41 seconds\n",
            "Throughput: 85.04 qps\n"
          ]
        }
      ]
    }
  ]
}