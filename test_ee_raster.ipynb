{
  "nbformat": 4,
  "nbformat_minor": 0,
  "metadata": {
    "colab": {
      "provenance": [],
      "authorship_tag": "ABX9TyNcCqAjRjcbj6arCUJ43Eg5",
      "include_colab_link": true
    },
    "kernelspec": {
      "name": "python3",
      "display_name": "Python 3"
    },
    "language_info": {
      "name": "python"
    }
  },
  "cells": [
    {
      "cell_type": "markdown",
      "metadata": {
        "id": "view-in-github",
        "colab_type": "text"
      },
      "source": [
        "<a href=\"https://colab.research.google.com/github/tnc-br/ddf_common/blob/ee_raster/test_ee_raster.ipynb\" target=\"_parent\"><img src=\"https://colab.research.google.com/assets/colab-badge.svg\" alt=\"Open In Colab\"/></a>"
      ]
    },
    {
      "cell_type": "code",
      "source": [
        "import sys\n",
        "!if [ ! -d \"/content/ddf_common_stub\" ] ; then git clone -b test https://github.com/tnc-br/ddf_common_stub.git; fi\n",
        "sys.path.append(\"/content/ddf_common_stub/\")\n",
        "import ddfimport\n",
        "ddfimport.ddf_source_control_pane()\n",
        "# ddfimport.ddf_import_common()\n"
      ],
      "metadata": {
        "id": "xV--VZujfe62"
      },
      "execution_count": null,
      "outputs": []
    },
    {
      "cell_type": "code",
      "source": [
        "import importlib\n",
        "import eeddf\n",
        "importlib.reload(eeddf)\n",
        "import raster\n",
        "importlib.reload(raster)\n",
        "import eeraster\n",
        "importlib.reload(eeraster)\n",
        "import dataset\n",
        "importlib.reload(dataset)\n",
        "import numpy as np\n",
        "import time\n",
        "\n",
        "\n",
        "# Brazil national territory extends 4,395 kilometers (2,731 mi) from north to\n",
        "# south (5°16'20\" N to 33°44'32\" S latitude), and 4,319 kilometers (2,684 mi)\n",
        "# from east to west (34°47'30\" W to 73°59'32\" W longitude)\n",
        "\n",
        "def simple_dem_raster_query_latlon():\n",
        "  value = eeraster.dem().value_at(-50.0, -10.0)\n",
        "  print(value)\n",
        "  assert(value > 0)\n",
        "\n",
        "def simple_dem_raster_query_latlon_int64():\n",
        "  value = eeraster.dem().value_at(-50, -10)\n",
        "  print(value)\n",
        "  assert(value > 0)\n",
        "\n",
        "def water_dem_raster_query_latlon():\n",
        "  value = eeraster.dem().value_at(-40.0, -20.0)\n",
        "  print(value)\n",
        "  assert(np.isnan(value))\n",
        "\n",
        "def list_dem_raster_query_latlon_int64():\n",
        "  values = eeraster.dem().values_at([[-50, -10], [-50, -9.5], [-40, -9.5], [-30, -10]])\n",
        "  print(values)\n",
        "  assert(len(values) > 0)\n",
        "  assert(values[0] > 0)\n",
        "  assert(values[1] > 0)\n",
        "  assert(values[2] > 0)\n",
        "  assert(np.isnan(values[3]))\n",
        "\n",
        "def ee_performance():\n",
        "  #-8,-35 to -8,-75\n",
        "  start_time = time.time()\n",
        "\n",
        "  coords = [(n, -8.0) for n in np.arange(-75.0, -35.0, 0.01)]\n",
        "  print(\"sending batch of coords of size, \", len(coords))\n",
        "  values = eeraster.dem().values_at(coords)\n",
        "  assert(len(values) == len(coords))\n",
        "\n",
        "  end_time = time.time()\n",
        "  total_time = end_time - start_time\n",
        "  print(f\"Total time: {total_time:.2f} seconds\")\n",
        "  print(f\"Throughput: {len(coords) / total_time:.2f} qps\")\n",
        "\n",
        "def reference_sample_feature_test():\n",
        "  ref_samples = dataset.load_reference_samples()\n",
        "  print(ref_samples.head())\n",
        "  print(\"************* Loading DEM ******************\")\n",
        "  df = eeraster.dem().values_at_df(ref_samples, \"dem\")\n",
        "  print(df.head())\n",
        "\n",
        "def performance_xtreme_test():\n",
        "  eeraster.set_ee_options(parallel_ops=40, chunk_size=120)\n",
        "  #-8,-35 to -8,-75\n",
        "  start_time = time.time()\n",
        "\n",
        "  coords = [(n, -8.0) for n in np.arange(-75.0, -35.0, 0.01)]\n",
        "  print(\"sending batch of coords of size, \", len(coords))\n",
        "  values = eeraster.dem().values_at(coords)\n",
        "  assert(len(values) == len(coords))\n",
        "\n",
        "  end_time = time.time()\n",
        "  total_time = end_time - start_time\n",
        "  print(f\"Total time: {total_time:.2f} seconds\")\n",
        "  print(f\"Throughput: {len(coords) / total_time:.2f} qps\")\n",
        "  eeraster.set_ee_options(parallel_ops=30, chunk_size=80)\n",
        "\n",
        "\n",
        "simple_dem_raster_query_latlon()\n",
        "simple_dem_raster_query_latlon_int64()\n",
        "list_dem_raster_query_latlon_int64()\n",
        "water_dem_raster_query_latlon()\n",
        "ee_performance()\n",
        "reference_sample_feature_test()\n",
        "performance_xtreme_test()\n"
      ],
      "metadata": {
        "colab": {
          "base_uri": "https://localhost:8080/"
        },
        "id": "Nbn5shXqhge-",
        "outputId": "df93eff6-65f8-4ffa-e1bf-5bd2db166238"
      },
      "execution_count": 4,
      "outputs": [
        {
          "output_type": "stream",
          "name": "stdout",
          "text": [
            "168.5\n",
            "168.5\n",
            "[168.5, 163.92420959472656, 452.7209777832031, nan]\n",
            "nan\n",
            "sending batch of coords of size,  4000\n",
            "Total time: 5.01 seconds\n",
            "Throughput: 798.48 qps\n",
            "     code  code_lab d13c_wood d18o_cel mean_annual_precipitation  \\\n",
            "0  mad589  ZAC 1335     -26.5    27.05                      1593   \n",
            "1  mad589  ZAC 1338     -27.9    26.73                      1593   \n",
            "2  mad589  ZAC 1339     -28.2    27.18                      1593   \n",
            "3  mad589  ZAC 1337       -28    28.55                      1593   \n",
            "4  mad589  ZAC 1336       -28    27.66                      1593   \n",
            "\n",
            "  mean_annual_temperature      vpd      lat     long  \n",
            "0                25.06667  0.99167 -13.0813 -52.3771  \n",
            "1                25.06667  0.99167 -13.0813 -52.3771  \n",
            "2                25.06667  0.99167 -13.0813 -52.3771  \n",
            "3                25.06667  0.99167 -13.0813 -52.3771  \n",
            "4                25.06667  0.99167 -13.0813 -52.3771  \n",
            "************* Loading DEM ******************\n",
            "     code  code_lab d13c_wood d18o_cel mean_annual_precipitation  \\\n",
            "0  mad589  ZAC 1335     -26.5    27.05                      1593   \n",
            "1  mad589  ZAC 1335     -26.5    27.05                      1593   \n",
            "2  mad589  ZAC 1335     -26.5    27.05                      1593   \n",
            "3  mad589  ZAC 1335     -26.5    27.05                      1593   \n",
            "4  mad589  ZAC 1335     -26.5    27.05                      1593   \n",
            "\n",
            "  mean_annual_temperature      vpd      lat     long         dem  \n",
            "0                25.06667  0.99167 -13.0813 -52.3771  394.474731  \n",
            "1                25.06667  0.99167 -13.0813 -52.3771  394.474731  \n",
            "2                25.06667  0.99167 -13.0813 -52.3771  394.474731  \n",
            "3                25.06667  0.99167 -13.0813 -52.3771  394.474731  \n",
            "4                25.06667  0.99167 -13.0813 -52.3771  394.474731  \n",
            "sending batch of coords of size,  4000\n",
            "Total time: 4.47 seconds\n",
            "Throughput: 894.73 qps\n"
          ]
        }
      ]
    },
    {
      "cell_type": "code",
      "source": [],
      "metadata": {
        "id": "9vhNVeNRGnej"
      },
      "execution_count": null,
      "outputs": []
    }
  ]
}