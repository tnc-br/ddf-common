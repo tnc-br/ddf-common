{
  "nbformat": 4,
  "nbformat_minor": 0,
  "metadata": {
    "colab": {
      "provenance": [],
      "authorship_tag": "ABX9TyP4DUpR+LWk2pekb8Xg9qlJ",
      "include_colab_link": true
    },
    "kernelspec": {
      "name": "python3",
      "display_name": "Python 3"
    },
    "language_info": {
      "name": "python"
    },
    "widgets": {
      "application/vnd.jupyter.widget-state+json": {
        "4821a6e9425449709dd15e4013120e5a": {
          "model_module": "@jupyter-widgets/controls",
          "model_name": "VBoxModel",
          "model_module_version": "1.5.0",
          "state": {
            "_dom_classes": [
              "widget-interact"
            ],
            "_model_module": "@jupyter-widgets/controls",
            "_model_module_version": "1.5.0",
            "_model_name": "VBoxModel",
            "_view_count": null,
            "_view_module": "@jupyter-widgets/controls",
            "_view_module_version": "1.5.0",
            "_view_name": "VBoxView",
            "box_style": "",
            "children": [
              "IPY_MODEL_bfa5f21ef1834926a30d163e5126255c",
              "IPY_MODEL_1aa4d110391244b2aa386c5d88a1e5cc",
              "IPY_MODEL_09826e0423d44367a604984446fc7ba4",
              "IPY_MODEL_346928700e954c68b32970068a84983a"
            ],
            "layout": "IPY_MODEL_a0d763b4e894451abc38cfd12dce8ea6"
          }
        },
        "bfa5f21ef1834926a30d163e5126255c": {
          "model_module": "@jupyter-widgets/controls",
          "model_name": "TextModel",
          "model_module_version": "1.5.0",
          "state": {
            "_dom_classes": [],
            "_model_module": "@jupyter-widgets/controls",
            "_model_module_version": "1.5.0",
            "_model_name": "TextModel",
            "_view_count": null,
            "_view_module": "@jupyter-widgets/controls",
            "_view_module_version": "1.5.0",
            "_view_name": "TextView",
            "continuous_update": true,
            "description": "Email",
            "description_tooltip": null,
            "disabled": false,
            "layout": "IPY_MODEL_9b39985b673c420fbf6bdb94272cbc95",
            "placeholder": "Enter email",
            "style": "IPY_MODEL_275ad708015c4123980dbc3e34b2857f",
            "value": "luis061997@gmail.com"
          }
        },
        "1aa4d110391244b2aa386c5d88a1e5cc": {
          "model_module": "@jupyter-widgets/controls",
          "model_name": "TextModel",
          "model_module_version": "1.5.0",
          "state": {
            "_dom_classes": [],
            "_model_module": "@jupyter-widgets/controls",
            "_model_module_version": "1.5.0",
            "_model_name": "TextModel",
            "_view_count": null,
            "_view_module": "@jupyter-widgets/controls",
            "_view_module_version": "1.5.0",
            "_view_name": "TextView",
            "continuous_update": true,
            "description": "Branch name",
            "description_tooltip": null,
            "disabled": false,
            "layout": "IPY_MODEL_bcfcd11e6371401ba44c7cabf2a281e6",
            "placeholder": "Enter branch name",
            "style": "IPY_MODEL_6c3d59ecf7af473d8a80c66c9e9eb735",
            "value": "combine_p_values"
          }
        },
        "09826e0423d44367a604984446fc7ba4": {
          "model_module": "@jupyter-widgets/controls",
          "model_name": "ButtonModel",
          "model_module_version": "1.5.0",
          "state": {
            "_dom_classes": [],
            "_model_module": "@jupyter-widgets/controls",
            "_model_module_version": "1.5.0",
            "_model_name": "ButtonModel",
            "_view_count": null,
            "_view_module": "@jupyter-widgets/controls",
            "_view_module_version": "1.5.0",
            "_view_name": "ButtonView",
            "button_style": "",
            "description": "Checkout Code",
            "disabled": false,
            "icon": "",
            "layout": "IPY_MODEL_624901a872c4430bb0f14083044d4ae7",
            "style": "IPY_MODEL_f09d479241a647b5b25da19c628c0347",
            "tooltip": ""
          }
        },
        "346928700e954c68b32970068a84983a": {
          "model_module": "@jupyter-widgets/output",
          "model_name": "OutputModel",
          "model_module_version": "1.0.0",
          "state": {
            "_dom_classes": [],
            "_model_module": "@jupyter-widgets/output",
            "_model_module_version": "1.0.0",
            "_model_name": "OutputModel",
            "_view_count": null,
            "_view_module": "@jupyter-widgets/output",
            "_view_module_version": "1.0.0",
            "_view_name": "OutputView",
            "layout": "IPY_MODEL_bb7995edb6b44ca7a9f5c686e51ba0c8",
            "msg_id": "",
            "outputs": [
              {
                "output_type": "stream",
                "name": "stdout",
                "text": [
                  "Mounted at /content/gdrive\n"
                ]
              },
              {
                "output_type": "stream",
                "name": "stdout",
                "text": [
                  "b''\n"
                ]
              },
              {
                "output_type": "stream",
                "name": "stdout",
                "text": [
                  "b'Already up to date.\\n'\n",
                  "b''\n",
                  "combine_p_values branch checked out at \"/content/gdrive/MyDrive/combine_p_values/ddf_common\". You may now use ddf_common imports and change common files.\n"
                ]
              },
              {
                "output_type": "display_data",
                "data": {
                  "text/plain": "interactive(children=(Text(value='required', description='Commit Msg', placeholder='Enter commit message'), Bu…",
                  "application/vnd.jupyter.widget-view+json": {
                    "version_major": 2,
                    "version_minor": 0,
                    "model_id": "0e080f30c536499bbfa48300a42aa860"
                  }
                },
                "metadata": {}
              }
            ]
          }
        },
        "a0d763b4e894451abc38cfd12dce8ea6": {
          "model_module": "@jupyter-widgets/base",
          "model_name": "LayoutModel",
          "model_module_version": "1.2.0",
          "state": {
            "_model_module": "@jupyter-widgets/base",
            "_model_module_version": "1.2.0",
            "_model_name": "LayoutModel",
            "_view_count": null,
            "_view_module": "@jupyter-widgets/base",
            "_view_module_version": "1.2.0",
            "_view_name": "LayoutView",
            "align_content": null,
            "align_items": null,
            "align_self": null,
            "border": null,
            "bottom": null,
            "display": null,
            "flex": null,
            "flex_flow": null,
            "grid_area": null,
            "grid_auto_columns": null,
            "grid_auto_flow": null,
            "grid_auto_rows": null,
            "grid_column": null,
            "grid_gap": null,
            "grid_row": null,
            "grid_template_areas": null,
            "grid_template_columns": null,
            "grid_template_rows": null,
            "height": null,
            "justify_content": null,
            "justify_items": null,
            "left": null,
            "margin": null,
            "max_height": null,
            "max_width": null,
            "min_height": null,
            "min_width": null,
            "object_fit": null,
            "object_position": null,
            "order": null,
            "overflow": null,
            "overflow_x": null,
            "overflow_y": null,
            "padding": null,
            "right": null,
            "top": null,
            "visibility": null,
            "width": null
          }
        },
        "9b39985b673c420fbf6bdb94272cbc95": {
          "model_module": "@jupyter-widgets/base",
          "model_name": "LayoutModel",
          "model_module_version": "1.2.0",
          "state": {
            "_model_module": "@jupyter-widgets/base",
            "_model_module_version": "1.2.0",
            "_model_name": "LayoutModel",
            "_view_count": null,
            "_view_module": "@jupyter-widgets/base",
            "_view_module_version": "1.2.0",
            "_view_name": "LayoutView",
            "align_content": null,
            "align_items": null,
            "align_self": null,
            "border": null,
            "bottom": null,
            "display": null,
            "flex": null,
            "flex_flow": null,
            "grid_area": null,
            "grid_auto_columns": null,
            "grid_auto_flow": null,
            "grid_auto_rows": null,
            "grid_column": null,
            "grid_gap": null,
            "grid_row": null,
            "grid_template_areas": null,
            "grid_template_columns": null,
            "grid_template_rows": null,
            "height": null,
            "justify_content": null,
            "justify_items": null,
            "left": null,
            "margin": null,
            "max_height": null,
            "max_width": null,
            "min_height": null,
            "min_width": null,
            "object_fit": null,
            "object_position": null,
            "order": null,
            "overflow": null,
            "overflow_x": null,
            "overflow_y": null,
            "padding": null,
            "right": null,
            "top": null,
            "visibility": null,
            "width": null
          }
        },
        "275ad708015c4123980dbc3e34b2857f": {
          "model_module": "@jupyter-widgets/controls",
          "model_name": "DescriptionStyleModel",
          "model_module_version": "1.5.0",
          "state": {
            "_model_module": "@jupyter-widgets/controls",
            "_model_module_version": "1.5.0",
            "_model_name": "DescriptionStyleModel",
            "_view_count": null,
            "_view_module": "@jupyter-widgets/base",
            "_view_module_version": "1.2.0",
            "_view_name": "StyleView",
            "description_width": ""
          }
        },
        "bcfcd11e6371401ba44c7cabf2a281e6": {
          "model_module": "@jupyter-widgets/base",
          "model_name": "LayoutModel",
          "model_module_version": "1.2.0",
          "state": {
            "_model_module": "@jupyter-widgets/base",
            "_model_module_version": "1.2.0",
            "_model_name": "LayoutModel",
            "_view_count": null,
            "_view_module": "@jupyter-widgets/base",
            "_view_module_version": "1.2.0",
            "_view_name": "LayoutView",
            "align_content": null,
            "align_items": null,
            "align_self": null,
            "border": null,
            "bottom": null,
            "display": null,
            "flex": null,
            "flex_flow": null,
            "grid_area": null,
            "grid_auto_columns": null,
            "grid_auto_flow": null,
            "grid_auto_rows": null,
            "grid_column": null,
            "grid_gap": null,
            "grid_row": null,
            "grid_template_areas": null,
            "grid_template_columns": null,
            "grid_template_rows": null,
            "height": null,
            "justify_content": null,
            "justify_items": null,
            "left": null,
            "margin": null,
            "max_height": null,
            "max_width": null,
            "min_height": null,
            "min_width": null,
            "object_fit": null,
            "object_position": null,
            "order": null,
            "overflow": null,
            "overflow_x": null,
            "overflow_y": null,
            "padding": null,
            "right": null,
            "top": null,
            "visibility": null,
            "width": null
          }
        },
        "6c3d59ecf7af473d8a80c66c9e9eb735": {
          "model_module": "@jupyter-widgets/controls",
          "model_name": "DescriptionStyleModel",
          "model_module_version": "1.5.0",
          "state": {
            "_model_module": "@jupyter-widgets/controls",
            "_model_module_version": "1.5.0",
            "_model_name": "DescriptionStyleModel",
            "_view_count": null,
            "_view_module": "@jupyter-widgets/base",
            "_view_module_version": "1.2.0",
            "_view_name": "StyleView",
            "description_width": ""
          }
        },
        "624901a872c4430bb0f14083044d4ae7": {
          "model_module": "@jupyter-widgets/base",
          "model_name": "LayoutModel",
          "model_module_version": "1.2.0",
          "state": {
            "_model_module": "@jupyter-widgets/base",
            "_model_module_version": "1.2.0",
            "_model_name": "LayoutModel",
            "_view_count": null,
            "_view_module": "@jupyter-widgets/base",
            "_view_module_version": "1.2.0",
            "_view_name": "LayoutView",
            "align_content": null,
            "align_items": null,
            "align_self": null,
            "border": null,
            "bottom": null,
            "display": null,
            "flex": null,
            "flex_flow": null,
            "grid_area": null,
            "grid_auto_columns": null,
            "grid_auto_flow": null,
            "grid_auto_rows": null,
            "grid_column": null,
            "grid_gap": null,
            "grid_row": null,
            "grid_template_areas": null,
            "grid_template_columns": null,
            "grid_template_rows": null,
            "height": null,
            "justify_content": null,
            "justify_items": null,
            "left": null,
            "margin": null,
            "max_height": null,
            "max_width": null,
            "min_height": null,
            "min_width": null,
            "object_fit": null,
            "object_position": null,
            "order": null,
            "overflow": null,
            "overflow_x": null,
            "overflow_y": null,
            "padding": null,
            "right": null,
            "top": null,
            "visibility": null,
            "width": null
          }
        },
        "f09d479241a647b5b25da19c628c0347": {
          "model_module": "@jupyter-widgets/controls",
          "model_name": "ButtonStyleModel",
          "model_module_version": "1.5.0",
          "state": {
            "_model_module": "@jupyter-widgets/controls",
            "_model_module_version": "1.5.0",
            "_model_name": "ButtonStyleModel",
            "_view_count": null,
            "_view_module": "@jupyter-widgets/base",
            "_view_module_version": "1.2.0",
            "_view_name": "StyleView",
            "button_color": null,
            "font_weight": ""
          }
        },
        "bb7995edb6b44ca7a9f5c686e51ba0c8": {
          "model_module": "@jupyter-widgets/base",
          "model_name": "LayoutModel",
          "model_module_version": "1.2.0",
          "state": {
            "_model_module": "@jupyter-widgets/base",
            "_model_module_version": "1.2.0",
            "_model_name": "LayoutModel",
            "_view_count": null,
            "_view_module": "@jupyter-widgets/base",
            "_view_module_version": "1.2.0",
            "_view_name": "LayoutView",
            "align_content": null,
            "align_items": null,
            "align_self": null,
            "border": null,
            "bottom": null,
            "display": null,
            "flex": null,
            "flex_flow": null,
            "grid_area": null,
            "grid_auto_columns": null,
            "grid_auto_flow": null,
            "grid_auto_rows": null,
            "grid_column": null,
            "grid_gap": null,
            "grid_row": null,
            "grid_template_areas": null,
            "grid_template_columns": null,
            "grid_template_rows": null,
            "height": null,
            "justify_content": null,
            "justify_items": null,
            "left": null,
            "margin": null,
            "max_height": null,
            "max_width": null,
            "min_height": null,
            "min_width": null,
            "object_fit": null,
            "object_position": null,
            "order": null,
            "overflow": null,
            "overflow_x": null,
            "overflow_y": null,
            "padding": null,
            "right": null,
            "top": null,
            "visibility": null,
            "width": null
          }
        },
        "0e080f30c536499bbfa48300a42aa860": {
          "model_module": "@jupyter-widgets/controls",
          "model_name": "VBoxModel",
          "model_module_version": "1.5.0",
          "state": {
            "_dom_classes": [
              "widget-interact"
            ],
            "_model_module": "@jupyter-widgets/controls",
            "_model_module_version": "1.5.0",
            "_model_name": "VBoxModel",
            "_view_count": null,
            "_view_module": "@jupyter-widgets/controls",
            "_view_module_version": "1.5.0",
            "_view_name": "VBoxView",
            "box_style": "",
            "children": [
              "IPY_MODEL_a23b40185df849ba845529fc2d42d811",
              "IPY_MODEL_7317b9199ab84717aa651217171ee6ba",
              "IPY_MODEL_a5225d3fbe1143ad89c1f739e4688db3"
            ],
            "layout": "IPY_MODEL_64b27cd67c56428e8959d94ce0ca59da"
          }
        },
        "a23b40185df849ba845529fc2d42d811": {
          "model_module": "@jupyter-widgets/controls",
          "model_name": "TextModel",
          "model_module_version": "1.5.0",
          "state": {
            "_dom_classes": [],
            "_model_module": "@jupyter-widgets/controls",
            "_model_module_version": "1.5.0",
            "_model_name": "TextModel",
            "_view_count": null,
            "_view_module": "@jupyter-widgets/controls",
            "_view_module_version": "1.5.0",
            "_view_name": "TextView",
            "continuous_update": true,
            "description": "Commit Msg",
            "description_tooltip": null,
            "disabled": false,
            "layout": "IPY_MODEL_4371df472d854639999ff0b93715bf11",
            "placeholder": "Enter commit message",
            "style": "IPY_MODEL_8eaac80f7653418391d6c63c9241810d",
            "value": "required"
          }
        },
        "7317b9199ab84717aa651217171ee6ba": {
          "model_module": "@jupyter-widgets/controls",
          "model_name": "ButtonModel",
          "model_module_version": "1.5.0",
          "state": {
            "_dom_classes": [],
            "_model_module": "@jupyter-widgets/controls",
            "_model_module_version": "1.5.0",
            "_model_name": "ButtonModel",
            "_view_count": null,
            "_view_module": "@jupyter-widgets/controls",
            "_view_module_version": "1.5.0",
            "_view_name": "ButtonView",
            "button_style": "",
            "description": "Commit All Changes",
            "disabled": false,
            "icon": "",
            "layout": "IPY_MODEL_6a789dacf1a44d4dbfa6516cb37f3f0e",
            "style": "IPY_MODEL_08d93502effa4f93952289643499ad07",
            "tooltip": ""
          }
        },
        "a5225d3fbe1143ad89c1f739e4688db3": {
          "model_module": "@jupyter-widgets/output",
          "model_name": "OutputModel",
          "model_module_version": "1.0.0",
          "state": {
            "_dom_classes": [],
            "_model_module": "@jupyter-widgets/output",
            "_model_module_version": "1.0.0",
            "_model_name": "OutputModel",
            "_view_count": null,
            "_view_module": "@jupyter-widgets/output",
            "_view_module_version": "1.0.0",
            "_view_name": "OutputView",
            "layout": "IPY_MODEL_0944d847283942f5b6fbf4c741527ba9",
            "msg_id": "",
            "outputs": []
          }
        },
        "64b27cd67c56428e8959d94ce0ca59da": {
          "model_module": "@jupyter-widgets/base",
          "model_name": "LayoutModel",
          "model_module_version": "1.2.0",
          "state": {
            "_model_module": "@jupyter-widgets/base",
            "_model_module_version": "1.2.0",
            "_model_name": "LayoutModel",
            "_view_count": null,
            "_view_module": "@jupyter-widgets/base",
            "_view_module_version": "1.2.0",
            "_view_name": "LayoutView",
            "align_content": null,
            "align_items": null,
            "align_self": null,
            "border": null,
            "bottom": null,
            "display": null,
            "flex": null,
            "flex_flow": null,
            "grid_area": null,
            "grid_auto_columns": null,
            "grid_auto_flow": null,
            "grid_auto_rows": null,
            "grid_column": null,
            "grid_gap": null,
            "grid_row": null,
            "grid_template_areas": null,
            "grid_template_columns": null,
            "grid_template_rows": null,
            "height": null,
            "justify_content": null,
            "justify_items": null,
            "left": null,
            "margin": null,
            "max_height": null,
            "max_width": null,
            "min_height": null,
            "min_width": null,
            "object_fit": null,
            "object_position": null,
            "order": null,
            "overflow": null,
            "overflow_x": null,
            "overflow_y": null,
            "padding": null,
            "right": null,
            "top": null,
            "visibility": null,
            "width": null
          }
        },
        "4371df472d854639999ff0b93715bf11": {
          "model_module": "@jupyter-widgets/base",
          "model_name": "LayoutModel",
          "model_module_version": "1.2.0",
          "state": {
            "_model_module": "@jupyter-widgets/base",
            "_model_module_version": "1.2.0",
            "_model_name": "LayoutModel",
            "_view_count": null,
            "_view_module": "@jupyter-widgets/base",
            "_view_module_version": "1.2.0",
            "_view_name": "LayoutView",
            "align_content": null,
            "align_items": null,
            "align_self": null,
            "border": null,
            "bottom": null,
            "display": null,
            "flex": null,
            "flex_flow": null,
            "grid_area": null,
            "grid_auto_columns": null,
            "grid_auto_flow": null,
            "grid_auto_rows": null,
            "grid_column": null,
            "grid_gap": null,
            "grid_row": null,
            "grid_template_areas": null,
            "grid_template_columns": null,
            "grid_template_rows": null,
            "height": null,
            "justify_content": null,
            "justify_items": null,
            "left": null,
            "margin": null,
            "max_height": null,
            "max_width": null,
            "min_height": null,
            "min_width": null,
            "object_fit": null,
            "object_position": null,
            "order": null,
            "overflow": null,
            "overflow_x": null,
            "overflow_y": null,
            "padding": null,
            "right": null,
            "top": null,
            "visibility": null,
            "width": null
          }
        },
        "8eaac80f7653418391d6c63c9241810d": {
          "model_module": "@jupyter-widgets/controls",
          "model_name": "DescriptionStyleModel",
          "model_module_version": "1.5.0",
          "state": {
            "_model_module": "@jupyter-widgets/controls",
            "_model_module_version": "1.5.0",
            "_model_name": "DescriptionStyleModel",
            "_view_count": null,
            "_view_module": "@jupyter-widgets/base",
            "_view_module_version": "1.2.0",
            "_view_name": "StyleView",
            "description_width": ""
          }
        },
        "6a789dacf1a44d4dbfa6516cb37f3f0e": {
          "model_module": "@jupyter-widgets/base",
          "model_name": "LayoutModel",
          "model_module_version": "1.2.0",
          "state": {
            "_model_module": "@jupyter-widgets/base",
            "_model_module_version": "1.2.0",
            "_model_name": "LayoutModel",
            "_view_count": null,
            "_view_module": "@jupyter-widgets/base",
            "_view_module_version": "1.2.0",
            "_view_name": "LayoutView",
            "align_content": null,
            "align_items": null,
            "align_self": null,
            "border": null,
            "bottom": null,
            "display": null,
            "flex": null,
            "flex_flow": null,
            "grid_area": null,
            "grid_auto_columns": null,
            "grid_auto_flow": null,
            "grid_auto_rows": null,
            "grid_column": null,
            "grid_gap": null,
            "grid_row": null,
            "grid_template_areas": null,
            "grid_template_columns": null,
            "grid_template_rows": null,
            "height": null,
            "justify_content": null,
            "justify_items": null,
            "left": null,
            "margin": null,
            "max_height": null,
            "max_width": null,
            "min_height": null,
            "min_width": null,
            "object_fit": null,
            "object_position": null,
            "order": null,
            "overflow": null,
            "overflow_x": null,
            "overflow_y": null,
            "padding": null,
            "right": null,
            "top": null,
            "visibility": null,
            "width": null
          }
        },
        "08d93502effa4f93952289643499ad07": {
          "model_module": "@jupyter-widgets/controls",
          "model_name": "ButtonStyleModel",
          "model_module_version": "1.5.0",
          "state": {
            "_model_module": "@jupyter-widgets/controls",
            "_model_module_version": "1.5.0",
            "_model_name": "ButtonStyleModel",
            "_view_count": null,
            "_view_module": "@jupyter-widgets/base",
            "_view_module_version": "1.2.0",
            "_view_name": "StyleView",
            "button_color": null,
            "font_weight": ""
          }
        },
        "0944d847283942f5b6fbf4c741527ba9": {
          "model_module": "@jupyter-widgets/base",
          "model_name": "LayoutModel",
          "model_module_version": "1.2.0",
          "state": {
            "_model_module": "@jupyter-widgets/base",
            "_model_module_version": "1.2.0",
            "_model_name": "LayoutModel",
            "_view_count": null,
            "_view_module": "@jupyter-widgets/base",
            "_view_module_version": "1.2.0",
            "_view_name": "LayoutView",
            "align_content": null,
            "align_items": null,
            "align_self": null,
            "border": null,
            "bottom": null,
            "display": null,
            "flex": null,
            "flex_flow": null,
            "grid_area": null,
            "grid_auto_columns": null,
            "grid_auto_flow": null,
            "grid_auto_rows": null,
            "grid_column": null,
            "grid_gap": null,
            "grid_row": null,
            "grid_template_areas": null,
            "grid_template_columns": null,
            "grid_template_rows": null,
            "height": null,
            "justify_content": null,
            "justify_items": null,
            "left": null,
            "margin": null,
            "max_height": null,
            "max_width": null,
            "min_height": null,
            "min_width": null,
            "object_fit": null,
            "object_position": null,
            "order": null,
            "overflow": null,
            "overflow_x": null,
            "overflow_y": null,
            "padding": null,
            "right": null,
            "top": null,
            "visibility": null,
            "width": null
          }
        }
      }
    }
  },
  "cells": [
    {
      "cell_type": "markdown",
      "metadata": {
        "id": "view-in-github",
        "colab_type": "text"
      },
      "source": [
        "<a href=\"https://colab.research.google.com/github/tnc-br/ddf_common/blob/combine_p_values/hypothesis_test.ipynb\" target=\"_parent\"><img src=\"https://colab.research.google.com/assets/colab-badge.svg\" alt=\"Open In Colab\"/></a>"
      ]
    },
    {
      "cell_type": "code",
      "source": [
        "TEST_ISOSCAPE_MEANS_FILENAME = \"canonical/kriging_random_means.tiff\" #@param\n",
        "TEST_ISOSCAPE_VARS_FILENAME = \"canonical/kriging_random_vars.tiff\" #@param"
      ],
      "metadata": {
        "id": "eiKKk8X0UwGr"
      },
      "execution_count": 21,
      "outputs": []
    },
    {
      "cell_type": "code",
      "execution_count": 2,
      "metadata": {
        "colab": {
          "base_uri": "https://localhost:8080/",
          "height": 778,
          "referenced_widgets": [
            "4821a6e9425449709dd15e4013120e5a",
            "bfa5f21ef1834926a30d163e5126255c",
            "1aa4d110391244b2aa386c5d88a1e5cc",
            "09826e0423d44367a604984446fc7ba4",
            "346928700e954c68b32970068a84983a",
            "a0d763b4e894451abc38cfd12dce8ea6",
            "9b39985b673c420fbf6bdb94272cbc95",
            "275ad708015c4123980dbc3e34b2857f",
            "bcfcd11e6371401ba44c7cabf2a281e6",
            "6c3d59ecf7af473d8a80c66c9e9eb735",
            "624901a872c4430bb0f14083044d4ae7",
            "f09d479241a647b5b25da19c628c0347",
            "bb7995edb6b44ca7a9f5c686e51ba0c8",
            "0e080f30c536499bbfa48300a42aa860",
            "a23b40185df849ba845529fc2d42d811",
            "7317b9199ab84717aa651217171ee6ba",
            "a5225d3fbe1143ad89c1f739e4688db3",
            "64b27cd67c56428e8959d94ce0ca59da",
            "4371df472d854639999ff0b93715bf11",
            "8eaac80f7653418391d6c63c9241810d",
            "6a789dacf1a44d4dbfa6516cb37f3f0e",
            "08d93502effa4f93952289643499ad07",
            "0944d847283942f5b6fbf4c741527ba9"
          ]
        },
        "cellView": "form",
        "id": "m_dhA5olS5KR",
        "outputId": "a56779ac-48e3-4a2e-deac-cecf8b8836f7"
      },
      "outputs": [
        {
          "output_type": "stream",
          "name": "stdout",
          "text": [
            "Requirement already satisfied: opencv-python in /usr/local/lib/python3.10/dist-packages (4.7.0.72)\n",
            "Requirement already satisfied: numpy>=1.21.2 in /usr/local/lib/python3.10/dist-packages (from opencv-python) (1.22.4)\n",
            "Requirement already satisfied: matplotlib in /usr/local/lib/python3.10/dist-packages (3.7.1)\n",
            "Requirement already satisfied: contourpy>=1.0.1 in /usr/local/lib/python3.10/dist-packages (from matplotlib) (1.1.0)\n",
            "Requirement already satisfied: cycler>=0.10 in /usr/local/lib/python3.10/dist-packages (from matplotlib) (0.11.0)\n",
            "Requirement already satisfied: fonttools>=4.22.0 in /usr/local/lib/python3.10/dist-packages (from matplotlib) (4.41.1)\n",
            "Requirement already satisfied: kiwisolver>=1.0.1 in /usr/local/lib/python3.10/dist-packages (from matplotlib) (1.4.4)\n",
            "Requirement already satisfied: numpy>=1.20 in /usr/local/lib/python3.10/dist-packages (from matplotlib) (1.22.4)\n",
            "Requirement already satisfied: packaging>=20.0 in /usr/local/lib/python3.10/dist-packages (from matplotlib) (23.1)\n",
            "Requirement already satisfied: pillow>=6.2.0 in /usr/local/lib/python3.10/dist-packages (from matplotlib) (9.4.0)\n",
            "Requirement already satisfied: pyparsing>=2.3.1 in /usr/local/lib/python3.10/dist-packages (from matplotlib) (3.1.0)\n",
            "Requirement already satisfied: python-dateutil>=2.7 in /usr/local/lib/python3.10/dist-packages (from matplotlib) (2.8.2)\n",
            "Requirement already satisfied: six>=1.5 in /usr/local/lib/python3.10/dist-packages (from python-dateutil>=2.7->matplotlib) (1.16.0)\n",
            "Requirement already satisfied: pandas in /usr/local/lib/python3.10/dist-packages (1.5.3)\n",
            "Requirement already satisfied: python-dateutil>=2.8.1 in /usr/local/lib/python3.10/dist-packages (from pandas) (2.8.2)\n",
            "Requirement already satisfied: pytz>=2020.1 in /usr/local/lib/python3.10/dist-packages (from pandas) (2022.7.1)\n",
            "Requirement already satisfied: numpy>=1.21.0 in /usr/local/lib/python3.10/dist-packages (from pandas) (1.22.4)\n",
            "Requirement already satisfied: six>=1.5 in /usr/local/lib/python3.10/dist-packages (from python-dateutil>=2.8.1->pandas) (1.16.0)\n",
            "Cloning into 'ddf_common_stub'...\n",
            "remote: Enumerating objects: 11, done.\u001b[K\n",
            "remote: Counting objects: 100% (11/11), done.\u001b[K\n",
            "remote: Compressing objects: 100% (11/11), done.\u001b[K\n",
            "remote: Total 11 (delta 4), reused 0 (delta 0), pack-reused 0\u001b[K\n",
            "Receiving objects: 100% (11/11), 5.50 KiB | 5.50 MiB/s, done.\n",
            "Resolving deltas: 100% (4/4), done.\n"
          ]
        },
        {
          "output_type": "display_data",
          "data": {
            "text/plain": [
              "interactive(children=(Text(value='', description='Email', placeholder='Enter email'), Text(value='', descripti…"
            ],
            "application/vnd.jupyter.widget-view+json": {
              "version_major": 2,
              "version_minor": 0,
              "model_id": "4821a6e9425449709dd15e4013120e5a"
            }
          },
          "metadata": {}
        }
      ],
      "source": [
        "#@title Imports and modules.\n",
        "%pip install opencv-python\n",
        "%pip install matplotlib\n",
        "%pip install pandas\n",
        "\n",
        "from osgeo import gdal, gdal_array\n",
        "import numpy as np\n",
        "import matplotlib.pyplot as plt\n",
        "from dataclasses import dataclass\n",
        "import matplotlib.animation as animation\n",
        "from matplotlib import rc\n",
        "from typing import List\n",
        "from numpy.random import MT19937, RandomState, SeedSequence\n",
        "import pandas as pd\n",
        "from tqdm import tqdm\n",
        "from io import StringIO\n",
        "import xgboost as xgb\n",
        "import os\n",
        "import math\n",
        "import glob\n",
        "\n",
        "rc('animation', html='jshtml')\n",
        "\n",
        "import sys\n",
        "!if [ ! -d \"/content/ddf_common_stub\" ] ; then git clone -b test https://github.com/tnc-br/ddf_common_stub.git; fi\n",
        "sys.path.append(\"/content/ddf_common_stub/\")\n",
        "import ddfimport\n",
        "ddfimport.ddf_source_control_pane()\n",
        "# ddfimport.ddf_import_common()"
      ]
    },
    {
      "cell_type": "markdown",
      "source": [
        "# Tests"
      ],
      "metadata": {
        "id": "7z7ViUtVXjPM"
      }
    },
    {
      "cell_type": "code",
      "source": [
        "import pytest\n",
        "import hypothesis\n",
        "import raster"
      ],
      "metadata": {
        "id": "FHP0DA06TVAW"
      },
      "execution_count": 3,
      "outputs": []
    },
    {
      "cell_type": "code",
      "source": [
        "import importlib\n",
        "import hypothesis\n",
        "importlib.reload(hypothesis)"
      ],
      "metadata": {
        "colab": {
          "base_uri": "https://localhost:8080/"
        },
        "id": "idaSFNBvZ2R4",
        "outputId": "5be5a3bc-a74f-4eb8-9940-79231d38bb8d"
      },
      "execution_count": 29,
      "outputs": [
        {
          "output_type": "execute_result",
          "data": {
            "text/plain": [
              "<module 'hypothesis' from '/content/gdrive/MyDrive/combine_p_values/ddf_common/hypothesis.py'>"
            ]
          },
          "metadata": {},
          "execution_count": 29
        }
      ]
    },
    {
      "cell_type": "code",
      "source": [
        "def sample_ttest_test():\n",
        "  longitude = -71\n",
        "  latitude = -5.5\n",
        "  # The range of expected values is around 25 for most locations here.\n",
        "  isotope_values = [-20.0, -15.0]\n",
        "  test_means_isoscape = raster.load_raster(raster.get_raster_path(TEST_ISOSCAPE_MEANS_FILENAME), use_only_band_index=0)\n",
        "  test_vars_isoscape = raster.load_raster(raster.get_raster_path(TEST_ISOSCAPE_VARS_FILENAME), use_only_band_index=0)\n",
        "  sample_size_per_location = 2\n",
        "  p_value_target = 0.05\n",
        "\n",
        "  hypothesis_test = hypothesis.sample_ttest(longitude,\n",
        "                 latitude,\n",
        "                 isotope_values,\n",
        "                 test_means_isoscape,\n",
        "                 test_vars_isoscape,\n",
        "                 sample_size_per_location,\n",
        "                 p_value_target)\n",
        "\n",
        "  assert(hypothesis_test.longitude == pytest.approx(-71))\n",
        "  assert(hypothesis_test.latitude == pytest.approx(-5.5))\n",
        "  assert(hypothesis_test.p_value == pytest.approx(0.025361550530144276))\n",
        "  assert(hypothesis_test.p_value_threshold == pytest.approx(0.05))\n",
        "\n",
        "sample_ttest_test()"
      ],
      "metadata": {
        "id": "X1n2rmMJxqrm",
        "outputId": "463cebec-4201-46c7-c6e9-6667e902220b",
        "colab": {
          "base_uri": "https://localhost:8080/"
        }
      },
      "execution_count": 9,
      "outputs": [
        {
          "output_type": "stream",
          "name": "stdout",
          "text": [
            "Driver: GTiff/GeoTIFF\n",
            "Size is 235 x 234 x 1\n",
            "Projection is GEOGCS[\"WGS 84\",DATUM[\"WGS_1984\",SPHEROID[\"WGS 84\",6378137,298.257223563,AUTHORITY[\"EPSG\",\"7030\"]],AUTHORITY[\"EPSG\",\"6326\"]],PRIMEM[\"Greenwich\",0],UNIT[\"degree\",0.0174532925199433,AUTHORITY[\"EPSG\",\"9122\"]],AXIS[\"Latitude\",NORTH],AXIS[\"Longitude\",EAST],AUTHORITY[\"EPSG\",\"4326\"]]\n",
            "Origin = (-74.0, 5.333333333999995)\n",
            "Pixel Size = (0.16666666666808508, -0.16666666666808505)\n",
            "Driver: GTiff/GeoTIFF\n",
            "Size is 235 x 234 x 1\n",
            "Projection is GEOGCS[\"WGS 84\",DATUM[\"WGS_1984\",SPHEROID[\"WGS 84\",6378137,298.257223563,AUTHORITY[\"EPSG\",\"7030\"]],AUTHORITY[\"EPSG\",\"6326\"]],PRIMEM[\"Greenwich\",0],UNIT[\"degree\",0.0174532925199433,AUTHORITY[\"EPSG\",\"9122\"]],AXIS[\"Latitude\",NORTH],AXIS[\"Longitude\",EAST],AUTHORITY[\"EPSG\",\"4326\"]]\n",
            "Origin = (-74.0, 5.333333333999995)\n",
            "Pixel Size = (0.16666666666808508, -0.16666666666808505)\n"
          ]
        }
      ]
    },
    {
      "cell_type": "code",
      "source": [
        "import unittest\n",
        "\n",
        "class SampleTTestCase(unittest.TestCase):\n",
        "  def sample_ttest_test_tail_location(self):\n",
        "    longitude = -71\n",
        "    latitude = -5.5\n",
        "    # The range of expected values is around 25 for most locations here.\n",
        "    isotope_values = [-20.0]\n",
        "    test_means_isoscape = raster.load_raster(raster.get_raster_path(TEST_ISOSCAPE_MEANS_FILENAME), use_only_band_index=0)\n",
        "    test_vars_isoscape = raster.load_raster(raster.get_raster_path(TEST_ISOSCAPE_VARS_FILENAME), use_only_band_index=0)\n",
        "    sample_size_per_location = 2\n",
        "    p_value_target = 0.05\n",
        "\n",
        "    with self.assertRaises(ValueError):\n",
        "      hypothesis.sample_ttest(longitude,\n",
        "                    latitude,\n",
        "                    isotope_values,\n",
        "                    test_means_isoscape,\n",
        "                    test_vars_isoscape,\n",
        "                    sample_size_per_location,\n",
        "                    p_value_target)\n",
        "\n",
        "SampleTTestCase().sample_ttest_test_tail_location()"
      ],
      "metadata": {
        "id": "Qiq_U8yny5iK",
        "outputId": "0e1d95fb-d71d-4cc8-ed3f-7d887ed512e8",
        "colab": {
          "base_uri": "https://localhost:8080/"
        }
      },
      "execution_count": 10,
      "outputs": [
        {
          "output_type": "stream",
          "name": "stdout",
          "text": [
            "Driver: GTiff/GeoTIFF\n",
            "Size is 235 x 234 x 1\n",
            "Projection is GEOGCS[\"WGS 84\",DATUM[\"WGS_1984\",SPHEROID[\"WGS 84\",6378137,298.257223563,AUTHORITY[\"EPSG\",\"7030\"]],AUTHORITY[\"EPSG\",\"6326\"]],PRIMEM[\"Greenwich\",0],UNIT[\"degree\",0.0174532925199433,AUTHORITY[\"EPSG\",\"9122\"]],AXIS[\"Latitude\",NORTH],AXIS[\"Longitude\",EAST],AUTHORITY[\"EPSG\",\"4326\"]]\n",
            "Origin = (-74.0, 5.333333333999995)\n",
            "Pixel Size = (0.16666666666808508, -0.16666666666808505)\n",
            "Driver: GTiff/GeoTIFF\n",
            "Size is 235 x 234 x 1\n",
            "Projection is GEOGCS[\"WGS 84\",DATUM[\"WGS_1984\",SPHEROID[\"WGS 84\",6378137,298.257223563,AUTHORITY[\"EPSG\",\"7030\"]],AUTHORITY[\"EPSG\",\"6326\"]],PRIMEM[\"Greenwich\",0],UNIT[\"degree\",0.0174532925199433,AUTHORITY[\"EPSG\",\"9122\"]],AXIS[\"Latitude\",NORTH],AXIS[\"Longitude\",EAST],AUTHORITY[\"EPSG\",\"4326\"]]\n",
            "Origin = (-74.0, 5.333333333999995)\n",
            "Pixel Size = (0.16666666666808508, -0.16666666666808505)\n"
          ]
        }
      ]
    },
    {
      "cell_type": "code",
      "source": [
        "def fraud_metrics_test():\n",
        "  # The range of expected values is around 25 for most locations here.\n",
        "  sample_data = pd.DataFrame({\n",
        "      'Code': [\"a\", \"b\", \"c\", \"d\", \"e\", \"f\", \"g\", \"h\",\n",
        "               \"a\", \"b\", \"c\", \"d\", \"e\", \"f\", \"g\", \"h\"],\n",
        "      'long': [-71, -69, -68, -67, -66, -65, -64, -63,\n",
        "               -71, -69, -68, -67, -66, -65, -64, -63],\n",
        "      'lat': [-5.5, -5, -4.5, -4.3, -4, -3.9, -3.5, -3,\n",
        "              -5.5, -5, -4.5, -4.3, -4, -3.9, -3.5, -3],\n",
        "      'fraud': [True, False, True, False, True, False, True, False,\n",
        "                True, False, True, False, True, False, True, False],\n",
        "      'd18O_cel': [-20.0, 5.0, 100.0, 5.0, 8.0, 5.0, 0.0, 3.0,\n",
        "                   -20.0, 25.0, 105.0, 25.0, 20.0, 2.0, 0.0, 25.0],\n",
        "  })\n",
        "  isotope_column_names = ['d18O_cel']\n",
        "  test_means_isoscapes = [raster.load_raster(raster.get_raster_path(TEST_ISOSCAPE_MEANS_FILENAME), use_only_band_index=0)]\n",
        "  test_vars_isoscapes = [raster.load_raster(raster.get_raster_path(TEST_ISOSCAPE_VARS_FILENAME), use_only_band_index=0)]\n",
        "  sample_size_per_location = 2\n",
        "  p_value_target = 0.05\n",
        "\n",
        "  fraud_metrics = (\n",
        "    hypothesis.fraud_metrics(sample_data,\n",
        "                  isotope_column_names,\n",
        "                  test_means_isoscapes,\n",
        "                  test_vars_isoscapes,\n",
        "                  sample_size_per_location,\n",
        "                  p_value_target)\n",
        "  )\n",
        "\n",
        "  print(fraud_metrics.accuracy)\n",
        "  print(fraud_metrics.precision)\n",
        "  print(fraud_metrics.recall)\n",
        "  assert(fraud_metrics.accuracy == pytest.approx(0.75))\n",
        "  assert(fraud_metrics.precision == pytest.approx(0.75))\n",
        "  assert(fraud_metrics.recall == pytest.approx(0.75))\n",
        "\n",
        "fraud_metrics_test()"
      ],
      "metadata": {
        "colab": {
          "base_uri": "https://localhost:8080/"
        },
        "id": "NJDEPOC4TWyq",
        "outputId": "f1f21602-af87-4d26-d55c-eced77576647"
      },
      "execution_count": 23,
      "outputs": [
        {
          "output_type": "stream",
          "name": "stdout",
          "text": [
            "Driver: GTiff/GeoTIFF\n",
            "Size is 235 x 234 x 1\n",
            "Projection is GEOGCS[\"WGS 84\",DATUM[\"WGS_1984\",SPHEROID[\"WGS 84\",6378137,298.257223563,AUTHORITY[\"EPSG\",\"7030\"]],AUTHORITY[\"EPSG\",\"6326\"]],PRIMEM[\"Greenwich\",0],UNIT[\"degree\",0.0174532925199433,AUTHORITY[\"EPSG\",\"9122\"]],AXIS[\"Latitude\",NORTH],AXIS[\"Longitude\",EAST],AUTHORITY[\"EPSG\",\"4326\"]]\n",
            "Origin = (-74.0, 5.333333333999995)\n",
            "Pixel Size = (0.16666666666808508, -0.16666666666808505)\n",
            "Driver: GTiff/GeoTIFF\n",
            "Size is 235 x 234 x 1\n",
            "Projection is GEOGCS[\"WGS 84\",DATUM[\"WGS_1984\",SPHEROID[\"WGS 84\",6378137,298.257223563,AUTHORITY[\"EPSG\",\"7030\"]],AUTHORITY[\"EPSG\",\"6326\"]],PRIMEM[\"Greenwich\",0],UNIT[\"degree\",0.0174532925199433,AUTHORITY[\"EPSG\",\"9122\"]],AXIS[\"Latitude\",NORTH],AXIS[\"Longitude\",EAST],AUTHORITY[\"EPSG\",\"4326\"]]\n",
            "Origin = (-74.0, 5.333333333999995)\n",
            "Pixel Size = (0.16666666666808508, -0.16666666666808505)\n",
            "0.75\n",
            "0.75\n",
            "0.75\n"
          ]
        }
      ]
    },
    {
      "cell_type": "code",
      "source": [
        "def fraud_metrics_combine_p_values_test():\n",
        "  # The range of expected values is around 25 for most locations here.\n",
        "  sample_data = pd.DataFrame({\n",
        "      'Code': [\"a\", \"b\", \"c\", \"d\", \"e\", \"f\", \"g\", \"h\",\n",
        "               \"a\", \"b\", \"c\", \"d\", \"e\", \"f\", \"g\", \"h\"],\n",
        "      'long': [-71, -69, -68, -67, -66, -65, -64, -63,\n",
        "               -71, -69, -68, -67, -66, -65, -64, -63],\n",
        "      'lat': [-5.5, -5, -4.5, -4.3, -4, -3.9, -3.5, -3,\n",
        "              -5.5, -5, -4.5, -4.3, -4, -3.9, -3.5, -3],\n",
        "      'fraud': [True, False, True, False, True, False, True, False,\n",
        "                True, False, True, False, True, False, True, False],\n",
        "      'd18O_cel': [-20.0, 5.0, 100.0, 5.0, 8.0, 5.0, 0.0, 3.0,\n",
        "                   -20.0, 25.0, 105.0, 25.0, 20.0, 2.0, 0.0, 25.0],\n",
        "      'd15N_wood': [-20.0, 25.0, 105.0, 25.0, 20.0, 2.0, 0.0, 25.0,\n",
        "                     -20.0, 5.0, 100.0, 5.0, 8.0, 5.0, 0.0, 3.0],\n",
        "  })\n",
        "  isotope_column_names = ['d18O_cel', 'd15N_wood']\n",
        "  test_means_isoscapes = [\n",
        "      raster.load_raster(raster.get_raster_path(TEST_ISOSCAPE_MEANS_FILENAME), use_only_band_index=0),\n",
        "      raster.load_raster(raster.get_raster_path(TEST_ISOSCAPE_MEANS_FILENAME), use_only_band_index=0)]\n",
        "  test_vars_isoscapes = [\n",
        "      raster.load_raster(raster.get_raster_path(TEST_ISOSCAPE_VARS_FILENAME), use_only_band_index=0),\n",
        "      raster.load_raster(raster.get_raster_path(TEST_ISOSCAPE_VARS_FILENAME), use_only_band_index=0)]\n",
        "  sample_size_per_location = 2\n",
        "  p_value_target = 0.05\n",
        "\n",
        "  fraud_metrics = (\n",
        "    hypothesis.fraud_metrics(sample_data,\n",
        "                  isotope_column_names,\n",
        "                  test_means_isoscapes,\n",
        "                  test_vars_isoscapes,\n",
        "                  sample_size_per_location,\n",
        "                  p_value_target)\n",
        "  )\n",
        "\n",
        "  print(fraud_metrics.accuracy)\n",
        "  print(fraud_metrics.precision)\n",
        "  print(fraud_metrics.recall)\n",
        "  assert(fraud_metrics.accuracy == pytest.approx(0.75))\n",
        "  assert(fraud_metrics.precision == pytest.approx(0.75))\n",
        "  assert(fraud_metrics.recall == pytest.approx(0.75))\n",
        "\n",
        "fraud_metrics_test()"
      ],
      "metadata": {
        "id": "Zbd0RwTp_0t6",
        "outputId": "b41f5811-0b65-4d8f-c773-1ea6ab299dbf",
        "colab": {
          "base_uri": "https://localhost:8080/"
        }
      },
      "execution_count": 32,
      "outputs": [
        {
          "output_type": "stream",
          "name": "stdout",
          "text": [
            "Driver: GTiff/GeoTIFF\n",
            "Size is 235 x 234 x 1\n",
            "Projection is GEOGCS[\"WGS 84\",DATUM[\"WGS_1984\",SPHEROID[\"WGS 84\",6378137,298.257223563,AUTHORITY[\"EPSG\",\"7030\"]],AUTHORITY[\"EPSG\",\"6326\"]],PRIMEM[\"Greenwich\",0],UNIT[\"degree\",0.0174532925199433,AUTHORITY[\"EPSG\",\"9122\"]],AXIS[\"Latitude\",NORTH],AXIS[\"Longitude\",EAST],AUTHORITY[\"EPSG\",\"4326\"]]\n",
            "Origin = (-74.0, 5.333333333999995)\n",
            "Pixel Size = (0.16666666666808508, -0.16666666666808505)\n",
            "Driver: GTiff/GeoTIFF\n",
            "Size is 235 x 234 x 1\n",
            "Projection is GEOGCS[\"WGS 84\",DATUM[\"WGS_1984\",SPHEROID[\"WGS 84\",6378137,298.257223563,AUTHORITY[\"EPSG\",\"7030\"]],AUTHORITY[\"EPSG\",\"6326\"]],PRIMEM[\"Greenwich\",0],UNIT[\"degree\",0.0174532925199433,AUTHORITY[\"EPSG\",\"9122\"]],AXIS[\"Latitude\",NORTH],AXIS[\"Longitude\",EAST],AUTHORITY[\"EPSG\",\"4326\"]]\n",
            "Origin = (-74.0, 5.333333333999995)\n",
            "Pixel Size = (0.16666666666808508, -0.16666666666808505)\n",
            "0.75\n",
            "0.75\n",
            "0.75\n"
          ]
        }
      ]
    },
    {
      "cell_type": "code",
      "source": [
        "# Test that we skip locations with one measurement.\n",
        "def fraud_metrics_some_tail_locations():\n",
        "  # The range of expected values is around 25 for most locations here.\n",
        "  # One of the (-67, -4.3) data points was removed. This element was a true\n",
        "  # negative (non-fraud) so accuracy is affected (decreases) but precision\n",
        "  # and recall weren't affected.\n",
        "  sample_data = pd.DataFrame({\n",
        "      'Code': [\"a\", \"b\", \"c\", \"e\", \"f\", \"g\", \"h\",\n",
        "               \"a\", \"b\", \"c\", \"d\", \"e\", \"f\", \"g\", \"h\"],\n",
        "      'long': [-71, -69, -68, -66, -65, -64, -63,\n",
        "               -71, -69, -68, -67, -66, -65, -64, -63],\n",
        "      'lat': [-5.5, -5, -4.5, -4, -3.9, -3.5, -3,\n",
        "              -5.5, -5, -4.5, -4.3, -4, -3.9, -3.5, -3],\n",
        "      'fraud': [True, False, True, True, False, True, False,\n",
        "                True, False, True, False, True, False, True, False],\n",
        "      'd18O_cel': [-20.0, 5.0, 100.0, 8.0, 5.0, 0.0, 3.0,\n",
        "                   -20.0, 25.0, 105.0, 25.0, 20.0, 2.0, 0.0, 25.0],\n",
        "  })\n",
        "  isotope_column_name = ['d18O_cel']\n",
        "  test_means_isoscape = [raster.load_raster(raster.get_raster_path(TEST_ISOSCAPE_MEANS_FILENAME), use_only_band_index=0)]\n",
        "  test_vars_isoscape = [raster.load_raster(raster.get_raster_path(TEST_ISOSCAPE_VARS_FILENAME), use_only_band_index=0)]\n",
        "  sample_size_per_location = 2\n",
        "  p_value_target = 0.05\n",
        "\n",
        "  fraud_metrics = (\n",
        "    hypothesis.fraud_metrics(sample_data,\n",
        "                  isotope_column_name,\n",
        "                  test_means_isoscape,\n",
        "                  test_vars_isoscape,\n",
        "                  sample_size_per_location,\n",
        "                  p_value_target)\n",
        "  )\n",
        "\n",
        "\n",
        "  print(fraud_metrics.accuracy, fraud_metrics.precision, fraud_metrics.recall)\n",
        "  assert(fraud_metrics.accuracy == pytest.approx(0.7142857142857143))\n",
        "  assert(fraud_metrics.precision == pytest.approx(0.75))\n",
        "  assert(fraud_metrics.recall == pytest.approx(0.75))\n",
        "\n",
        "fraud_metrics_some_tail_locations()"
      ],
      "metadata": {
        "colab": {
          "base_uri": "https://localhost:8080/"
        },
        "id": "WYfDorkMTpP7",
        "outputId": "18021a6a-98b1-4413-f760-bce1ff745cc9"
      },
      "execution_count": 27,
      "outputs": [
        {
          "output_type": "stream",
          "name": "stdout",
          "text": [
            "Driver: GTiff/GeoTIFF\n",
            "Size is 235 x 234 x 1\n",
            "Projection is GEOGCS[\"WGS 84\",DATUM[\"WGS_1984\",SPHEROID[\"WGS 84\",6378137,298.257223563,AUTHORITY[\"EPSG\",\"7030\"]],AUTHORITY[\"EPSG\",\"6326\"]],PRIMEM[\"Greenwich\",0],UNIT[\"degree\",0.0174532925199433,AUTHORITY[\"EPSG\",\"9122\"]],AXIS[\"Latitude\",NORTH],AXIS[\"Longitude\",EAST],AUTHORITY[\"EPSG\",\"4326\"]]\n",
            "Origin = (-74.0, 5.333333333999995)\n",
            "Pixel Size = (0.16666666666808508, -0.16666666666808505)\n",
            "Driver: GTiff/GeoTIFF\n",
            "Size is 235 x 234 x 1\n",
            "Projection is GEOGCS[\"WGS 84\",DATUM[\"WGS_1984\",SPHEROID[\"WGS 84\",6378137,298.257223563,AUTHORITY[\"EPSG\",\"7030\"]],AUTHORITY[\"EPSG\",\"6326\"]],PRIMEM[\"Greenwich\",0],UNIT[\"degree\",0.0174532925199433,AUTHORITY[\"EPSG\",\"9122\"]],AXIS[\"Latitude\",NORTH],AXIS[\"Longitude\",EAST],AUTHORITY[\"EPSG\",\"4326\"]]\n",
            "Origin = (-74.0, 5.333333333999995)\n",
            "Pixel Size = (0.16666666666808508, -0.16666666666808505)\n",
            "0.7142857142857143 0.75 0.75\n"
          ]
        }
      ]
    },
    {
      "cell_type": "code",
      "source": [
        "# Test where all locations are unique.\n",
        "def fraud_metrics_unique_locations():\n",
        "  # The range of expected values is around 25 for most locations here.\n",
        "  sample_data = pd.DataFrame({\n",
        "      'Code': [\"a\", \"b\", \"c\", \"d\", \"e\", \"f\", \"g\", \"h\"],\n",
        "      'long': [-71, -69, -68, -67, -66, -65, -64, -63],\n",
        "      'lat': [-5.5, -5, -4.5, -4.3, -4, -3.9, -3.5, -3],\n",
        "      'fraud': [True, False, True, False, True, False, True, False],\n",
        "      'd18O_cel': [-20.0, 5.0, 100.0, 5.0, 8.0, 5.0, 0.0, 3.0],\n",
        "  })\n",
        "  isotope_column_name = ['d18O_cel']\n",
        "  test_means_isoscape = [raster.load_raster(raster.get_raster_path(TEST_ISOSCAPE_MEANS_FILENAME), use_only_band_index=0)]\n",
        "  test_vars_isoscape = [raster.load_raster(raster.get_raster_path(TEST_ISOSCAPE_VARS_FILENAME), use_only_band_index=0)]\n",
        "  sample_size_per_location = 2\n",
        "  p_value_target = 0.05\n",
        "\n",
        "  fraud_metrics = (\n",
        "    hypothesis.fraud_metrics(sample_data,\n",
        "                  isotope_column_name,\n",
        "                  test_means_isoscape,\n",
        "                  test_vars_isoscape,\n",
        "                  sample_size_per_location,\n",
        "                  p_value_target)\n",
        "  )\n",
        "  print()\n",
        "\n",
        "  assert(fraud_metrics.accuracy == pytest.approx(0))\n",
        "  assert(fraud_metrics.precision == pytest.approx(0))\n",
        "  assert(fraud_metrics.recall == pytest.approx(0))\n",
        "\n",
        "fraud_metrics_unique_locations()"
      ],
      "metadata": {
        "colab": {
          "base_uri": "https://localhost:8080/"
        },
        "id": "D7VBH24fjjrH",
        "outputId": "9ec0be78-a3af-4997-d1e6-5f4fde39e1ad"
      },
      "execution_count": 30,
      "outputs": [
        {
          "output_type": "stream",
          "name": "stdout",
          "text": [
            "Driver: GTiff/GeoTIFF\n",
            "Size is 235 x 234 x 1\n",
            "Projection is GEOGCS[\"WGS 84\",DATUM[\"WGS_1984\",SPHEROID[\"WGS 84\",6378137,298.257223563,AUTHORITY[\"EPSG\",\"7030\"]],AUTHORITY[\"EPSG\",\"6326\"]],PRIMEM[\"Greenwich\",0],UNIT[\"degree\",0.0174532925199433,AUTHORITY[\"EPSG\",\"9122\"]],AXIS[\"Latitude\",NORTH],AXIS[\"Longitude\",EAST],AUTHORITY[\"EPSG\",\"4326\"]]\n",
            "Origin = (-74.0, 5.333333333999995)\n",
            "Pixel Size = (0.16666666666808508, -0.16666666666808505)\n",
            "Driver: GTiff/GeoTIFF\n",
            "Size is 235 x 234 x 1\n",
            "Projection is GEOGCS[\"WGS 84\",DATUM[\"WGS_1984\",SPHEROID[\"WGS 84\",6378137,298.257223563,AUTHORITY[\"EPSG\",\"7030\"]],AUTHORITY[\"EPSG\",\"6326\"]],PRIMEM[\"Greenwich\",0],UNIT[\"degree\",0.0174532925199433,AUTHORITY[\"EPSG\",\"9122\"]],AXIS[\"Latitude\",NORTH],AXIS[\"Longitude\",EAST],AUTHORITY[\"EPSG\",\"4326\"]]\n",
            "Origin = (-74.0, 5.333333333999995)\n",
            "Pixel Size = (0.16666666666808508, -0.16666666666808505)\n",
            "\n"
          ]
        }
      ]
    }
  ]
}