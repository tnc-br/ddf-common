{
  "nbformat": 4,
  "nbformat_minor": 0,
  "metadata": {
    "colab": {
      "provenance": [],
      "authorship_tag": "ABX9TyP008Dt/JZojDqR4FDblMIl",
      "include_colab_link": true
    },
    "kernelspec": {
      "name": "python3",
      "display_name": "Python 3"
    },
    "language_info": {
      "name": "python"
    },
    "widgets": {
      "application/vnd.jupyter.widget-state+json": {
        "26d2a1f937114a5ca83f9eefc59175fd": {
          "model_module": "@jupyter-widgets/controls",
          "model_name": "VBoxModel",
          "model_module_version": "1.5.0",
          "state": {
            "_dom_classes": [
              "widget-interact"
            ],
            "_model_module": "@jupyter-widgets/controls",
            "_model_module_version": "1.5.0",
            "_model_name": "VBoxModel",
            "_view_count": null,
            "_view_module": "@jupyter-widgets/controls",
            "_view_module_version": "1.5.0",
            "_view_name": "VBoxView",
            "box_style": "",
            "children": [
              "IPY_MODEL_f9263107212f4b299cfa8556cf690910",
              "IPY_MODEL_42ea612b1054438c911e04c00af4b721",
              "IPY_MODEL_f6697e29c60a419682e5c4e2f09b3abd",
              "IPY_MODEL_783df2d2e2e8400e9748e11ba25e206e"
            ],
            "layout": "IPY_MODEL_15030e9a15434a68a9d823b6372e4f21"
          }
        },
        "f9263107212f4b299cfa8556cf690910": {
          "model_module": "@jupyter-widgets/controls",
          "model_name": "TextModel",
          "model_module_version": "1.5.0",
          "state": {
            "_dom_classes": [],
            "_model_module": "@jupyter-widgets/controls",
            "_model_module_version": "1.5.0",
            "_model_name": "TextModel",
            "_view_count": null,
            "_view_module": "@jupyter-widgets/controls",
            "_view_module_version": "1.5.0",
            "_view_name": "TextView",
            "continuous_update": true,
            "description": "Email",
            "description_tooltip": null,
            "disabled": false,
            "layout": "IPY_MODEL_c51d44b4ec4e473598746124e4c3ef9d",
            "placeholder": "Enter email",
            "style": "IPY_MODEL_1a77006425454c0f80e510c27a722358",
            "value": "luis061997@gmail.com"
          }
        },
        "42ea612b1054438c911e04c00af4b721": {
          "model_module": "@jupyter-widgets/controls",
          "model_name": "TextModel",
          "model_module_version": "1.5.0",
          "state": {
            "_dom_classes": [],
            "_model_module": "@jupyter-widgets/controls",
            "_model_module_version": "1.5.0",
            "_model_name": "TextModel",
            "_view_count": null,
            "_view_module": "@jupyter-widgets/controls",
            "_view_module_version": "1.5.0",
            "_view_name": "TextView",
            "continuous_update": true,
            "description": "Branch name",
            "description_tooltip": null,
            "disabled": false,
            "layout": "IPY_MODEL_c511d06fe5ca4189bb500c31979cf156",
            "placeholder": "Enter branch name",
            "style": "IPY_MODEL_3a0c1531e4a0459e98e01815ebcb14e3",
            "value": "combine_p_values"
          }
        },
        "f6697e29c60a419682e5c4e2f09b3abd": {
          "model_module": "@jupyter-widgets/controls",
          "model_name": "ButtonModel",
          "model_module_version": "1.5.0",
          "state": {
            "_dom_classes": [],
            "_model_module": "@jupyter-widgets/controls",
            "_model_module_version": "1.5.0",
            "_model_name": "ButtonModel",
            "_view_count": null,
            "_view_module": "@jupyter-widgets/controls",
            "_view_module_version": "1.5.0",
            "_view_name": "ButtonView",
            "button_style": "",
            "description": "Checkout Code",
            "disabled": false,
            "icon": "",
            "layout": "IPY_MODEL_df2d150139d54c2695413946709911fc",
            "style": "IPY_MODEL_f0fb2c3b3b2b4698ae66b9bac306fc5e",
            "tooltip": ""
          }
        },
        "783df2d2e2e8400e9748e11ba25e206e": {
          "model_module": "@jupyter-widgets/output",
          "model_name": "OutputModel",
          "model_module_version": "1.0.0",
          "state": {
            "_dom_classes": [],
            "_model_module": "@jupyter-widgets/output",
            "_model_module_version": "1.0.0",
            "_model_name": "OutputModel",
            "_view_count": null,
            "_view_module": "@jupyter-widgets/output",
            "_view_module_version": "1.0.0",
            "_view_name": "OutputView",
            "layout": "IPY_MODEL_f18895a106234692bdcaebdeb110fd26",
            "msg_id": "",
            "outputs": [
              {
                "output_type": "stream",
                "name": "stdout",
                "text": [
                  "Mounted at /content/gdrive\n"
                ]
              },
              {
                "output_type": "stream",
                "name": "stdout",
                "text": [
                  "b\"fatal: destination path 'ddf_common' already exists and is not an empty directory.\\nRepository already exists.\\n\"\n"
                ]
              },
              {
                "output_type": "stream",
                "name": "stdout",
                "text": [
                  "b'From https://github.com/tnc-br/ddf_common\\n   36fd46f..f6a4620  combine_p_values -> origin/combine_p_values\\nerror: Your local changes to the following files would be overwritten by merge:\\n\\thypothesis.py\\nPlease commit your changes or stash them before you merge.\\nAborting\\nUpdating 36fd46f..f6a4620\\n'\n",
                  "b''\n",
                  "combine_p_values branch checked out at \"/content/gdrive/MyDrive/combine_p_values/ddf_common\". You may now use ddf_common imports and change common files.\n"
                ]
              },
              {
                "output_type": "display_data",
                "data": {
                  "text/plain": "interactive(children=(Text(value='required', description='Commit Msg', placeholder='Enter commit message'), Bu…",
                  "application/vnd.jupyter.widget-view+json": {
                    "version_major": 2,
                    "version_minor": 0,
                    "model_id": "d69193c322314f238f66b88766b973ae"
                  }
                },
                "metadata": {}
              }
            ]
          }
        },
        "15030e9a15434a68a9d823b6372e4f21": {
          "model_module": "@jupyter-widgets/base",
          "model_name": "LayoutModel",
          "model_module_version": "1.2.0",
          "state": {
            "_model_module": "@jupyter-widgets/base",
            "_model_module_version": "1.2.0",
            "_model_name": "LayoutModel",
            "_view_count": null,
            "_view_module": "@jupyter-widgets/base",
            "_view_module_version": "1.2.0",
            "_view_name": "LayoutView",
            "align_content": null,
            "align_items": null,
            "align_self": null,
            "border": null,
            "bottom": null,
            "display": null,
            "flex": null,
            "flex_flow": null,
            "grid_area": null,
            "grid_auto_columns": null,
            "grid_auto_flow": null,
            "grid_auto_rows": null,
            "grid_column": null,
            "grid_gap": null,
            "grid_row": null,
            "grid_template_areas": null,
            "grid_template_columns": null,
            "grid_template_rows": null,
            "height": null,
            "justify_content": null,
            "justify_items": null,
            "left": null,
            "margin": null,
            "max_height": null,
            "max_width": null,
            "min_height": null,
            "min_width": null,
            "object_fit": null,
            "object_position": null,
            "order": null,
            "overflow": null,
            "overflow_x": null,
            "overflow_y": null,
            "padding": null,
            "right": null,
            "top": null,
            "visibility": null,
            "width": null
          }
        },
        "c51d44b4ec4e473598746124e4c3ef9d": {
          "model_module": "@jupyter-widgets/base",
          "model_name": "LayoutModel",
          "model_module_version": "1.2.0",
          "state": {
            "_model_module": "@jupyter-widgets/base",
            "_model_module_version": "1.2.0",
            "_model_name": "LayoutModel",
            "_view_count": null,
            "_view_module": "@jupyter-widgets/base",
            "_view_module_version": "1.2.0",
            "_view_name": "LayoutView",
            "align_content": null,
            "align_items": null,
            "align_self": null,
            "border": null,
            "bottom": null,
            "display": null,
            "flex": null,
            "flex_flow": null,
            "grid_area": null,
            "grid_auto_columns": null,
            "grid_auto_flow": null,
            "grid_auto_rows": null,
            "grid_column": null,
            "grid_gap": null,
            "grid_row": null,
            "grid_template_areas": null,
            "grid_template_columns": null,
            "grid_template_rows": null,
            "height": null,
            "justify_content": null,
            "justify_items": null,
            "left": null,
            "margin": null,
            "max_height": null,
            "max_width": null,
            "min_height": null,
            "min_width": null,
            "object_fit": null,
            "object_position": null,
            "order": null,
            "overflow": null,
            "overflow_x": null,
            "overflow_y": null,
            "padding": null,
            "right": null,
            "top": null,
            "visibility": null,
            "width": null
          }
        },
        "1a77006425454c0f80e510c27a722358": {
          "model_module": "@jupyter-widgets/controls",
          "model_name": "DescriptionStyleModel",
          "model_module_version": "1.5.0",
          "state": {
            "_model_module": "@jupyter-widgets/controls",
            "_model_module_version": "1.5.0",
            "_model_name": "DescriptionStyleModel",
            "_view_count": null,
            "_view_module": "@jupyter-widgets/base",
            "_view_module_version": "1.2.0",
            "_view_name": "StyleView",
            "description_width": ""
          }
        },
        "c511d06fe5ca4189bb500c31979cf156": {
          "model_module": "@jupyter-widgets/base",
          "model_name": "LayoutModel",
          "model_module_version": "1.2.0",
          "state": {
            "_model_module": "@jupyter-widgets/base",
            "_model_module_version": "1.2.0",
            "_model_name": "LayoutModel",
            "_view_count": null,
            "_view_module": "@jupyter-widgets/base",
            "_view_module_version": "1.2.0",
            "_view_name": "LayoutView",
            "align_content": null,
            "align_items": null,
            "align_self": null,
            "border": null,
            "bottom": null,
            "display": null,
            "flex": null,
            "flex_flow": null,
            "grid_area": null,
            "grid_auto_columns": null,
            "grid_auto_flow": null,
            "grid_auto_rows": null,
            "grid_column": null,
            "grid_gap": null,
            "grid_row": null,
            "grid_template_areas": null,
            "grid_template_columns": null,
            "grid_template_rows": null,
            "height": null,
            "justify_content": null,
            "justify_items": null,
            "left": null,
            "margin": null,
            "max_height": null,
            "max_width": null,
            "min_height": null,
            "min_width": null,
            "object_fit": null,
            "object_position": null,
            "order": null,
            "overflow": null,
            "overflow_x": null,
            "overflow_y": null,
            "padding": null,
            "right": null,
            "top": null,
            "visibility": null,
            "width": null
          }
        },
        "3a0c1531e4a0459e98e01815ebcb14e3": {
          "model_module": "@jupyter-widgets/controls",
          "model_name": "DescriptionStyleModel",
          "model_module_version": "1.5.0",
          "state": {
            "_model_module": "@jupyter-widgets/controls",
            "_model_module_version": "1.5.0",
            "_model_name": "DescriptionStyleModel",
            "_view_count": null,
            "_view_module": "@jupyter-widgets/base",
            "_view_module_version": "1.2.0",
            "_view_name": "StyleView",
            "description_width": ""
          }
        },
        "df2d150139d54c2695413946709911fc": {
          "model_module": "@jupyter-widgets/base",
          "model_name": "LayoutModel",
          "model_module_version": "1.2.0",
          "state": {
            "_model_module": "@jupyter-widgets/base",
            "_model_module_version": "1.2.0",
            "_model_name": "LayoutModel",
            "_view_count": null,
            "_view_module": "@jupyter-widgets/base",
            "_view_module_version": "1.2.0",
            "_view_name": "LayoutView",
            "align_content": null,
            "align_items": null,
            "align_self": null,
            "border": null,
            "bottom": null,
            "display": null,
            "flex": null,
            "flex_flow": null,
            "grid_area": null,
            "grid_auto_columns": null,
            "grid_auto_flow": null,
            "grid_auto_rows": null,
            "grid_column": null,
            "grid_gap": null,
            "grid_row": null,
            "grid_template_areas": null,
            "grid_template_columns": null,
            "grid_template_rows": null,
            "height": null,
            "justify_content": null,
            "justify_items": null,
            "left": null,
            "margin": null,
            "max_height": null,
            "max_width": null,
            "min_height": null,
            "min_width": null,
            "object_fit": null,
            "object_position": null,
            "order": null,
            "overflow": null,
            "overflow_x": null,
            "overflow_y": null,
            "padding": null,
            "right": null,
            "top": null,
            "visibility": null,
            "width": null
          }
        },
        "f0fb2c3b3b2b4698ae66b9bac306fc5e": {
          "model_module": "@jupyter-widgets/controls",
          "model_name": "ButtonStyleModel",
          "model_module_version": "1.5.0",
          "state": {
            "_model_module": "@jupyter-widgets/controls",
            "_model_module_version": "1.5.0",
            "_model_name": "ButtonStyleModel",
            "_view_count": null,
            "_view_module": "@jupyter-widgets/base",
            "_view_module_version": "1.2.0",
            "_view_name": "StyleView",
            "button_color": null,
            "font_weight": ""
          }
        },
        "f18895a106234692bdcaebdeb110fd26": {
          "model_module": "@jupyter-widgets/base",
          "model_name": "LayoutModel",
          "model_module_version": "1.2.0",
          "state": {
            "_model_module": "@jupyter-widgets/base",
            "_model_module_version": "1.2.0",
            "_model_name": "LayoutModel",
            "_view_count": null,
            "_view_module": "@jupyter-widgets/base",
            "_view_module_version": "1.2.0",
            "_view_name": "LayoutView",
            "align_content": null,
            "align_items": null,
            "align_self": null,
            "border": null,
            "bottom": null,
            "display": null,
            "flex": null,
            "flex_flow": null,
            "grid_area": null,
            "grid_auto_columns": null,
            "grid_auto_flow": null,
            "grid_auto_rows": null,
            "grid_column": null,
            "grid_gap": null,
            "grid_row": null,
            "grid_template_areas": null,
            "grid_template_columns": null,
            "grid_template_rows": null,
            "height": null,
            "justify_content": null,
            "justify_items": null,
            "left": null,
            "margin": null,
            "max_height": null,
            "max_width": null,
            "min_height": null,
            "min_width": null,
            "object_fit": null,
            "object_position": null,
            "order": null,
            "overflow": null,
            "overflow_x": null,
            "overflow_y": null,
            "padding": null,
            "right": null,
            "top": null,
            "visibility": null,
            "width": null
          }
        },
        "d69193c322314f238f66b88766b973ae": {
          "model_module": "@jupyter-widgets/controls",
          "model_name": "VBoxModel",
          "model_module_version": "1.5.0",
          "state": {
            "_dom_classes": [
              "widget-interact"
            ],
            "_model_module": "@jupyter-widgets/controls",
            "_model_module_version": "1.5.0",
            "_model_name": "VBoxModel",
            "_view_count": null,
            "_view_module": "@jupyter-widgets/controls",
            "_view_module_version": "1.5.0",
            "_view_name": "VBoxView",
            "box_style": "",
            "children": [
              "IPY_MODEL_cb1b256f044746248c745c6190d6ea7a",
              "IPY_MODEL_5851d6799dc64bebb58b557c40001adb",
              "IPY_MODEL_3df0a4f697a242c49dd9555027971dd0"
            ],
            "layout": "IPY_MODEL_e5fc5a96343b496aa7118a74e8901700"
          }
        },
        "cb1b256f044746248c745c6190d6ea7a": {
          "model_module": "@jupyter-widgets/controls",
          "model_name": "TextModel",
          "model_module_version": "1.5.0",
          "state": {
            "_dom_classes": [],
            "_model_module": "@jupyter-widgets/controls",
            "_model_module_version": "1.5.0",
            "_model_name": "TextModel",
            "_view_count": null,
            "_view_module": "@jupyter-widgets/controls",
            "_view_module_version": "1.5.0",
            "_view_name": "TextView",
            "continuous_update": true,
            "description": "Commit Msg",
            "description_tooltip": null,
            "disabled": false,
            "layout": "IPY_MODEL_04c1ac6eae144917878866de06f4c542",
            "placeholder": "Enter commit message",
            "style": "IPY_MODEL_d138b80cbfeb4b31adce2e0a427a24ef",
            "value": "required"
          }
        },
        "5851d6799dc64bebb58b557c40001adb": {
          "model_module": "@jupyter-widgets/controls",
          "model_name": "ButtonModel",
          "model_module_version": "1.5.0",
          "state": {
            "_dom_classes": [],
            "_model_module": "@jupyter-widgets/controls",
            "_model_module_version": "1.5.0",
            "_model_name": "ButtonModel",
            "_view_count": null,
            "_view_module": "@jupyter-widgets/controls",
            "_view_module_version": "1.5.0",
            "_view_name": "ButtonView",
            "button_style": "",
            "description": "Commit All Changes",
            "disabled": false,
            "icon": "",
            "layout": "IPY_MODEL_d368601dda024be88d1eecef4a2a1e4b",
            "style": "IPY_MODEL_cfb64bf8bcd54568af424837e65dec84",
            "tooltip": ""
          }
        },
        "3df0a4f697a242c49dd9555027971dd0": {
          "model_module": "@jupyter-widgets/output",
          "model_name": "OutputModel",
          "model_module_version": "1.0.0",
          "state": {
            "_dom_classes": [],
            "_model_module": "@jupyter-widgets/output",
            "_model_module_version": "1.0.0",
            "_model_name": "OutputModel",
            "_view_count": null,
            "_view_module": "@jupyter-widgets/output",
            "_view_module_version": "1.0.0",
            "_view_name": "OutputView",
            "layout": "IPY_MODEL_4cc82d8efb0b4663bd414053aab5223c",
            "msg_id": "",
            "outputs": []
          }
        },
        "e5fc5a96343b496aa7118a74e8901700": {
          "model_module": "@jupyter-widgets/base",
          "model_name": "LayoutModel",
          "model_module_version": "1.2.0",
          "state": {
            "_model_module": "@jupyter-widgets/base",
            "_model_module_version": "1.2.0",
            "_model_name": "LayoutModel",
            "_view_count": null,
            "_view_module": "@jupyter-widgets/base",
            "_view_module_version": "1.2.0",
            "_view_name": "LayoutView",
            "align_content": null,
            "align_items": null,
            "align_self": null,
            "border": null,
            "bottom": null,
            "display": null,
            "flex": null,
            "flex_flow": null,
            "grid_area": null,
            "grid_auto_columns": null,
            "grid_auto_flow": null,
            "grid_auto_rows": null,
            "grid_column": null,
            "grid_gap": null,
            "grid_row": null,
            "grid_template_areas": null,
            "grid_template_columns": null,
            "grid_template_rows": null,
            "height": null,
            "justify_content": null,
            "justify_items": null,
            "left": null,
            "margin": null,
            "max_height": null,
            "max_width": null,
            "min_height": null,
            "min_width": null,
            "object_fit": null,
            "object_position": null,
            "order": null,
            "overflow": null,
            "overflow_x": null,
            "overflow_y": null,
            "padding": null,
            "right": null,
            "top": null,
            "visibility": null,
            "width": null
          }
        },
        "04c1ac6eae144917878866de06f4c542": {
          "model_module": "@jupyter-widgets/base",
          "model_name": "LayoutModel",
          "model_module_version": "1.2.0",
          "state": {
            "_model_module": "@jupyter-widgets/base",
            "_model_module_version": "1.2.0",
            "_model_name": "LayoutModel",
            "_view_count": null,
            "_view_module": "@jupyter-widgets/base",
            "_view_module_version": "1.2.0",
            "_view_name": "LayoutView",
            "align_content": null,
            "align_items": null,
            "align_self": null,
            "border": null,
            "bottom": null,
            "display": null,
            "flex": null,
            "flex_flow": null,
            "grid_area": null,
            "grid_auto_columns": null,
            "grid_auto_flow": null,
            "grid_auto_rows": null,
            "grid_column": null,
            "grid_gap": null,
            "grid_row": null,
            "grid_template_areas": null,
            "grid_template_columns": null,
            "grid_template_rows": null,
            "height": null,
            "justify_content": null,
            "justify_items": null,
            "left": null,
            "margin": null,
            "max_height": null,
            "max_width": null,
            "min_height": null,
            "min_width": null,
            "object_fit": null,
            "object_position": null,
            "order": null,
            "overflow": null,
            "overflow_x": null,
            "overflow_y": null,
            "padding": null,
            "right": null,
            "top": null,
            "visibility": null,
            "width": null
          }
        },
        "d138b80cbfeb4b31adce2e0a427a24ef": {
          "model_module": "@jupyter-widgets/controls",
          "model_name": "DescriptionStyleModel",
          "model_module_version": "1.5.0",
          "state": {
            "_model_module": "@jupyter-widgets/controls",
            "_model_module_version": "1.5.0",
            "_model_name": "DescriptionStyleModel",
            "_view_count": null,
            "_view_module": "@jupyter-widgets/base",
            "_view_module_version": "1.2.0",
            "_view_name": "StyleView",
            "description_width": ""
          }
        },
        "d368601dda024be88d1eecef4a2a1e4b": {
          "model_module": "@jupyter-widgets/base",
          "model_name": "LayoutModel",
          "model_module_version": "1.2.0",
          "state": {
            "_model_module": "@jupyter-widgets/base",
            "_model_module_version": "1.2.0",
            "_model_name": "LayoutModel",
            "_view_count": null,
            "_view_module": "@jupyter-widgets/base",
            "_view_module_version": "1.2.0",
            "_view_name": "LayoutView",
            "align_content": null,
            "align_items": null,
            "align_self": null,
            "border": null,
            "bottom": null,
            "display": null,
            "flex": null,
            "flex_flow": null,
            "grid_area": null,
            "grid_auto_columns": null,
            "grid_auto_flow": null,
            "grid_auto_rows": null,
            "grid_column": null,
            "grid_gap": null,
            "grid_row": null,
            "grid_template_areas": null,
            "grid_template_columns": null,
            "grid_template_rows": null,
            "height": null,
            "justify_content": null,
            "justify_items": null,
            "left": null,
            "margin": null,
            "max_height": null,
            "max_width": null,
            "min_height": null,
            "min_width": null,
            "object_fit": null,
            "object_position": null,
            "order": null,
            "overflow": null,
            "overflow_x": null,
            "overflow_y": null,
            "padding": null,
            "right": null,
            "top": null,
            "visibility": null,
            "width": null
          }
        },
        "cfb64bf8bcd54568af424837e65dec84": {
          "model_module": "@jupyter-widgets/controls",
          "model_name": "ButtonStyleModel",
          "model_module_version": "1.5.0",
          "state": {
            "_model_module": "@jupyter-widgets/controls",
            "_model_module_version": "1.5.0",
            "_model_name": "ButtonStyleModel",
            "_view_count": null,
            "_view_module": "@jupyter-widgets/base",
            "_view_module_version": "1.2.0",
            "_view_name": "StyleView",
            "button_color": null,
            "font_weight": ""
          }
        },
        "4cc82d8efb0b4663bd414053aab5223c": {
          "model_module": "@jupyter-widgets/base",
          "model_name": "LayoutModel",
          "model_module_version": "1.2.0",
          "state": {
            "_model_module": "@jupyter-widgets/base",
            "_model_module_version": "1.2.0",
            "_model_name": "LayoutModel",
            "_view_count": null,
            "_view_module": "@jupyter-widgets/base",
            "_view_module_version": "1.2.0",
            "_view_name": "LayoutView",
            "align_content": null,
            "align_items": null,
            "align_self": null,
            "border": null,
            "bottom": null,
            "display": null,
            "flex": null,
            "flex_flow": null,
            "grid_area": null,
            "grid_auto_columns": null,
            "grid_auto_flow": null,
            "grid_auto_rows": null,
            "grid_column": null,
            "grid_gap": null,
            "grid_row": null,
            "grid_template_areas": null,
            "grid_template_columns": null,
            "grid_template_rows": null,
            "height": null,
            "justify_content": null,
            "justify_items": null,
            "left": null,
            "margin": null,
            "max_height": null,
            "max_width": null,
            "min_height": null,
            "min_width": null,
            "object_fit": null,
            "object_position": null,
            "order": null,
            "overflow": null,
            "overflow_x": null,
            "overflow_y": null,
            "padding": null,
            "right": null,
            "top": null,
            "visibility": null,
            "width": null
          }
        }
      }
    }
  },
  "cells": [
    {
      "cell_type": "markdown",
      "metadata": {
        "id": "view-in-github",
        "colab_type": "text"
      },
      "source": [
        "<a href=\"https://colab.research.google.com/github/tnc-br/ddf_common/blob/combine_p_values/hypothesis_test.ipynb\" target=\"_parent\"><img src=\"https://colab.research.google.com/assets/colab-badge.svg\" alt=\"Open In Colab\"/></a>"
      ]
    },
    {
      "cell_type": "code",
      "source": [
        "TEST_OXYGEN_ISOSCAPE_MEANS_FILENAME = \"canonical/kriging_random_means.tiff\" #@param\n",
        "TEST_OXYGEN_ISOSCAPE_VARS_FILENAME = \"canonical/kriging_random_means.tiff\" #@param\n",
        "\n",
        "TEST_NITROGEN_ISOSCAPE_MEANS_FILENAME = \"plant_nitrogen_isoscape.tiff\" #@param\n",
        "TEST_NITROGEN_ISOSCAPE_VARS_FILENAME = \"plant_nitrogen_isoscape.tiff\" #@param"
      ],
      "metadata": {
        "id": "eiKKk8X0UwGr"
      },
      "execution_count": 1,
      "outputs": []
    },
    {
      "cell_type": "code",
      "execution_count": 2,
      "metadata": {
        "colab": {
          "base_uri": "https://localhost:8080/",
          "height": 758,
          "referenced_widgets": [
            "26d2a1f937114a5ca83f9eefc59175fd",
            "f9263107212f4b299cfa8556cf690910",
            "42ea612b1054438c911e04c00af4b721",
            "f6697e29c60a419682e5c4e2f09b3abd",
            "783df2d2e2e8400e9748e11ba25e206e",
            "15030e9a15434a68a9d823b6372e4f21",
            "c51d44b4ec4e473598746124e4c3ef9d",
            "1a77006425454c0f80e510c27a722358",
            "c511d06fe5ca4189bb500c31979cf156",
            "3a0c1531e4a0459e98e01815ebcb14e3",
            "df2d150139d54c2695413946709911fc",
            "f0fb2c3b3b2b4698ae66b9bac306fc5e",
            "f18895a106234692bdcaebdeb110fd26",
            "d69193c322314f238f66b88766b973ae",
            "cb1b256f044746248c745c6190d6ea7a",
            "5851d6799dc64bebb58b557c40001adb",
            "3df0a4f697a242c49dd9555027971dd0",
            "e5fc5a96343b496aa7118a74e8901700",
            "04c1ac6eae144917878866de06f4c542",
            "d138b80cbfeb4b31adce2e0a427a24ef",
            "d368601dda024be88d1eecef4a2a1e4b",
            "cfb64bf8bcd54568af424837e65dec84",
            "4cc82d8efb0b4663bd414053aab5223c"
          ]
        },
        "cellView": "form",
        "id": "m_dhA5olS5KR",
        "outputId": "a37e2586-ff96-4a95-ebf3-20f7bbe203de"
      },
      "outputs": [
        {
          "output_type": "stream",
          "name": "stdout",
          "text": [
            "Requirement already satisfied: opencv-python in /usr/local/lib/python3.10/dist-packages (4.7.0.72)\n",
            "Requirement already satisfied: numpy>=1.21.2 in /usr/local/lib/python3.10/dist-packages (from opencv-python) (1.22.4)\n",
            "Requirement already satisfied: matplotlib in /usr/local/lib/python3.10/dist-packages (3.7.1)\n",
            "Requirement already satisfied: contourpy>=1.0.1 in /usr/local/lib/python3.10/dist-packages (from matplotlib) (1.1.0)\n",
            "Requirement already satisfied: cycler>=0.10 in /usr/local/lib/python3.10/dist-packages (from matplotlib) (0.11.0)\n",
            "Requirement already satisfied: fonttools>=4.22.0 in /usr/local/lib/python3.10/dist-packages (from matplotlib) (4.41.1)\n",
            "Requirement already satisfied: kiwisolver>=1.0.1 in /usr/local/lib/python3.10/dist-packages (from matplotlib) (1.4.4)\n",
            "Requirement already satisfied: numpy>=1.20 in /usr/local/lib/python3.10/dist-packages (from matplotlib) (1.22.4)\n",
            "Requirement already satisfied: packaging>=20.0 in /usr/local/lib/python3.10/dist-packages (from matplotlib) (23.1)\n",
            "Requirement already satisfied: pillow>=6.2.0 in /usr/local/lib/python3.10/dist-packages (from matplotlib) (9.4.0)\n",
            "Requirement already satisfied: pyparsing>=2.3.1 in /usr/local/lib/python3.10/dist-packages (from matplotlib) (3.1.0)\n",
            "Requirement already satisfied: python-dateutil>=2.7 in /usr/local/lib/python3.10/dist-packages (from matplotlib) (2.8.2)\n",
            "Requirement already satisfied: six>=1.5 in /usr/local/lib/python3.10/dist-packages (from python-dateutil>=2.7->matplotlib) (1.16.0)\n",
            "Requirement already satisfied: pandas in /usr/local/lib/python3.10/dist-packages (1.5.3)\n",
            "Requirement already satisfied: python-dateutil>=2.8.1 in /usr/local/lib/python3.10/dist-packages (from pandas) (2.8.2)\n",
            "Requirement already satisfied: pytz>=2020.1 in /usr/local/lib/python3.10/dist-packages (from pandas) (2022.7.1)\n",
            "Requirement already satisfied: numpy>=1.21.0 in /usr/local/lib/python3.10/dist-packages (from pandas) (1.22.4)\n",
            "Requirement already satisfied: six>=1.5 in /usr/local/lib/python3.10/dist-packages (from python-dateutil>=2.8.1->pandas) (1.16.0)\n",
            "Cloning into 'ddf_common_stub'...\n",
            "remote: Enumerating objects: 11, done.\u001b[K\n",
            "remote: Counting objects: 100% (11/11), done.\u001b[K\n",
            "remote: Compressing objects: 100% (11/11), done.\u001b[K\n",
            "remote: Total 11 (delta 4), reused 0 (delta 0), pack-reused 0\u001b[K\n",
            "Receiving objects: 100% (11/11), 5.50 KiB | 5.50 MiB/s, done.\n",
            "Resolving deltas: 100% (4/4), done.\n"
          ]
        },
        {
          "output_type": "display_data",
          "data": {
            "text/plain": [
              "interactive(children=(Text(value='', description='Email', placeholder='Enter email'), Text(value='', descripti…"
            ],
            "application/vnd.jupyter.widget-view+json": {
              "version_major": 2,
              "version_minor": 0,
              "model_id": "26d2a1f937114a5ca83f9eefc59175fd"
            }
          },
          "metadata": {}
        }
      ],
      "source": [
        "#@title Imports and modules.\n",
        "%pip install opencv-python\n",
        "%pip install matplotlib\n",
        "%pip install pandas\n",
        "\n",
        "from osgeo import gdal, gdal_array\n",
        "import numpy as np\n",
        "import matplotlib.pyplot as plt\n",
        "from dataclasses import dataclass\n",
        "import matplotlib.animation as animation\n",
        "from matplotlib import rc\n",
        "from typing import List\n",
        "from numpy.random import MT19937, RandomState, SeedSequence\n",
        "import pandas as pd\n",
        "from tqdm import tqdm\n",
        "from io import StringIO\n",
        "import xgboost as xgb\n",
        "import os\n",
        "import math\n",
        "import glob\n",
        "\n",
        "rc('animation', html='jshtml')\n",
        "\n",
        "import sys\n",
        "!if [ ! -d \"/content/ddf_common_stub\" ] ; then git clone -b test https://github.com/tnc-br/ddf_common_stub.git; fi\n",
        "sys.path.append(\"/content/ddf_common_stub/\")\n",
        "import ddfimport\n",
        "ddfimport.ddf_source_control_pane()\n",
        "# ddfimport.ddf_import_common()"
      ]
    },
    {
      "cell_type": "markdown",
      "source": [
        "# Tests"
      ],
      "metadata": {
        "id": "7z7ViUtVXjPM"
      }
    },
    {
      "cell_type": "code",
      "source": [
        "import pytest\n",
        "import hypothesis\n",
        "import raster"
      ],
      "metadata": {
        "id": "FHP0DA06TVAW"
      },
      "execution_count": 3,
      "outputs": []
    },
    {
      "cell_type": "code",
      "source": [
        "import importlib\n",
        "import hypothesis\n",
        "importlib.reload(hypothesis)"
      ],
      "metadata": {
        "colab": {
          "base_uri": "https://localhost:8080/"
        },
        "id": "idaSFNBvZ2R4",
        "outputId": "b9ab16ac-d5c5-4aa2-aa2a-7693c7fe23db"
      },
      "execution_count": 37,
      "outputs": [
        {
          "output_type": "execute_result",
          "data": {
            "text/plain": [
              "<module 'hypothesis' from '/content/gdrive/MyDrive/combine_p_values/ddf_common/hypothesis.py'>"
            ]
          },
          "metadata": {},
          "execution_count": 37
        }
      ]
    },
    {
      "cell_type": "code",
      "source": [
        "def sample_ttest_test():\n",
        "  longitude = -71\n",
        "  latitude = -5.5\n",
        "  # The range of expected values is around 25 for most locations here.\n",
        "  isotope_values = [-20.0, -15.0]\n",
        "  test_means_isoscape = raster.load_raster(raster.get_raster_path(TEST_OXYGEN_ISOSCAPE_MEANS_FILENAME), use_only_band_index=0)\n",
        "  test_vars_isoscape = raster.load_raster(raster.get_raster_path(TEST_OXYGEN_ISOSCAPE_VARS_FILENAME), use_only_band_index=0)\n",
        "  sample_size_per_location = 2\n",
        "  p_value_target = 0.05\n",
        "\n",
        "  hypothesis_test = hypothesis.sample_ttest(longitude,\n",
        "                 latitude,\n",
        "                 isotope_values,\n",
        "                 test_means_isoscape,\n",
        "                 test_vars_isoscape,\n",
        "                 sample_size_per_location,\n",
        "                 p_value_target)\n",
        "\n",
        "  assert(hypothesis_test.longitude == pytest.approx(-71))\n",
        "  assert(hypothesis_test.latitude == pytest.approx(-5.5))\n",
        "  assert(hypothesis_test.p_value == pytest.approx(0.014089625399513375))\n",
        "  assert(hypothesis_test.p_value_threshold == pytest.approx(0.05))\n",
        "\n",
        "sample_ttest_test()"
      ],
      "metadata": {
        "id": "X1n2rmMJxqrm",
        "outputId": "4bf14316-d1b6-454c-f2ea-112436765cfc",
        "colab": {
          "base_uri": "https://localhost:8080/"
        }
      },
      "execution_count": 7,
      "outputs": [
        {
          "output_type": "stream",
          "name": "stdout",
          "text": [
            "Driver: GTiff/GeoTIFF\n",
            "Size is 235 x 234 x 1\n",
            "Projection is GEOGCS[\"WGS 84\",DATUM[\"WGS_1984\",SPHEROID[\"WGS 84\",6378137,298.257223563,AUTHORITY[\"EPSG\",\"7030\"]],AUTHORITY[\"EPSG\",\"6326\"]],PRIMEM[\"Greenwich\",0],UNIT[\"degree\",0.0174532925199433,AUTHORITY[\"EPSG\",\"9122\"]],AXIS[\"Latitude\",NORTH],AXIS[\"Longitude\",EAST],AUTHORITY[\"EPSG\",\"4326\"]]\n",
            "Origin = (-74.0, 5.333333333999995)\n",
            "Pixel Size = (0.16666666666808508, -0.16666666666808505)\n",
            "Driver: GTiff/GeoTIFF\n",
            "Size is 235 x 234 x 1\n",
            "Projection is GEOGCS[\"WGS 84\",DATUM[\"WGS_1984\",SPHEROID[\"WGS 84\",6378137,298.257223563,AUTHORITY[\"EPSG\",\"7030\"]],AUTHORITY[\"EPSG\",\"6326\"]],PRIMEM[\"Greenwich\",0],UNIT[\"degree\",0.0174532925199433,AUTHORITY[\"EPSG\",\"9122\"]],AXIS[\"Latitude\",NORTH],AXIS[\"Longitude\",EAST],AUTHORITY[\"EPSG\",\"4326\"]]\n",
            "Origin = (-74.0, 5.333333333999995)\n",
            "Pixel Size = (0.16666666666808508, -0.16666666666808505)\n"
          ]
        }
      ]
    },
    {
      "cell_type": "code",
      "source": [
        "import unittest\n",
        "\n",
        "class SampleTTestCase(unittest.TestCase):\n",
        "  def sample_ttest_test_tail_location(self):\n",
        "    longitude = -71\n",
        "    latitude = -5.5\n",
        "    # The range of expected values is around 25 for most locations here.\n",
        "    isotope_values = [-20.0]\n",
        "    test_means_isoscape = raster.load_raster(raster.get_raster_path(TEST_OXYGEN_ISOSCAPE_MEANS_FILENAME), use_only_band_index=0)\n",
        "    test_vars_isoscape = raster.load_raster(raster.get_raster_path(TEST_OXYGEN_ISOSCAPE_VARS_FILENAME), use_only_band_index=0)\n",
        "    sample_size_per_location = 2\n",
        "    p_value_target = 0.05\n",
        "\n",
        "    with self.assertRaises(ValueError):\n",
        "      hypothesis.sample_ttest(longitude,\n",
        "                    latitude,\n",
        "                    isotope_values,\n",
        "                    test_means_isoscape,\n",
        "                    test_vars_isoscape,\n",
        "                    sample_size_per_location,\n",
        "                    p_value_target)\n",
        "\n",
        "SampleTTestCase().sample_ttest_test_tail_location()"
      ],
      "metadata": {
        "id": "Qiq_U8yny5iK",
        "outputId": "93417297-f8bd-46d9-f359-04116a8ac223",
        "colab": {
          "base_uri": "https://localhost:8080/"
        }
      },
      "execution_count": 8,
      "outputs": [
        {
          "output_type": "stream",
          "name": "stdout",
          "text": [
            "Driver: GTiff/GeoTIFF\n",
            "Size is 235 x 234 x 1\n",
            "Projection is GEOGCS[\"WGS 84\",DATUM[\"WGS_1984\",SPHEROID[\"WGS 84\",6378137,298.257223563,AUTHORITY[\"EPSG\",\"7030\"]],AUTHORITY[\"EPSG\",\"6326\"]],PRIMEM[\"Greenwich\",0],UNIT[\"degree\",0.0174532925199433,AUTHORITY[\"EPSG\",\"9122\"]],AXIS[\"Latitude\",NORTH],AXIS[\"Longitude\",EAST],AUTHORITY[\"EPSG\",\"4326\"]]\n",
            "Origin = (-74.0, 5.333333333999995)\n",
            "Pixel Size = (0.16666666666808508, -0.16666666666808505)\n",
            "Driver: GTiff/GeoTIFF\n",
            "Size is 235 x 234 x 1\n",
            "Projection is GEOGCS[\"WGS 84\",DATUM[\"WGS_1984\",SPHEROID[\"WGS 84\",6378137,298.257223563,AUTHORITY[\"EPSG\",\"7030\"]],AUTHORITY[\"EPSG\",\"6326\"]],PRIMEM[\"Greenwich\",0],UNIT[\"degree\",0.0174532925199433,AUTHORITY[\"EPSG\",\"9122\"]],AXIS[\"Latitude\",NORTH],AXIS[\"Longitude\",EAST],AUTHORITY[\"EPSG\",\"4326\"]]\n",
            "Origin = (-74.0, 5.333333333999995)\n",
            "Pixel Size = (0.16666666666808508, -0.16666666666808505)\n"
          ]
        }
      ]
    },
    {
      "cell_type": "code",
      "source": [
        "def fraud_metrics_test():\n",
        "  # The range of expected values is around 25 for most locations here.\n",
        "  sample_data = pd.DataFrame({\n",
        "      'Code': [\"a\", \"b\", \"c\", \"d\", \"e\", \"f\", \"g\", \"h\",\n",
        "               \"a\", \"b\", \"c\", \"d\", \"e\", \"f\", \"g\", \"h\"],\n",
        "      'long': [-71, -69, -68, -67, -66, -65, -64, -63,\n",
        "               -71, -69, -68, -67, -66, -65, -64, -63],\n",
        "      'lat': [-5.5, -5, -4.5, -4.3, -4, -3.9, -3.5, -3,\n",
        "              -5.5, -5, -4.5, -4.3, -4, -3.9, -3.5, -3],\n",
        "      'fraud': [True, False, True, False, True, False, True, False,\n",
        "                True, False, True, False, True, False, True, False],\n",
        "      'd18O_cel': [-20.0, 5.0, 100.0, 5.0, 8.0, 5.0, 0.0, 3.0,\n",
        "                   -20.0, 25.0, 105.0, 25.0, 20.0, 2.0, 0.0, 25.0],\n",
        "  })\n",
        "  isotope_column_names = ['d18O_cel']\n",
        "  test_means_isoscapes = [raster.load_raster(raster.get_raster_path(TEST_OXYGEN_ISOSCAPE_MEANS_FILENAME), use_only_band_index=0)]\n",
        "  test_vars_isoscapes = [raster.load_raster(raster.get_raster_path(TEST_OXYGEN_ISOSCAPE_VARS_FILENAME), use_only_band_index=0)]\n",
        "  sample_size_per_location = 2\n",
        "  p_value_target = 0.05\n",
        "\n",
        "  fraud_metrics = (\n",
        "    hypothesis.fraud_metrics(sample_data,\n",
        "                  isotope_column_names,\n",
        "                  test_means_isoscapes,\n",
        "                  test_vars_isoscapes,\n",
        "                  sample_size_per_location,\n",
        "                  p_value_target)\n",
        "  )\n",
        "\n",
        "  assert(fraud_metrics.accuracy == pytest.approx(0.625))\n",
        "  assert(fraud_metrics.precision == pytest.approx(1.0))\n",
        "  assert(fraud_metrics.recall == pytest.approx(0.25))\n",
        "\n",
        "fraud_metrics_test()"
      ],
      "metadata": {
        "colab": {
          "base_uri": "https://localhost:8080/"
        },
        "id": "NJDEPOC4TWyq",
        "outputId": "4c615024-800e-42ab-9ea7-bd4fd9f62b42"
      },
      "execution_count": 10,
      "outputs": [
        {
          "output_type": "stream",
          "name": "stdout",
          "text": [
            "Driver: GTiff/GeoTIFF\n",
            "Size is 235 x 234 x 1\n",
            "Projection is GEOGCS[\"WGS 84\",DATUM[\"WGS_1984\",SPHEROID[\"WGS 84\",6378137,298.257223563,AUTHORITY[\"EPSG\",\"7030\"]],AUTHORITY[\"EPSG\",\"6326\"]],PRIMEM[\"Greenwich\",0],UNIT[\"degree\",0.0174532925199433,AUTHORITY[\"EPSG\",\"9122\"]],AXIS[\"Latitude\",NORTH],AXIS[\"Longitude\",EAST],AUTHORITY[\"EPSG\",\"4326\"]]\n",
            "Origin = (-74.0, 5.333333333999995)\n",
            "Pixel Size = (0.16666666666808508, -0.16666666666808505)\n",
            "Driver: GTiff/GeoTIFF\n",
            "Size is 235 x 234 x 1\n",
            "Projection is GEOGCS[\"WGS 84\",DATUM[\"WGS_1984\",SPHEROID[\"WGS 84\",6378137,298.257223563,AUTHORITY[\"EPSG\",\"7030\"]],AUTHORITY[\"EPSG\",\"6326\"]],PRIMEM[\"Greenwich\",0],UNIT[\"degree\",0.0174532925199433,AUTHORITY[\"EPSG\",\"9122\"]],AXIS[\"Latitude\",NORTH],AXIS[\"Longitude\",EAST],AUTHORITY[\"EPSG\",\"4326\"]]\n",
            "Origin = (-74.0, 5.333333333999995)\n",
            "Pixel Size = (0.16666666666808508, -0.16666666666808505)\n"
          ]
        }
      ]
    },
    {
      "cell_type": "code",
      "source": [
        "def fraud_metrics_combine_p_values_test():\n",
        "  # The range of expected values is around 25 for most locations here.\n",
        "  sample_data = pd.DataFrame({\n",
        "      'Code': [\"a\", \"b\", \"c\", \"d\", \"e\", \"f\", \"g\", \"h\",\n",
        "               \"a\", \"b\", \"c\", \"d\", \"e\", \"f\", \"g\", \"h\"],\n",
        "      'long': [-71, -69, -68, -67, -66, -65, -64, -63,\n",
        "               -71, -69, -68, -67, -66, -65, -64, -63],\n",
        "      'lat': [-5.5, -5, -4.5, -4.3, -4, -3.9, -3.5, -3,\n",
        "              -5.5, -5, -4.5, -4.3, -4, -3.9, -3.5, -3],\n",
        "      'fraud': [True, False, True, False, True, False, True, False,\n",
        "                True, False, True, False, True, False, True, False],\n",
        "      'd18O_cel': [-20.0, 5.0, 100.0, 5.0, 8.0, 5.0, 0.0, 3.0,\n",
        "                   -20.0, 25.0, 105.0, 25.0, 20.0, 2.0, 0.0, 25.0],\n",
        "      'd15N_wood': [-20.0, 25.0, 105.0, 25.0, 20.0, 2.0, 0.0, 25.0,\n",
        "                     -20.0, 5.0, 100.0, 5.0, 8.0, 5.0, 0.0, 3.0],\n",
        "  })\n",
        "  isotope_column_names = ['d18O_cel', 'd15N_wood']\n",
        "  test_means_isoscapes = [\n",
        "      raster.load_raster(\n",
        "          raster.get_raster_path(TEST_OXYGEN_ISOSCAPE_MEANS_FILENAME),\n",
        "          use_only_band_index=0),\n",
        "      raster.load_raster(\n",
        "          raster.get_raster_path(TEST_NITROGEN_ISOSCAPE_MEANS_FILENAME),\n",
        "          use_only_band_index=0)]\n",
        "  test_vars_isoscapes = [\n",
        "      raster.load_raster(\n",
        "          raster.get_raster_path(TEST_OXYGEN_ISOSCAPE_VARS_FILENAME),\n",
        "          use_only_band_index=0),\n",
        "      raster.load_raster(\n",
        "          raster.get_raster_path(TEST_NITROGEN_ISOSCAPE_VARS_FILENAME),\n",
        "          use_only_band_index=0)]\n",
        "  sample_size_per_location = 2\n",
        "  p_value_target = 0.05\n",
        "\n",
        "  print(\"in test\", isotope_column_names)\n",
        "  fraud_metrics = (\n",
        "    hypothesis.fraud_metrics(sample_data,\n",
        "                  isotope_column_names,\n",
        "                  test_means_isoscapes,\n",
        "                  test_vars_isoscapes,\n",
        "                  sample_size_per_location,\n",
        "                  p_value_target)\n",
        "  )\n",
        "\n",
        "  assert(fraud_metrics.accuracy == pytest.approx(0.875))\n",
        "  assert(fraud_metrics.precision == pytest.approx(1.0))\n",
        "  assert(fraud_metrics.recall == pytest.approx(0.75))\n",
        "\n",
        "fraud_metrics_combine_p_values_test()"
      ],
      "metadata": {
        "id": "Zbd0RwTp_0t6",
        "outputId": "64eaeb31-5fd0-43fa-d12b-63f87ec48790",
        "colab": {
          "base_uri": "https://localhost:8080/"
        }
      },
      "execution_count": 32,
      "outputs": [
        {
          "output_type": "stream",
          "name": "stdout",
          "text": [
            "Driver: GTiff/GeoTIFF\n",
            "Size is 235 x 234 x 1\n",
            "Projection is GEOGCS[\"WGS 84\",DATUM[\"WGS_1984\",SPHEROID[\"WGS 84\",6378137,298.257223563,AUTHORITY[\"EPSG\",\"7030\"]],AUTHORITY[\"EPSG\",\"6326\"]],PRIMEM[\"Greenwich\",0],UNIT[\"degree\",0.0174532925199433,AUTHORITY[\"EPSG\",\"9122\"]],AXIS[\"Latitude\",NORTH],AXIS[\"Longitude\",EAST],AUTHORITY[\"EPSG\",\"4326\"]]\n",
            "Origin = (-74.0, 5.333333333999995)\n",
            "Pixel Size = (0.16666666666808508, -0.16666666666808505)\n",
            "Driver: GTiff/GeoTIFF\n",
            "Size is 3671 x 2631 x 1\n",
            "Projection is GEOGCS[\"WGS 84\",DATUM[\"WGS_1984\",SPHEROID[\"WGS 84\",6378137,298.257223563,AUTHORITY[\"EPSG\",\"7030\"]],AUTHORITY[\"EPSG\",\"6326\"]],PRIMEM[\"Greenwich\",0],UNIT[\"degree\",0.0174532925199433,AUTHORITY[\"EPSG\",\"9122\"]],AXIS[\"Latitude\",NORTH],AXIS[\"Longitude\",EAST],AUTHORITY[\"EPSG\",\"4326\"]]\n",
            "Origin = (-73.9872799892171, 5.26666984632233)\n",
            "Pixel Size = (0.008333333767853947, -0.008333333767876788)\n",
            "Driver: GTiff/GeoTIFF\n",
            "Size is 235 x 234 x 1\n",
            "Projection is GEOGCS[\"WGS 84\",DATUM[\"WGS_1984\",SPHEROID[\"WGS 84\",6378137,298.257223563,AUTHORITY[\"EPSG\",\"7030\"]],AUTHORITY[\"EPSG\",\"6326\"]],PRIMEM[\"Greenwich\",0],UNIT[\"degree\",0.0174532925199433,AUTHORITY[\"EPSG\",\"9122\"]],AXIS[\"Latitude\",NORTH],AXIS[\"Longitude\",EAST],AUTHORITY[\"EPSG\",\"4326\"]]\n",
            "Origin = (-74.0, 5.333333333999995)\n",
            "Pixel Size = (0.16666666666808508, -0.16666666666808505)\n",
            "Driver: GTiff/GeoTIFF\n",
            "Size is 3671 x 2631 x 1\n",
            "Projection is GEOGCS[\"WGS 84\",DATUM[\"WGS_1984\",SPHEROID[\"WGS 84\",6378137,298.257223563,AUTHORITY[\"EPSG\",\"7030\"]],AUTHORITY[\"EPSG\",\"6326\"]],PRIMEM[\"Greenwich\",0],UNIT[\"degree\",0.0174532925199433,AUTHORITY[\"EPSG\",\"9122\"]],AXIS[\"Latitude\",NORTH],AXIS[\"Longitude\",EAST],AUTHORITY[\"EPSG\",\"4326\"]]\n",
            "Origin = (-73.9872799892171, 5.26666984632233)\n",
            "Pixel Size = (0.008333333767853947, -0.008333333767876788)\n",
            "in test ['d18O_cel', 'd15N_wood']\n"
          ]
        }
      ]
    },
    {
      "cell_type": "code",
      "source": [
        "# Test that we skip locations with one measurement.\n",
        "def fraud_metrics_some_tail_locations():\n",
        "  # The range of expected values is around 25 for most locations here.\n",
        "  # One of the (-67, -4.3) data points was removed. This element was a true\n",
        "  # negative (non-fraud) so accuracy is affected (decreases) but precision\n",
        "  # and recall weren't affected.\n",
        "  sample_data = pd.DataFrame({\n",
        "      'Code': [\"a\", \"b\", \"c\", \"e\", \"f\", \"g\", \"h\",\n",
        "               \"a\", \"b\", \"c\", \"d\", \"e\", \"f\", \"g\", \"h\"],\n",
        "      'long': [-71, -69, -68, -66, -65, -64, -63,\n",
        "               -71, -69, -68, -67, -66, -65, -64, -63],\n",
        "      'lat': [-5.5, -5, -4.5, -4, -3.9, -3.5, -3,\n",
        "              -5.5, -5, -4.5, -4.3, -4, -3.9, -3.5, -3],\n",
        "      'fraud': [True, False, True, True, False, True, False,\n",
        "                True, False, True, False, True, False, True, False],\n",
        "      'd18O_cel': [-20.0, 5.0, 100.0, 8.0, 5.0, 0.0, 3.0,\n",
        "                   -20.0, 25.0, 105.0, 25.0, 20.0, 2.0, 0.0, 25.0],\n",
        "  })\n",
        "  isotope_column_name = ['d18O_cel']\n",
        "  test_means_isoscape = [raster.load_raster(\n",
        "      raster.get_raster_path(TEST_OXYGEN_ISOSCAPE_MEANS_FILENAME),\n",
        "      use_only_band_index=0)]\n",
        "  test_vars_isoscape = [raster.load_raster(\n",
        "      raster.get_raster_path(TEST_OXYGEN_ISOSCAPE_VARS_FILENAME),\n",
        "      use_only_band_index=0)]\n",
        "  sample_size_per_location = 2\n",
        "  p_value_target = 0.05\n",
        "\n",
        "  fraud_metrics = (\n",
        "    hypothesis.fraud_metrics(sample_data,\n",
        "                  isotope_column_name,\n",
        "                  test_means_isoscape,\n",
        "                  test_vars_isoscape,\n",
        "                  sample_size_per_location,\n",
        "                  p_value_target)\n",
        "  )\n",
        "\n",
        "\n",
        "  print(fraud_metrics.accuracy, fraud_metrics.precision, fraud_metrics.recall)\n",
        "  assert(fraud_metrics.accuracy == pytest.approx(0.5714285714285714))\n",
        "  assert(fraud_metrics.precision == pytest.approx(1.0))\n",
        "  assert(fraud_metrics.recall == pytest.approx(0.25))\n",
        "\n",
        "fraud_metrics_some_tail_locations()"
      ],
      "metadata": {
        "colab": {
          "base_uri": "https://localhost:8080/"
        },
        "id": "WYfDorkMTpP7",
        "outputId": "622f74fe-9a64-48f2-900a-ef142f4c0731"
      },
      "execution_count": 36,
      "outputs": [
        {
          "output_type": "stream",
          "name": "stdout",
          "text": [
            "Driver: GTiff/GeoTIFF\n",
            "Size is 235 x 234 x 1\n",
            "Projection is GEOGCS[\"WGS 84\",DATUM[\"WGS_1984\",SPHEROID[\"WGS 84\",6378137,298.257223563,AUTHORITY[\"EPSG\",\"7030\"]],AUTHORITY[\"EPSG\",\"6326\"]],PRIMEM[\"Greenwich\",0],UNIT[\"degree\",0.0174532925199433,AUTHORITY[\"EPSG\",\"9122\"]],AXIS[\"Latitude\",NORTH],AXIS[\"Longitude\",EAST],AUTHORITY[\"EPSG\",\"4326\"]]\n",
            "Origin = (-74.0, 5.333333333999995)\n",
            "Pixel Size = (0.16666666666808508, -0.16666666666808505)\n",
            "Driver: GTiff/GeoTIFF\n",
            "Size is 235 x 234 x 1\n",
            "Projection is GEOGCS[\"WGS 84\",DATUM[\"WGS_1984\",SPHEROID[\"WGS 84\",6378137,298.257223563,AUTHORITY[\"EPSG\",\"7030\"]],AUTHORITY[\"EPSG\",\"6326\"]],PRIMEM[\"Greenwich\",0],UNIT[\"degree\",0.0174532925199433,AUTHORITY[\"EPSG\",\"9122\"]],AXIS[\"Latitude\",NORTH],AXIS[\"Longitude\",EAST],AUTHORITY[\"EPSG\",\"4326\"]]\n",
            "Origin = (-74.0, 5.333333333999995)\n",
            "Pixel Size = (0.16666666666808508, -0.16666666666808505)\n",
            "1 0\n",
            "0.5714285714285714 1.0 0.25\n"
          ]
        }
      ]
    },
    {
      "cell_type": "code",
      "source": [
        "# Test where all locations are unique.\n",
        "def fraud_metrics_unique_locations():\n",
        "  # The range of expected values is around 25 for most locations here.\n",
        "  sample_data = pd.DataFrame({\n",
        "      'Code': [\"a\", \"b\", \"c\", \"d\", \"e\", \"f\", \"g\", \"h\"],\n",
        "      'long': [-71, -69, -68, -67, -66, -65, -64, -63],\n",
        "      'lat': [-5.5, -5, -4.5, -4.3, -4, -3.9, -3.5, -3],\n",
        "      'fraud': [True, False, True, False, True, False, True, False],\n",
        "      'd18O_cel': [-20.0, 5.0, 100.0, 5.0, 8.0, 5.0, 0.0, 3.0],\n",
        "  })\n",
        "  isotope_column_name = ['d18O_cel']\n",
        "  test_means_isoscape = [raster.load_raster(\n",
        "      raster.get_raster_path(TEST_OXYGEN_ISOSCAPE_MEANS_FILENAME),\n",
        "      use_only_band_index=0)]\n",
        "  test_vars_isoscape = [raster.load_raster(\n",
        "      raster.get_raster_path(TEST_OXYGEN_ISOSCAPE_VARS_FILENAME),\n",
        "      use_only_band_index=0)]\n",
        "  sample_size_per_location = 2\n",
        "  p_value_target = 0.05\n",
        "\n",
        "  fraud_metrics = (\n",
        "    hypothesis.fraud_metrics(sample_data,\n",
        "                  isotope_column_name,\n",
        "                  test_means_isoscape,\n",
        "                  test_vars_isoscape,\n",
        "                  sample_size_per_location,\n",
        "                  p_value_target)\n",
        "  )\n",
        "  print()\n",
        "\n",
        "  assert(fraud_metrics.accuracy == pytest.approx(0))\n",
        "  assert(fraud_metrics.precision == pytest.approx(0))\n",
        "  assert(fraud_metrics.recall == pytest.approx(0))\n",
        "\n",
        "fraud_metrics_unique_locations()"
      ],
      "metadata": {
        "colab": {
          "base_uri": "https://localhost:8080/"
        },
        "id": "D7VBH24fjjrH",
        "outputId": "5e254556-62e9-4ae8-f23e-604dcbc2f1c5"
      },
      "execution_count": 39,
      "outputs": [
        {
          "output_type": "stream",
          "name": "stdout",
          "text": [
            "Driver: GTiff/GeoTIFF\n",
            "Size is 235 x 234 x 1\n",
            "Projection is GEOGCS[\"WGS 84\",DATUM[\"WGS_1984\",SPHEROID[\"WGS 84\",6378137,298.257223563,AUTHORITY[\"EPSG\",\"7030\"]],AUTHORITY[\"EPSG\",\"6326\"]],PRIMEM[\"Greenwich\",0],UNIT[\"degree\",0.0174532925199433,AUTHORITY[\"EPSG\",\"9122\"]],AXIS[\"Latitude\",NORTH],AXIS[\"Longitude\",EAST],AUTHORITY[\"EPSG\",\"4326\"]]\n",
            "Origin = (-74.0, 5.333333333999995)\n",
            "Pixel Size = (0.16666666666808508, -0.16666666666808505)\n",
            "Driver: GTiff/GeoTIFF\n",
            "Size is 235 x 234 x 1\n",
            "Projection is GEOGCS[\"WGS 84\",DATUM[\"WGS_1984\",SPHEROID[\"WGS 84\",6378137,298.257223563,AUTHORITY[\"EPSG\",\"7030\"]],AUTHORITY[\"EPSG\",\"6326\"]],PRIMEM[\"Greenwich\",0],UNIT[\"degree\",0.0174532925199433,AUTHORITY[\"EPSG\",\"9122\"]],AXIS[\"Latitude\",NORTH],AXIS[\"Longitude\",EAST],AUTHORITY[\"EPSG\",\"4326\"]]\n",
            "Origin = (-74.0, 5.333333333999995)\n",
            "Pixel Size = (0.16666666666808508, -0.16666666666808505)\n",
            "\n"
          ]
        }
      ]
    }
  ]
}