{
  "nbformat": 4,
  "nbformat_minor": 0,
  "metadata": {
    "colab": {
      "provenance": [],
      "authorship_tag": "ABX9TyMspvprCf/2QiHWCNVrWcG0",
      "include_colab_link": true
    },
    "kernelspec": {
      "name": "python3",
      "display_name": "Python 3"
    },
    "language_info": {
      "name": "python"
    },
    "widgets": {
      "application/vnd.jupyter.widget-state+json": {
        "98d90a8f188f483aabcf44024b4b5625": {
          "model_module": "@jupyter-widgets/controls",
          "model_name": "VBoxModel",
          "model_module_version": "1.5.0",
          "state": {
            "_dom_classes": [
              "widget-interact"
            ],
            "_model_module": "@jupyter-widgets/controls",
            "_model_module_version": "1.5.0",
            "_model_name": "VBoxModel",
            "_view_count": null,
            "_view_module": "@jupyter-widgets/controls",
            "_view_module_version": "1.5.0",
            "_view_name": "VBoxView",
            "box_style": "",
            "children": [
              "IPY_MODEL_ac69bd5f32e340f1b743388084fe4826",
              "IPY_MODEL_f53c358292e34d60b81f6fc125bfc045",
              "IPY_MODEL_4da5272f98714bfba77830c5f23bcc8d",
              "IPY_MODEL_7e14e4ec46ed4b8e975c9e716b946eb2"
            ],
            "layout": "IPY_MODEL_48f14ff7968d41b2ae2806d7a6cd2b35"
          }
        },
        "ac69bd5f32e340f1b743388084fe4826": {
          "model_module": "@jupyter-widgets/controls",
          "model_name": "TextModel",
          "model_module_version": "1.5.0",
          "state": {
            "_dom_classes": [],
            "_model_module": "@jupyter-widgets/controls",
            "_model_module_version": "1.5.0",
            "_model_name": "TextModel",
            "_view_count": null,
            "_view_module": "@jupyter-widgets/controls",
            "_view_module_version": "1.5.0",
            "_view_name": "TextView",
            "continuous_update": true,
            "description": "Email",
            "description_tooltip": null,
            "disabled": false,
            "layout": "IPY_MODEL_dce4f20092c840b1a7ab01e430e27d27",
            "placeholder": "Enter email",
            "style": "IPY_MODEL_fc2bc0d4d3074f909a5909ebc9bc6b66",
            "value": "luis061997@gmail.com"
          }
        },
        "f53c358292e34d60b81f6fc125bfc045": {
          "model_module": "@jupyter-widgets/controls",
          "model_name": "TextModel",
          "model_module_version": "1.5.0",
          "state": {
            "_dom_classes": [],
            "_model_module": "@jupyter-widgets/controls",
            "_model_module_version": "1.5.0",
            "_model_name": "TextModel",
            "_view_count": null,
            "_view_module": "@jupyter-widgets/controls",
            "_view_module_version": "1.5.0",
            "_view_name": "TextView",
            "continuous_update": true,
            "description": "Branch name",
            "description_tooltip": null,
            "disabled": false,
            "layout": "IPY_MODEL_35441f269dd24de89a91adfa66cfcfb9",
            "placeholder": "Enter branch name",
            "style": "IPY_MODEL_b6be0ac4f0b84cd2a6dec8d0df24e8ae",
            "value": "ttest"
          }
        },
        "4da5272f98714bfba77830c5f23bcc8d": {
          "model_module": "@jupyter-widgets/controls",
          "model_name": "ButtonModel",
          "model_module_version": "1.5.0",
          "state": {
            "_dom_classes": [],
            "_model_module": "@jupyter-widgets/controls",
            "_model_module_version": "1.5.0",
            "_model_name": "ButtonModel",
            "_view_count": null,
            "_view_module": "@jupyter-widgets/controls",
            "_view_module_version": "1.5.0",
            "_view_name": "ButtonView",
            "button_style": "",
            "description": "Checkout Code",
            "disabled": false,
            "icon": "",
            "layout": "IPY_MODEL_8cdc26f7ad94441aa165b4d873691854",
            "style": "IPY_MODEL_3e75a0231c22408fb434bf25202a530a",
            "tooltip": ""
          }
        },
        "7e14e4ec46ed4b8e975c9e716b946eb2": {
          "model_module": "@jupyter-widgets/output",
          "model_name": "OutputModel",
          "model_module_version": "1.0.0",
          "state": {
            "_dom_classes": [],
            "_model_module": "@jupyter-widgets/output",
            "_model_module_version": "1.0.0",
            "_model_name": "OutputModel",
            "_view_count": null,
            "_view_module": "@jupyter-widgets/output",
            "_view_module_version": "1.0.0",
            "_view_name": "OutputView",
            "layout": "IPY_MODEL_39926e34fb344d4987c2a032535244d9",
            "msg_id": "",
            "outputs": [
              {
                "output_type": "stream",
                "name": "stdout",
                "text": [
                  "executing checkout_branch ttest...\n",
                  "b\"fatal: destination path 'ddf_common' already exists and is not an empty directory.\\nRepository already exists.\\n\"\n"
                ]
              },
              {
                "output_type": "stream",
                "name": "stdout",
                "text": [
                  "b'From https://github.com/tnc-br/ddf_common\\n   0db236c..84e3907  ttest      -> origin/ttest\\nUpdating 0db236c..84e3907\\nFast-forward\\n hypothesis.py | 2 +-\\n 1 file changed, 1 insertion(+), 1 deletion(-)\\n'\n",
                  "b''\n",
                  "ttest branch checked out at \"/content/gdrive/MyDrive/ttest/ddf_common\". You may now use ddf_common imports and change common files.\n"
                ]
              },
              {
                "output_type": "display_data",
                "data": {
                  "text/plain": "interactive(children=(Text(value='required', description='Commit Msg', placeholder='Enter commit message'), Bu…",
                  "application/vnd.jupyter.widget-view+json": {
                    "version_major": 2,
                    "version_minor": 0,
                    "model_id": "42cdf3fc88784940b83cc457cbd2bdd4"
                  }
                },
                "metadata": {}
              }
            ]
          }
        },
        "48f14ff7968d41b2ae2806d7a6cd2b35": {
          "model_module": "@jupyter-widgets/base",
          "model_name": "LayoutModel",
          "model_module_version": "1.2.0",
          "state": {
            "_model_module": "@jupyter-widgets/base",
            "_model_module_version": "1.2.0",
            "_model_name": "LayoutModel",
            "_view_count": null,
            "_view_module": "@jupyter-widgets/base",
            "_view_module_version": "1.2.0",
            "_view_name": "LayoutView",
            "align_content": null,
            "align_items": null,
            "align_self": null,
            "border": null,
            "bottom": null,
            "display": null,
            "flex": null,
            "flex_flow": null,
            "grid_area": null,
            "grid_auto_columns": null,
            "grid_auto_flow": null,
            "grid_auto_rows": null,
            "grid_column": null,
            "grid_gap": null,
            "grid_row": null,
            "grid_template_areas": null,
            "grid_template_columns": null,
            "grid_template_rows": null,
            "height": null,
            "justify_content": null,
            "justify_items": null,
            "left": null,
            "margin": null,
            "max_height": null,
            "max_width": null,
            "min_height": null,
            "min_width": null,
            "object_fit": null,
            "object_position": null,
            "order": null,
            "overflow": null,
            "overflow_x": null,
            "overflow_y": null,
            "padding": null,
            "right": null,
            "top": null,
            "visibility": null,
            "width": null
          }
        },
        "dce4f20092c840b1a7ab01e430e27d27": {
          "model_module": "@jupyter-widgets/base",
          "model_name": "LayoutModel",
          "model_module_version": "1.2.0",
          "state": {
            "_model_module": "@jupyter-widgets/base",
            "_model_module_version": "1.2.0",
            "_model_name": "LayoutModel",
            "_view_count": null,
            "_view_module": "@jupyter-widgets/base",
            "_view_module_version": "1.2.0",
            "_view_name": "LayoutView",
            "align_content": null,
            "align_items": null,
            "align_self": null,
            "border": null,
            "bottom": null,
            "display": null,
            "flex": null,
            "flex_flow": null,
            "grid_area": null,
            "grid_auto_columns": null,
            "grid_auto_flow": null,
            "grid_auto_rows": null,
            "grid_column": null,
            "grid_gap": null,
            "grid_row": null,
            "grid_template_areas": null,
            "grid_template_columns": null,
            "grid_template_rows": null,
            "height": null,
            "justify_content": null,
            "justify_items": null,
            "left": null,
            "margin": null,
            "max_height": null,
            "max_width": null,
            "min_height": null,
            "min_width": null,
            "object_fit": null,
            "object_position": null,
            "order": null,
            "overflow": null,
            "overflow_x": null,
            "overflow_y": null,
            "padding": null,
            "right": null,
            "top": null,
            "visibility": null,
            "width": null
          }
        },
        "fc2bc0d4d3074f909a5909ebc9bc6b66": {
          "model_module": "@jupyter-widgets/controls",
          "model_name": "DescriptionStyleModel",
          "model_module_version": "1.5.0",
          "state": {
            "_model_module": "@jupyter-widgets/controls",
            "_model_module_version": "1.5.0",
            "_model_name": "DescriptionStyleModel",
            "_view_count": null,
            "_view_module": "@jupyter-widgets/base",
            "_view_module_version": "1.2.0",
            "_view_name": "StyleView",
            "description_width": ""
          }
        },
        "35441f269dd24de89a91adfa66cfcfb9": {
          "model_module": "@jupyter-widgets/base",
          "model_name": "LayoutModel",
          "model_module_version": "1.2.0",
          "state": {
            "_model_module": "@jupyter-widgets/base",
            "_model_module_version": "1.2.0",
            "_model_name": "LayoutModel",
            "_view_count": null,
            "_view_module": "@jupyter-widgets/base",
            "_view_module_version": "1.2.0",
            "_view_name": "LayoutView",
            "align_content": null,
            "align_items": null,
            "align_self": null,
            "border": null,
            "bottom": null,
            "display": null,
            "flex": null,
            "flex_flow": null,
            "grid_area": null,
            "grid_auto_columns": null,
            "grid_auto_flow": null,
            "grid_auto_rows": null,
            "grid_column": null,
            "grid_gap": null,
            "grid_row": null,
            "grid_template_areas": null,
            "grid_template_columns": null,
            "grid_template_rows": null,
            "height": null,
            "justify_content": null,
            "justify_items": null,
            "left": null,
            "margin": null,
            "max_height": null,
            "max_width": null,
            "min_height": null,
            "min_width": null,
            "object_fit": null,
            "object_position": null,
            "order": null,
            "overflow": null,
            "overflow_x": null,
            "overflow_y": null,
            "padding": null,
            "right": null,
            "top": null,
            "visibility": null,
            "width": null
          }
        },
        "b6be0ac4f0b84cd2a6dec8d0df24e8ae": {
          "model_module": "@jupyter-widgets/controls",
          "model_name": "DescriptionStyleModel",
          "model_module_version": "1.5.0",
          "state": {
            "_model_module": "@jupyter-widgets/controls",
            "_model_module_version": "1.5.0",
            "_model_name": "DescriptionStyleModel",
            "_view_count": null,
            "_view_module": "@jupyter-widgets/base",
            "_view_module_version": "1.2.0",
            "_view_name": "StyleView",
            "description_width": ""
          }
        },
        "8cdc26f7ad94441aa165b4d873691854": {
          "model_module": "@jupyter-widgets/base",
          "model_name": "LayoutModel",
          "model_module_version": "1.2.0",
          "state": {
            "_model_module": "@jupyter-widgets/base",
            "_model_module_version": "1.2.0",
            "_model_name": "LayoutModel",
            "_view_count": null,
            "_view_module": "@jupyter-widgets/base",
            "_view_module_version": "1.2.0",
            "_view_name": "LayoutView",
            "align_content": null,
            "align_items": null,
            "align_self": null,
            "border": null,
            "bottom": null,
            "display": null,
            "flex": null,
            "flex_flow": null,
            "grid_area": null,
            "grid_auto_columns": null,
            "grid_auto_flow": null,
            "grid_auto_rows": null,
            "grid_column": null,
            "grid_gap": null,
            "grid_row": null,
            "grid_template_areas": null,
            "grid_template_columns": null,
            "grid_template_rows": null,
            "height": null,
            "justify_content": null,
            "justify_items": null,
            "left": null,
            "margin": null,
            "max_height": null,
            "max_width": null,
            "min_height": null,
            "min_width": null,
            "object_fit": null,
            "object_position": null,
            "order": null,
            "overflow": null,
            "overflow_x": null,
            "overflow_y": null,
            "padding": null,
            "right": null,
            "top": null,
            "visibility": null,
            "width": null
          }
        },
        "3e75a0231c22408fb434bf25202a530a": {
          "model_module": "@jupyter-widgets/controls",
          "model_name": "ButtonStyleModel",
          "model_module_version": "1.5.0",
          "state": {
            "_model_module": "@jupyter-widgets/controls",
            "_model_module_version": "1.5.0",
            "_model_name": "ButtonStyleModel",
            "_view_count": null,
            "_view_module": "@jupyter-widgets/base",
            "_view_module_version": "1.2.0",
            "_view_name": "StyleView",
            "button_color": null,
            "font_weight": ""
          }
        },
        "39926e34fb344d4987c2a032535244d9": {
          "model_module": "@jupyter-widgets/base",
          "model_name": "LayoutModel",
          "model_module_version": "1.2.0",
          "state": {
            "_model_module": "@jupyter-widgets/base",
            "_model_module_version": "1.2.0",
            "_model_name": "LayoutModel",
            "_view_count": null,
            "_view_module": "@jupyter-widgets/base",
            "_view_module_version": "1.2.0",
            "_view_name": "LayoutView",
            "align_content": null,
            "align_items": null,
            "align_self": null,
            "border": null,
            "bottom": null,
            "display": null,
            "flex": null,
            "flex_flow": null,
            "grid_area": null,
            "grid_auto_columns": null,
            "grid_auto_flow": null,
            "grid_auto_rows": null,
            "grid_column": null,
            "grid_gap": null,
            "grid_row": null,
            "grid_template_areas": null,
            "grid_template_columns": null,
            "grid_template_rows": null,
            "height": null,
            "justify_content": null,
            "justify_items": null,
            "left": null,
            "margin": null,
            "max_height": null,
            "max_width": null,
            "min_height": null,
            "min_width": null,
            "object_fit": null,
            "object_position": null,
            "order": null,
            "overflow": null,
            "overflow_x": null,
            "overflow_y": null,
            "padding": null,
            "right": null,
            "top": null,
            "visibility": null,
            "width": null
          }
        },
        "42cdf3fc88784940b83cc457cbd2bdd4": {
          "model_module": "@jupyter-widgets/controls",
          "model_name": "VBoxModel",
          "model_module_version": "1.5.0",
          "state": {
            "_dom_classes": [
              "widget-interact"
            ],
            "_model_module": "@jupyter-widgets/controls",
            "_model_module_version": "1.5.0",
            "_model_name": "VBoxModel",
            "_view_count": null,
            "_view_module": "@jupyter-widgets/controls",
            "_view_module_version": "1.5.0",
            "_view_name": "VBoxView",
            "box_style": "",
            "children": [
              "IPY_MODEL_27ac25d66bd1470895c60bbc01dbda5d",
              "IPY_MODEL_7ce09cde03df41e294d9e8e9eb6aef1d",
              "IPY_MODEL_ee5f4e6c50d4430d8f1ba217f9768e38"
            ],
            "layout": "IPY_MODEL_dc1aef1fd31f40ff9c95fd40a78d2d39"
          }
        },
        "27ac25d66bd1470895c60bbc01dbda5d": {
          "model_module": "@jupyter-widgets/controls",
          "model_name": "TextModel",
          "model_module_version": "1.5.0",
          "state": {
            "_dom_classes": [],
            "_model_module": "@jupyter-widgets/controls",
            "_model_module_version": "1.5.0",
            "_model_name": "TextModel",
            "_view_count": null,
            "_view_module": "@jupyter-widgets/controls",
            "_view_module_version": "1.5.0",
            "_view_name": "TextView",
            "continuous_update": true,
            "description": "Commit Msg",
            "description_tooltip": null,
            "disabled": false,
            "layout": "IPY_MODEL_3b53754570d34bf6b5192060ec3f0e6a",
            "placeholder": "Enter commit message",
            "style": "IPY_MODEL_b053bdce3f45443b8968f6f1a49f43ac",
            "value": "required"
          }
        },
        "7ce09cde03df41e294d9e8e9eb6aef1d": {
          "model_module": "@jupyter-widgets/controls",
          "model_name": "ButtonModel",
          "model_module_version": "1.5.0",
          "state": {
            "_dom_classes": [],
            "_model_module": "@jupyter-widgets/controls",
            "_model_module_version": "1.5.0",
            "_model_name": "ButtonModel",
            "_view_count": null,
            "_view_module": "@jupyter-widgets/controls",
            "_view_module_version": "1.5.0",
            "_view_name": "ButtonView",
            "button_style": "",
            "description": "Commit All Changes",
            "disabled": false,
            "icon": "",
            "layout": "IPY_MODEL_705e21c6de92409c90748891516a8624",
            "style": "IPY_MODEL_538dad5af53f48fe9cca18848aa37e2a",
            "tooltip": ""
          }
        },
        "ee5f4e6c50d4430d8f1ba217f9768e38": {
          "model_module": "@jupyter-widgets/output",
          "model_name": "OutputModel",
          "model_module_version": "1.0.0",
          "state": {
            "_dom_classes": [],
            "_model_module": "@jupyter-widgets/output",
            "_model_module_version": "1.0.0",
            "_model_name": "OutputModel",
            "_view_count": null,
            "_view_module": "@jupyter-widgets/output",
            "_view_module_version": "1.0.0",
            "_view_name": "OutputView",
            "layout": "IPY_MODEL_32d8b390a719458ebbe429f535cfab81",
            "msg_id": "",
            "outputs": []
          }
        },
        "dc1aef1fd31f40ff9c95fd40a78d2d39": {
          "model_module": "@jupyter-widgets/base",
          "model_name": "LayoutModel",
          "model_module_version": "1.2.0",
          "state": {
            "_model_module": "@jupyter-widgets/base",
            "_model_module_version": "1.2.0",
            "_model_name": "LayoutModel",
            "_view_count": null,
            "_view_module": "@jupyter-widgets/base",
            "_view_module_version": "1.2.0",
            "_view_name": "LayoutView",
            "align_content": null,
            "align_items": null,
            "align_self": null,
            "border": null,
            "bottom": null,
            "display": null,
            "flex": null,
            "flex_flow": null,
            "grid_area": null,
            "grid_auto_columns": null,
            "grid_auto_flow": null,
            "grid_auto_rows": null,
            "grid_column": null,
            "grid_gap": null,
            "grid_row": null,
            "grid_template_areas": null,
            "grid_template_columns": null,
            "grid_template_rows": null,
            "height": null,
            "justify_content": null,
            "justify_items": null,
            "left": null,
            "margin": null,
            "max_height": null,
            "max_width": null,
            "min_height": null,
            "min_width": null,
            "object_fit": null,
            "object_position": null,
            "order": null,
            "overflow": null,
            "overflow_x": null,
            "overflow_y": null,
            "padding": null,
            "right": null,
            "top": null,
            "visibility": null,
            "width": null
          }
        },
        "3b53754570d34bf6b5192060ec3f0e6a": {
          "model_module": "@jupyter-widgets/base",
          "model_name": "LayoutModel",
          "model_module_version": "1.2.0",
          "state": {
            "_model_module": "@jupyter-widgets/base",
            "_model_module_version": "1.2.0",
            "_model_name": "LayoutModel",
            "_view_count": null,
            "_view_module": "@jupyter-widgets/base",
            "_view_module_version": "1.2.0",
            "_view_name": "LayoutView",
            "align_content": null,
            "align_items": null,
            "align_self": null,
            "border": null,
            "bottom": null,
            "display": null,
            "flex": null,
            "flex_flow": null,
            "grid_area": null,
            "grid_auto_columns": null,
            "grid_auto_flow": null,
            "grid_auto_rows": null,
            "grid_column": null,
            "grid_gap": null,
            "grid_row": null,
            "grid_template_areas": null,
            "grid_template_columns": null,
            "grid_template_rows": null,
            "height": null,
            "justify_content": null,
            "justify_items": null,
            "left": null,
            "margin": null,
            "max_height": null,
            "max_width": null,
            "min_height": null,
            "min_width": null,
            "object_fit": null,
            "object_position": null,
            "order": null,
            "overflow": null,
            "overflow_x": null,
            "overflow_y": null,
            "padding": null,
            "right": null,
            "top": null,
            "visibility": null,
            "width": null
          }
        },
        "b053bdce3f45443b8968f6f1a49f43ac": {
          "model_module": "@jupyter-widgets/controls",
          "model_name": "DescriptionStyleModel",
          "model_module_version": "1.5.0",
          "state": {
            "_model_module": "@jupyter-widgets/controls",
            "_model_module_version": "1.5.0",
            "_model_name": "DescriptionStyleModel",
            "_view_count": null,
            "_view_module": "@jupyter-widgets/base",
            "_view_module_version": "1.2.0",
            "_view_name": "StyleView",
            "description_width": ""
          }
        },
        "705e21c6de92409c90748891516a8624": {
          "model_module": "@jupyter-widgets/base",
          "model_name": "LayoutModel",
          "model_module_version": "1.2.0",
          "state": {
            "_model_module": "@jupyter-widgets/base",
            "_model_module_version": "1.2.0",
            "_model_name": "LayoutModel",
            "_view_count": null,
            "_view_module": "@jupyter-widgets/base",
            "_view_module_version": "1.2.0",
            "_view_name": "LayoutView",
            "align_content": null,
            "align_items": null,
            "align_self": null,
            "border": null,
            "bottom": null,
            "display": null,
            "flex": null,
            "flex_flow": null,
            "grid_area": null,
            "grid_auto_columns": null,
            "grid_auto_flow": null,
            "grid_auto_rows": null,
            "grid_column": null,
            "grid_gap": null,
            "grid_row": null,
            "grid_template_areas": null,
            "grid_template_columns": null,
            "grid_template_rows": null,
            "height": null,
            "justify_content": null,
            "justify_items": null,
            "left": null,
            "margin": null,
            "max_height": null,
            "max_width": null,
            "min_height": null,
            "min_width": null,
            "object_fit": null,
            "object_position": null,
            "order": null,
            "overflow": null,
            "overflow_x": null,
            "overflow_y": null,
            "padding": null,
            "right": null,
            "top": null,
            "visibility": null,
            "width": null
          }
        },
        "538dad5af53f48fe9cca18848aa37e2a": {
          "model_module": "@jupyter-widgets/controls",
          "model_name": "ButtonStyleModel",
          "model_module_version": "1.5.0",
          "state": {
            "_model_module": "@jupyter-widgets/controls",
            "_model_module_version": "1.5.0",
            "_model_name": "ButtonStyleModel",
            "_view_count": null,
            "_view_module": "@jupyter-widgets/base",
            "_view_module_version": "1.2.0",
            "_view_name": "StyleView",
            "button_color": null,
            "font_weight": ""
          }
        },
        "32d8b390a719458ebbe429f535cfab81": {
          "model_module": "@jupyter-widgets/base",
          "model_name": "LayoutModel",
          "model_module_version": "1.2.0",
          "state": {
            "_model_module": "@jupyter-widgets/base",
            "_model_module_version": "1.2.0",
            "_model_name": "LayoutModel",
            "_view_count": null,
            "_view_module": "@jupyter-widgets/base",
            "_view_module_version": "1.2.0",
            "_view_name": "LayoutView",
            "align_content": null,
            "align_items": null,
            "align_self": null,
            "border": null,
            "bottom": null,
            "display": null,
            "flex": null,
            "flex_flow": null,
            "grid_area": null,
            "grid_auto_columns": null,
            "grid_auto_flow": null,
            "grid_auto_rows": null,
            "grid_column": null,
            "grid_gap": null,
            "grid_row": null,
            "grid_template_areas": null,
            "grid_template_columns": null,
            "grid_template_rows": null,
            "height": null,
            "justify_content": null,
            "justify_items": null,
            "left": null,
            "margin": null,
            "max_height": null,
            "max_width": null,
            "min_height": null,
            "min_width": null,
            "object_fit": null,
            "object_position": null,
            "order": null,
            "overflow": null,
            "overflow_x": null,
            "overflow_y": null,
            "padding": null,
            "right": null,
            "top": null,
            "visibility": null,
            "width": null
          }
        }
      }
    }
  },
  "cells": [
    {
      "cell_type": "markdown",
      "metadata": {
        "id": "view-in-github",
        "colab_type": "text"
      },
      "source": [
        "<a href=\"https://colab.research.google.com/github/tnc-br/ddf_common/blob/ttest/hypothesis_test.ipynb\" target=\"_parent\"><img src=\"https://colab.research.google.com/assets/colab-badge.svg\" alt=\"Open In Colab\"/></a>"
      ]
    },
    {
      "cell_type": "code",
      "source": [
        "TEST_ISOSCAPE_MEANS_FILENAME = \"uc_davis_d18O_cel_kriging_means_2.tiff\" #@param\n",
        "TEST_ISOSCAPE_VARS_FILENAME = \"uc_davis_d18O_cel_kriging_vars_2.tiff\" #@param"
      ],
      "metadata": {
        "id": "eiKKk8X0UwGr"
      },
      "execution_count": 1,
      "outputs": []
    },
    {
      "cell_type": "code",
      "execution_count": 2,
      "metadata": {
        "colab": {
          "base_uri": "https://localhost:8080/",
          "height": 625,
          "referenced_widgets": [
            "98d90a8f188f483aabcf44024b4b5625",
            "ac69bd5f32e340f1b743388084fe4826",
            "f53c358292e34d60b81f6fc125bfc045",
            "4da5272f98714bfba77830c5f23bcc8d",
            "7e14e4ec46ed4b8e975c9e716b946eb2",
            "48f14ff7968d41b2ae2806d7a6cd2b35",
            "dce4f20092c840b1a7ab01e430e27d27",
            "fc2bc0d4d3074f909a5909ebc9bc6b66",
            "35441f269dd24de89a91adfa66cfcfb9",
            "b6be0ac4f0b84cd2a6dec8d0df24e8ae",
            "8cdc26f7ad94441aa165b4d873691854",
            "3e75a0231c22408fb434bf25202a530a",
            "39926e34fb344d4987c2a032535244d9",
            "42cdf3fc88784940b83cc457cbd2bdd4",
            "27ac25d66bd1470895c60bbc01dbda5d",
            "7ce09cde03df41e294d9e8e9eb6aef1d",
            "ee5f4e6c50d4430d8f1ba217f9768e38",
            "dc1aef1fd31f40ff9c95fd40a78d2d39",
            "3b53754570d34bf6b5192060ec3f0e6a",
            "b053bdce3f45443b8968f6f1a49f43ac",
            "705e21c6de92409c90748891516a8624",
            "538dad5af53f48fe9cca18848aa37e2a",
            "32d8b390a719458ebbe429f535cfab81"
          ]
        },
        "cellView": "form",
        "id": "m_dhA5olS5KR",
        "outputId": "f07e76b8-78b0-40de-93c9-ff1731384d5a"
      },
      "outputs": [
        {
          "output_type": "stream",
          "name": "stdout",
          "text": [
            "Requirement already satisfied: opencv-python in /usr/local/lib/python3.10/dist-packages (4.7.0.72)\n",
            "Requirement already satisfied: numpy>=1.21.2 in /usr/local/lib/python3.10/dist-packages (from opencv-python) (1.22.4)\n",
            "Requirement already satisfied: matplotlib in /usr/local/lib/python3.10/dist-packages (3.7.1)\n",
            "Requirement already satisfied: contourpy>=1.0.1 in /usr/local/lib/python3.10/dist-packages (from matplotlib) (1.1.0)\n",
            "Requirement already satisfied: cycler>=0.10 in /usr/local/lib/python3.10/dist-packages (from matplotlib) (0.11.0)\n",
            "Requirement already satisfied: fonttools>=4.22.0 in /usr/local/lib/python3.10/dist-packages (from matplotlib) (4.41.0)\n",
            "Requirement already satisfied: kiwisolver>=1.0.1 in /usr/local/lib/python3.10/dist-packages (from matplotlib) (1.4.4)\n",
            "Requirement already satisfied: numpy>=1.20 in /usr/local/lib/python3.10/dist-packages (from matplotlib) (1.22.4)\n",
            "Requirement already satisfied: packaging>=20.0 in /usr/local/lib/python3.10/dist-packages (from matplotlib) (23.1)\n",
            "Requirement already satisfied: pillow>=6.2.0 in /usr/local/lib/python3.10/dist-packages (from matplotlib) (8.4.0)\n",
            "Requirement already satisfied: pyparsing>=2.3.1 in /usr/local/lib/python3.10/dist-packages (from matplotlib) (3.1.0)\n",
            "Requirement already satisfied: python-dateutil>=2.7 in /usr/local/lib/python3.10/dist-packages (from matplotlib) (2.8.2)\n",
            "Requirement already satisfied: six>=1.5 in /usr/local/lib/python3.10/dist-packages (from python-dateutil>=2.7->matplotlib) (1.16.0)\n",
            "Requirement already satisfied: pandas in /usr/local/lib/python3.10/dist-packages (1.5.3)\n",
            "Requirement already satisfied: python-dateutil>=2.8.1 in /usr/local/lib/python3.10/dist-packages (from pandas) (2.8.2)\n",
            "Requirement already satisfied: pytz>=2020.1 in /usr/local/lib/python3.10/dist-packages (from pandas) (2022.7.1)\n",
            "Requirement already satisfied: numpy>=1.21.0 in /usr/local/lib/python3.10/dist-packages (from pandas) (1.22.4)\n",
            "Requirement already satisfied: six>=1.5 in /usr/local/lib/python3.10/dist-packages (from python-dateutil>=2.8.1->pandas) (1.16.0)\n"
          ]
        },
        {
          "output_type": "display_data",
          "data": {
            "text/plain": [
              "interactive(children=(Text(value='', description='Email', placeholder='Enter email'), Text(value='', descripti…"
            ],
            "application/vnd.jupyter.widget-view+json": {
              "version_major": 2,
              "version_minor": 0,
              "model_id": "98d90a8f188f483aabcf44024b4b5625"
            }
          },
          "metadata": {}
        }
      ],
      "source": [
        "#@title Imports and modules.\n",
        "%pip install opencv-python\n",
        "%pip install matplotlib\n",
        "%pip install pandas\n",
        "\n",
        "from osgeo import gdal, gdal_array\n",
        "import numpy as np\n",
        "import matplotlib.pyplot as plt\n",
        "from dataclasses import dataclass\n",
        "import matplotlib.animation as animation\n",
        "from matplotlib import rc\n",
        "from typing import List\n",
        "from numpy.random import MT19937, RandomState, SeedSequence\n",
        "import pandas as pd\n",
        "from tqdm import tqdm\n",
        "from io import StringIO\n",
        "import xgboost as xgb\n",
        "import os\n",
        "import math\n",
        "import glob\n",
        "\n",
        "rc('animation', html='jshtml')\n",
        "\n",
        "import sys\n",
        "!if [ ! -d \"/content/ddf_common_stub\" ] ; then git clone -b test https://github.com/tnc-br/ddf_common_stub.git; fi\n",
        "sys.path.append(\"/content/ddf_common_stub/\")\n",
        "import ddfimport\n",
        "ddfimport.ddf_source_control_pane()\n",
        "# ddfimport.ddf_import_common()"
      ]
    },
    {
      "cell_type": "markdown",
      "source": [
        "# Tests"
      ],
      "metadata": {
        "id": "7z7ViUtVXjPM"
      }
    },
    {
      "cell_type": "code",
      "source": [
        "import pytest\n",
        "import hypothesis\n",
        "import raster"
      ],
      "metadata": {
        "id": "FHP0DA06TVAW"
      },
      "execution_count": 3,
      "outputs": []
    },
    {
      "cell_type": "code",
      "source": [
        "import importlib\n",
        "import hypothesis\n",
        "importlib.reload(hypothesis)"
      ],
      "metadata": {
        "colab": {
          "base_uri": "https://localhost:8080/"
        },
        "id": "idaSFNBvZ2R4",
        "outputId": "5dd9310f-3006-46e4-9b7f-a940a4b4dc17"
      },
      "execution_count": 4,
      "outputs": [
        {
          "output_type": "execute_result",
          "data": {
            "text/plain": [
              "<module 'hypothesis' from '/content/gdrive/MyDrive/ttest/ddf_common/hypothesis.py'>"
            ]
          },
          "metadata": {},
          "execution_count": 4
        }
      ]
    },
    {
      "cell_type": "code",
      "source": [
        "def sample_ttest_test():\n",
        "  longitude = -71\n",
        "  latitude = -5.5\n",
        "  # The range of expected values is around 25 for most locations here.\n",
        "  isotope_values = [-20.0, -15.0]\n",
        "  test_means_isoscape = raster.load_raster(raster.get_raster_path(TEST_ISOSCAPE_MEANS_FILENAME), use_only_band_index=0)\n",
        "  test_vars_isoscape = raster.load_raster(raster.get_raster_path(TEST_ISOSCAPE_VARS_FILENAME), use_only_band_index=0)\n",
        "  sample_size_per_location = 2\n",
        "  p_value_target = 0.05\n",
        "\n",
        "  hypothesis_test = hypothesis.sample_ttest(longitude,\n",
        "                 latitude,\n",
        "                 isotope_values,\n",
        "                 test_means_isoscape,\n",
        "                 test_vars_isoscape,\n",
        "                 sample_size_per_location,\n",
        "                 p_value_target)\n",
        "\n",
        "  assert(hypothesis_test.longitude == pytest.approx(-71))\n",
        "  assert(hypothesis_test.latitude == pytest.approx(-5.5))\n",
        "  assert(hypothesis_test.p_value == pytest.approx(0.009341288347548294))\n",
        "  assert(hypothesis_test.p_value_threshold == pytest.approx(0.05))\n",
        "\n",
        "sample_ttest_test()"
      ],
      "metadata": {
        "id": "X1n2rmMJxqrm",
        "outputId": "6535c147-b996-4730-c6a6-4bd68be19baf",
        "colab": {
          "base_uri": "https://localhost:8080/"
        }
      },
      "execution_count": 9,
      "outputs": [
        {
          "output_type": "stream",
          "name": "stdout",
          "text": [
            "Driver: GTiff/GeoTIFF\n",
            "Size is 256 x 256 x 1\n",
            "Projection is GEOGCS[\"WGS 84\",DATUM[\"WGS_1984\",SPHEROID[\"WGS 84\",6378137,298.257223563,AUTHORITY[\"EPSG\",\"7030\"]],AUTHORITY[\"EPSG\",\"6326\"]],PRIMEM[\"Greenwich\",0],UNIT[\"degree\",0.0174532925199433,AUTHORITY[\"EPSG\",\"9122\"]],AXIS[\"Latitude\",NORTH],AXIS[\"Longitude\",EAST],AUTHORITY[\"EPSG\",\"4326\"]]\n",
            "Origin = (-74.0, 5.333333333999995)\n",
            "Pixel Size = (0.16666666666808508, -0.16666666666808505)\n",
            "Driver: GTiff/GeoTIFF\n",
            "Size is 256 x 256 x 1\n",
            "Projection is GEOGCS[\"WGS 84\",DATUM[\"WGS_1984\",SPHEROID[\"WGS 84\",6378137,298.257223563,AUTHORITY[\"EPSG\",\"7030\"]],AUTHORITY[\"EPSG\",\"6326\"]],PRIMEM[\"Greenwich\",0],UNIT[\"degree\",0.0174532925199433,AUTHORITY[\"EPSG\",\"9122\"]],AXIS[\"Latitude\",NORTH],AXIS[\"Longitude\",EAST],AUTHORITY[\"EPSG\",\"4326\"]]\n",
            "Origin = (-74.0, 5.333333333999995)\n",
            "Pixel Size = (0.16666666666808508, -0.16666666666808505)\n"
          ]
        }
      ]
    },
    {
      "cell_type": "code",
      "source": [
        "import unittest\n",
        "\n",
        "class SampleTTestCase(unittest.TestCase):\n",
        "  def sample_ttest_test_tail_location(self):\n",
        "    longitude = -71\n",
        "    latitude = -5.5\n",
        "    # The range of expected values is around 25 for most locations here.\n",
        "    isotope_values = [-20.0]\n",
        "    test_means_isoscape = raster.load_raster(raster.get_raster_path(TEST_ISOSCAPE_MEANS_FILENAME), use_only_band_index=0)\n",
        "    test_vars_isoscape = raster.load_raster(raster.get_raster_path(TEST_ISOSCAPE_VARS_FILENAME), use_only_band_index=0)\n",
        "    sample_size_per_location = 2\n",
        "    p_value_target = 0.05\n",
        "\n",
        "    with self.assertRaises(ValueError):\n",
        "      hypothesis.sample_ttest(longitude,\n",
        "                    latitude,\n",
        "                    isotope_values,\n",
        "                    test_means_isoscape,\n",
        "                    test_vars_isoscape,\n",
        "                    sample_size_per_location,\n",
        "                    p_value_target)\n",
        "\n",
        "SampleTTestCase().sample_ttest_test_tail_location()"
      ],
      "metadata": {
        "id": "Qiq_U8yny5iK",
        "outputId": "c3824f1b-dc7d-4e75-9ee5-fba34038d32a",
        "colab": {
          "base_uri": "https://localhost:8080/"
        }
      },
      "execution_count": 10,
      "outputs": [
        {
          "output_type": "stream",
          "name": "stdout",
          "text": [
            "Driver: GTiff/GeoTIFF\n",
            "Size is 256 x 256 x 1\n",
            "Projection is GEOGCS[\"WGS 84\",DATUM[\"WGS_1984\",SPHEROID[\"WGS 84\",6378137,298.257223563,AUTHORITY[\"EPSG\",\"7030\"]],AUTHORITY[\"EPSG\",\"6326\"]],PRIMEM[\"Greenwich\",0],UNIT[\"degree\",0.0174532925199433,AUTHORITY[\"EPSG\",\"9122\"]],AXIS[\"Latitude\",NORTH],AXIS[\"Longitude\",EAST],AUTHORITY[\"EPSG\",\"4326\"]]\n",
            "Origin = (-74.0, 5.333333333999995)\n",
            "Pixel Size = (0.16666666666808508, -0.16666666666808505)\n",
            "Driver: GTiff/GeoTIFF\n",
            "Size is 256 x 256 x 1\n",
            "Projection is GEOGCS[\"WGS 84\",DATUM[\"WGS_1984\",SPHEROID[\"WGS 84\",6378137,298.257223563,AUTHORITY[\"EPSG\",\"7030\"]],AUTHORITY[\"EPSG\",\"6326\"]],PRIMEM[\"Greenwich\",0],UNIT[\"degree\",0.0174532925199433,AUTHORITY[\"EPSG\",\"9122\"]],AXIS[\"Latitude\",NORTH],AXIS[\"Longitude\",EAST],AUTHORITY[\"EPSG\",\"4326\"]]\n",
            "Origin = (-74.0, 5.333333333999995)\n",
            "Pixel Size = (0.16666666666808508, -0.16666666666808505)\n"
          ]
        }
      ]
    },
    {
      "cell_type": "code",
      "source": [
        "def fraud_metrics_test():\n",
        "  # The range of expected values is around 25 for most locations here.\n",
        "  sample_data = pd.DataFrame({\n",
        "      'Code': [\"a\", \"b\", \"c\", \"d\", \"e\", \"f\", \"g\", \"h\",\n",
        "               \"a\", \"b\", \"c\", \"d\", \"e\", \"f\", \"g\", \"h\"],\n",
        "      'long': [-71, -69, -68, -67, -66, -65, -64, -63,\n",
        "               -71, -69, -68, -67, -66, -65, -64, -63],\n",
        "      'lat': [-5.5, -5, -4.5, -4.3, -4, -3.9, -3.5, -3,\n",
        "              -5.5, -5, -4.5, -4.3, -4, -3.9, -3.5, -3],\n",
        "      'fraud': [True, False, True, False, True, False, True, False,\n",
        "                True, False, True, False, True, False, True, False],\n",
        "      'd18O_cel': [-20.0, 5.0, 100.0, 5.0, 8.0, 5.0, 0.0, 3.0,\n",
        "                   -20.0, 25.0, 105.0, 25.0, 20.0, 2.0, 0.0, 25.0],\n",
        "  })\n",
        "  isotope_column_name = 'd18O_cel'\n",
        "  test_means_isoscape = raster.load_raster(raster.get_raster_path(TEST_ISOSCAPE_MEANS_FILENAME), use_only_band_index=0)\n",
        "  test_vars_isoscape = raster.load_raster(raster.get_raster_path(TEST_ISOSCAPE_VARS_FILENAME), use_only_band_index=0)\n",
        "  sample_size_per_location = 2\n",
        "  p_value_target = 0.05\n",
        "\n",
        "  accuracy, precision, recall = (\n",
        "    hypothesis.fraud_metrics(sample_data,\n",
        "                  isotope_column_name,\n",
        "                  test_means_isoscape,\n",
        "                  test_vars_isoscape,\n",
        "                  sample_size_per_location,\n",
        "                  p_value_target)\n",
        "  )\n",
        "\n",
        "  assert(accuracy == pytest.approx(0.625))\n",
        "  assert(precision == pytest.approx(0.6666666666666666))\n",
        "  assert(recall == pytest.approx(0.5))\n",
        "\n",
        "fraud_metrics_test()"
      ],
      "metadata": {
        "colab": {
          "base_uri": "https://localhost:8080/"
        },
        "id": "NJDEPOC4TWyq",
        "outputId": "a8f3209a-0301-461e-f3ab-1fb0a3ad2f81"
      },
      "execution_count": 12,
      "outputs": [
        {
          "output_type": "stream",
          "name": "stdout",
          "text": [
            "Driver: GTiff/GeoTIFF\n",
            "Size is 256 x 256 x 1\n",
            "Projection is GEOGCS[\"WGS 84\",DATUM[\"WGS_1984\",SPHEROID[\"WGS 84\",6378137,298.257223563,AUTHORITY[\"EPSG\",\"7030\"]],AUTHORITY[\"EPSG\",\"6326\"]],PRIMEM[\"Greenwich\",0],UNIT[\"degree\",0.0174532925199433,AUTHORITY[\"EPSG\",\"9122\"]],AXIS[\"Latitude\",NORTH],AXIS[\"Longitude\",EAST],AUTHORITY[\"EPSG\",\"4326\"]]\n",
            "Origin = (-74.0, 5.333333333999995)\n",
            "Pixel Size = (0.16666666666808508, -0.16666666666808505)\n",
            "Driver: GTiff/GeoTIFF\n",
            "Size is 256 x 256 x 1\n",
            "Projection is GEOGCS[\"WGS 84\",DATUM[\"WGS_1984\",SPHEROID[\"WGS 84\",6378137,298.257223563,AUTHORITY[\"EPSG\",\"7030\"]],AUTHORITY[\"EPSG\",\"6326\"]],PRIMEM[\"Greenwich\",0],UNIT[\"degree\",0.0174532925199433,AUTHORITY[\"EPSG\",\"9122\"]],AXIS[\"Latitude\",NORTH],AXIS[\"Longitude\",EAST],AUTHORITY[\"EPSG\",\"4326\"]]\n",
            "Origin = (-74.0, 5.333333333999995)\n",
            "Pixel Size = (0.16666666666808508, -0.16666666666808505)\n"
          ]
        }
      ]
    },
    {
      "cell_type": "code",
      "source": [
        "# Test that we skip locations with one measurement.\n",
        "def fraud_metrics_some_tail_locations():\n",
        "  # The range of expected values is around 25 for most locations here.\n",
        "  # One of the (-67, -4.3) data points was removed. This element was a true\n",
        "  # negative (non-fraud) so accuracy is affected (decreases) but precision\n",
        "  # and recall weren't affected.\n",
        "  sample_data = pd.DataFrame({\n",
        "      'Code': [\"a\", \"b\", \"c\", \"e\", \"f\", \"g\", \"h\",\n",
        "               \"a\", \"b\", \"c\", \"d\", \"e\", \"f\", \"g\", \"h\"],\n",
        "      'long': [-71, -69, -68, -66, -65, -64, -63,\n",
        "               -71, -69, -68, -67, -66, -65, -64, -63],\n",
        "      'lat': [-5.5, -5, -4.5, -4, -3.9, -3.5, -3,\n",
        "              -5.5, -5, -4.5, -4.3, -4, -3.9, -3.5, -3],\n",
        "      'fraud': [True, False, True, True, False, True, False,\n",
        "                True, False, True, False, True, False, True, False],\n",
        "      'd18O_cel': [-20.0, 5.0, 100.0, 8.0, 5.0, 0.0, 3.0,\n",
        "                   -20.0, 25.0, 105.0, 25.0, 20.0, 2.0, 0.0, 25.0],\n",
        "  })\n",
        "  isotope_column_name = 'd18O_cel'\n",
        "  test_means_isoscape = raster.load_raster(raster.get_raster_path(TEST_ISOSCAPE_MEANS_FILENAME), use_only_band_index=0)\n",
        "  test_vars_isoscape = raster.load_raster(raster.get_raster_path(TEST_ISOSCAPE_VARS_FILENAME), use_only_band_index=0)\n",
        "  sample_size_per_location = 2\n",
        "  p_value_target = 0.05\n",
        "\n",
        "  accuracy, precision, recall = (\n",
        "    hypothesis.fraud_metrics(sample_data,\n",
        "                  isotope_column_name,\n",
        "                  test_means_isoscape,\n",
        "                  test_vars_isoscape,\n",
        "                  sample_size_per_location,\n",
        "                  p_value_target)\n",
        "  )\n",
        "\n",
        "  print(accuracy, precision, recall)\n",
        "\n",
        "  assert(accuracy == pytest.approx(0.5714285714285714))\n",
        "  assert(precision == pytest.approx(0.6666666666666666))\n",
        "  assert(recall == pytest.approx(0.5))\n",
        "\n",
        "fraud_metrics_some_tail_locations()"
      ],
      "metadata": {
        "colab": {
          "base_uri": "https://localhost:8080/"
        },
        "id": "WYfDorkMTpP7",
        "outputId": "8c656c0b-46ae-4515-8b54-d7ab212be617"
      },
      "execution_count": 14,
      "outputs": [
        {
          "output_type": "stream",
          "name": "stdout",
          "text": [
            "Driver: GTiff/GeoTIFF\n",
            "Size is 256 x 256 x 1\n",
            "Projection is GEOGCS[\"WGS 84\",DATUM[\"WGS_1984\",SPHEROID[\"WGS 84\",6378137,298.257223563,AUTHORITY[\"EPSG\",\"7030\"]],AUTHORITY[\"EPSG\",\"6326\"]],PRIMEM[\"Greenwich\",0],UNIT[\"degree\",0.0174532925199433,AUTHORITY[\"EPSG\",\"9122\"]],AXIS[\"Latitude\",NORTH],AXIS[\"Longitude\",EAST],AUTHORITY[\"EPSG\",\"4326\"]]\n",
            "Origin = (-74.0, 5.333333333999995)\n",
            "Pixel Size = (0.16666666666808508, -0.16666666666808505)\n",
            "Driver: GTiff/GeoTIFF\n",
            "Size is 256 x 256 x 1\n",
            "Projection is GEOGCS[\"WGS 84\",DATUM[\"WGS_1984\",SPHEROID[\"WGS 84\",6378137,298.257223563,AUTHORITY[\"EPSG\",\"7030\"]],AUTHORITY[\"EPSG\",\"6326\"]],PRIMEM[\"Greenwich\",0],UNIT[\"degree\",0.0174532925199433,AUTHORITY[\"EPSG\",\"9122\"]],AXIS[\"Latitude\",NORTH],AXIS[\"Longitude\",EAST],AUTHORITY[\"EPSG\",\"4326\"]]\n",
            "Origin = (-74.0, 5.333333333999995)\n",
            "Pixel Size = (0.16666666666808508, -0.16666666666808505)\n",
            "0.5714285714285714 0.6666666666666666 0.5\n"
          ]
        }
      ]
    },
    {
      "cell_type": "code",
      "source": [
        "# Test where all locations are unique.\n",
        "def fraud_metrics_unique_locations():\n",
        "  # The range of expected values is around 25 for most locations here.\n",
        "  sample_data = pd.DataFrame({\n",
        "      'Code': [\"a\", \"b\", \"c\", \"d\", \"e\", \"f\", \"g\", \"h\"],\n",
        "      'long': [-71, -69, -68, -67, -66, -65, -64, -63],\n",
        "      'lat': [-5.5, -5, -4.5, -4.3, -4, -3.9, -3.5, -3],\n",
        "      'fraud': [True, False, True, False, True, False, True, False],\n",
        "      'd18O_cel': [-20.0, 5.0, 100.0, 5.0, 8.0, 5.0, 0.0, 3.0],\n",
        "  })\n",
        "  isotope_column_name = 'd18O_cel'\n",
        "  test_means_isoscape = raster.load_raster(raster.get_raster_path(TEST_ISOSCAPE_MEANS_FILENAME), use_only_band_index=0)\n",
        "  test_vars_isoscape = raster.load_raster(raster.get_raster_path(TEST_ISOSCAPE_VARS_FILENAME), use_only_band_index=0)\n",
        "  sample_size_per_location = 2\n",
        "  p_value_target = 0.05\n",
        "\n",
        "  accuracy, precision, recall = (\n",
        "    hypothesis.fraud_metrics(sample_data,\n",
        "                  isotope_column_name,\n",
        "                  test_means_isoscape,\n",
        "                  test_vars_isoscape,\n",
        "                  sample_size_per_location,\n",
        "                  p_value_target)\n",
        "  )\n",
        "\n",
        "  assert(accuracy == pytest.approx(0))\n",
        "  assert(precision == pytest.approx(0))\n",
        "  assert(recall == pytest.approx(0))\n",
        "\n",
        "fraud_metrics_unique_locations()"
      ],
      "metadata": {
        "colab": {
          "base_uri": "https://localhost:8080/"
        },
        "id": "D7VBH24fjjrH",
        "outputId": "970954f7-5a4d-4b52-8d0d-2a8ee0a2605b"
      },
      "execution_count": 15,
      "outputs": [
        {
          "output_type": "stream",
          "name": "stdout",
          "text": [
            "Driver: GTiff/GeoTIFF\n",
            "Size is 256 x 256 x 1\n",
            "Projection is GEOGCS[\"WGS 84\",DATUM[\"WGS_1984\",SPHEROID[\"WGS 84\",6378137,298.257223563,AUTHORITY[\"EPSG\",\"7030\"]],AUTHORITY[\"EPSG\",\"6326\"]],PRIMEM[\"Greenwich\",0],UNIT[\"degree\",0.0174532925199433,AUTHORITY[\"EPSG\",\"9122\"]],AXIS[\"Latitude\",NORTH],AXIS[\"Longitude\",EAST],AUTHORITY[\"EPSG\",\"4326\"]]\n",
            "Origin = (-74.0, 5.333333333999995)\n",
            "Pixel Size = (0.16666666666808508, -0.16666666666808505)\n",
            "Driver: GTiff/GeoTIFF\n",
            "Size is 256 x 256 x 1\n",
            "Projection is GEOGCS[\"WGS 84\",DATUM[\"WGS_1984\",SPHEROID[\"WGS 84\",6378137,298.257223563,AUTHORITY[\"EPSG\",\"7030\"]],AUTHORITY[\"EPSG\",\"6326\"]],PRIMEM[\"Greenwich\",0],UNIT[\"degree\",0.0174532925199433,AUTHORITY[\"EPSG\",\"9122\"]],AXIS[\"Latitude\",NORTH],AXIS[\"Longitude\",EAST],AUTHORITY[\"EPSG\",\"4326\"]]\n",
            "Origin = (-74.0, 5.333333333999995)\n",
            "Pixel Size = (0.16666666666808508, -0.16666666666808505)\n"
          ]
        }
      ]
    }
  ]
}