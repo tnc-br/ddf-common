{
  "nbformat": 4,
  "nbformat_minor": 0,
  "metadata": {
    "colab": {
      "provenance": []
    },
    "kernelspec": {
      "name": "python3",
      "display_name": "Python 3"
    },
    "language_info": {
      "name": "python"
    }
  },
  "cells": [
    {
      "cell_type": "markdown",
      "source": [
        "# DDF Common Editor\n",
        "\n",
        "This is the main colab that performs unit testing on ddf_common.\n",
        "Unlike other colabs, you will always run this colab using google drive as the destination for a git clone/pull of ddf_common.\n",
        "This ensures a permanent location of checked out files."
      ],
      "metadata": {
        "id": "5vKpgRYmZTXM"
      }
    },
    {
      "cell_type": "code",
      "execution_count": null,
      "metadata": {
        "id": "KqUVOHMMX-Qu",
        "cellView": "form"
      },
      "outputs": [],
      "source": [
        "#@title DdfCommon Source Control Pane\n",
        "from ipywidgets import interact_manual\n",
        "from ipywidgets import Text, Checkbox\n",
        "import os\n",
        "import subprocess\n",
        "import sys\n",
        "import shutil\n",
        "\n",
        "#@markdown Check out DdfCommon to leverage common imports!\n",
        "\n",
        "#@markdown If you use a branch, you may change source files and check them in.\n",
        "\n",
        "#@markdown ----\n",
        "def ddf_commit_branch(commit_message: str, push: bool = False):\n",
        "  print('executing commit_branch...')\n",
        "  if (len(commit_message) == 0):\n",
        "    print('No commit message provided.')\n",
        "    return\n",
        "  try:\n",
        "    os.chdir(checked_out_path)\n",
        "  except NameError:\n",
        "    print(f\"Branch not checked out for editing!\")\n",
        "    return\n",
        "\n",
        "  os.system(f'git commit -m \"{commit_message}\"')\n",
        "  print(f\"commited change.\")\n",
        "  if push:\n",
        "    os.system(f'git push')\n",
        "    print(f\"Pushed to branch {checked_out_branch}.\")\n",
        "  os.chdir(\"/content\")\n",
        "\n",
        "def ddf_commit_pane():\n",
        "    interact_manual.options(manual_name=\"Commit Code\")(\n",
        "        ddf_commit_branch,\n",
        "        commit_message = Text(value=\"\",placeholder=\"Enter commit message\",\n",
        "             description=\"Commit Message\",disabled=False),\n",
        "        push=Checkbox(value=False, description=\"Push to \" + checked_out_branch,disabled=False)\n",
        "    )\n",
        "\n",
        "def ddf_import_common(branch_name = \"\"):\n",
        "  print(f'executing checkout_branch {branch_name}...')\n",
        "  #branch_name = \"\" #@param {type:\"string\"}\n",
        "  global checked_out_branch\n",
        "  global checked_out_path\n",
        "  try:\n",
        "    print(f\"Branch {checked_out_branch} already checked out.\")\n",
        "    print(f\"You must restart the runtime to check out again.\")\n",
        "    ddf_commit_pane()\n",
        "    return\n",
        "  except NameError:\n",
        "    checked_out_branch = branch_name if branch_name != \"\" else \"main\"\n",
        "\n",
        "  if branch_name == \"\":\n",
        "    shutil.rmtree( '/tmp/ddf_common' )\n",
        "    os.chdir(\"/tmp\")\n",
        "    os.system(f'git clone --quiet https://github.com/tnc-br/ddf_common.git || echo \"Repository already exists.\"')\n",
        "    os.chdir(\"/content\")\n",
        "    checked_out_branch = \"main\"\n",
        "    if '/tmp/ddf_common' not in sys.path:\n",
        "      sys.path.insert(0,'/tmp/ddf_common')\n",
        "    print('main branch checked out as readonly. You may now use ddf_common imports')\n",
        "  else:\n",
        "    if not os.path.isdir(\"/content/gdrive\"):\n",
        "      from google.colab import drive\n",
        "      drive.mount(\"/content/gdrive\")\n",
        "\n",
        "    os.makedirs(f\"/content/gdrive/MyDrive/{branch_name}\", exist_ok=True)\n",
        "    os.chdir(f\"/content/gdrive/MyDrive/{branch_name}\")\n",
        "    os.system(f'git clone -b {branch_name} --quiet https://github.com/tnc-br/ddf_common.git || echo \"Repository already exists.\"')\n",
        "    os.chdir(f\"/content/gdrive/MyDrive/{branch_name}/ddf_common\")\n",
        "    os.system(f'git pull')\n",
        "    os.chdir(f\"/content\")\n",
        "    checked_out_branch = branch_name\n",
        "    checked_out_path = f'/content/gdrive/MyDrive/{branch_name}/ddf_common'\n",
        "    if checked_out_path not in sys.path:\n",
        "      sys.path.insert(0,checked_out_path)\n",
        "    print(f'{checked_out_branch} branch checked out at \"{checked_out_path}\". You may now use ddf_common imports and change common files.')\n",
        "    ddf_commit_pane()\n",
        "\n",
        "def ddf_source_control_pane():\n",
        "  interact_manual.options(manual_name=\"Checkout Code\")(ddf_import_common,branch_name=Text(value=\"\",placeholder=\"Enter branch name\",description=\"Branch name\",disabled=False));\n",
        "\n",
        "if __name__ == \"__main__\":\n",
        "  # to simply use ddf_common, call import_ddfcommon()\n",
        "  # to change files, use the source_control_pane as below\n",
        "  ddf_source_control_pane()\n"
      ]
    }
  ]
}