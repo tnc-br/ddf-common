{
  "cells": [
    {
      "cell_type": "markdown",
      "metadata": {
        "id": "view-in-github",
        "colab_type": "text"
      },
      "source": [
        "<a href=\"https://colab.research.google.com/github/tnc-br/ddf_common/blob/vertex_ai_test/vertex_ai_poc.ipynb\" target=\"_parent\"><img src=\"https://colab.research.google.com/assets/colab-badge.svg\" alt=\"Open In Colab\"/></a>"
      ]
    },
    {
      "cell_type": "code",
      "execution_count": 1,
      "metadata": {
        "id": "xV--VZujfe62",
        "outputId": "0e45ccca-7ec1-4bc0-9501-c02c92a7a879",
        "colab": {
          "base_uri": "https://localhost:8080/"
        }
      },
      "outputs": [
        {
          "output_type": "stream",
          "name": "stdout",
          "text": [
            "Cloning into 'ddf_common_stub'...\n",
            "remote: Enumerating objects: 18, done.\u001b[K\n",
            "remote: Counting objects: 100% (18/18), done.\u001b[K\n",
            "remote: Compressing objects: 100% (18/18), done.\u001b[K\n",
            "remote: Total 18 (delta 7), reused 0 (delta 0), pack-reused 0\u001b[K\n",
            "Receiving objects: 100% (18/18), 7.36 KiB | 7.36 MiB/s, done.\n",
            "Resolving deltas: 100% (7/7), done.\n",
            "executing checkout_branch ...\n",
            "b''\n",
            "main branch checked out as readonly. You may now use ddf_common imports\n"
          ]
        }
      ],
      "source": [
        "import sys\n",
        "!if [ ! -d \"/content/ddf_common_stub\" ] ; then git clone -b test https://github.com/tnc-br/ddf_common_stub.git; fi\n",
        "sys.path.append(\"/content/ddf_common_stub/\")\n",
        "import ddfimport\n",
        "# ddfimport.ddf_source_control_pane()\n",
        "ddfimport.ddf_import_common()\n"
      ]
    },
    {
      "cell_type": "code",
      "execution_count": 4,
      "metadata": {
        "id": "etV5uhKRrNQ8"
      },
      "outputs": [],
      "source": [
        "import importlib\n",
        "import eeddf\n",
        "importlib.reload(eeddf)\n",
        "import eeraster\n",
        "importlib.reload(eeraster)\n",
        "\n",
        "import numpy as np\n",
        "import time\n",
        "import ee"
      ]
    },
    {
      "cell_type": "code",
      "source": [
        "# This may prompt for your Google account credentials to authenticate for\n",
        "# Earth Engine. You may pass in an argument test_environment = True to access\n",
        "# test data.\n",
        "eeddf.initialize_ddf(test_environment = True)"
      ],
      "metadata": {
        "id": "Tqx-PwL1QA1r"
      },
      "execution_count": 3,
      "outputs": []
    },
    {
      "cell_type": "code",
      "execution_count": null,
      "metadata": {
        "id": "9vhNVeNRGnej"
      },
      "outputs": [],
      "source": [
        "  # \"VPD\" : vapor_pressure_deficit_geotiff,\n",
        "  # \"RH\": relative_humidity_geotiff,\n",
        "  # \"PET\": pet_geotiff,\n",
        "  # \"DEM\": dem_geotiff,\n",
        "  # \"PA\": pa_geotiff,\n",
        "  # \"Mean Annual Temperature\": temperature_geotiff,\n",
        "  # \"Mean Annual Precipitation\": brazil_map_geotiff,\n",
        "  # \"Iso_Oxi_Stack_mean_TERZER\": craig_gordon_isoscape_geotiff,\n",
        "  # \"isoscape_fullmodel_d18O_prec_REGRESSION\": precipitation_regression_isoscape_geotiff,\n",
        "  # \"brisoscape_mean_ISORIX\": brisoscape_geotiff,\n",
        "  # \"d13C_cel_mean\": d13C_mean_geotiff,\n",
        "  # \"d13C_cel_var\": d13C_var_geotiff,\n",
        "  # \"ordinary_kriging_linear_d18O_predicted_mean\" : krig_means_isoscape_geotiff,\n",
        "  # \"ordinary_kriging_linear_d18O_predicted_variance\" : krig_variances_isoscape_geotiff"
      ]
    },
    {
      "cell_type": "code",
      "source": [
        "vpd = ee.Image('projects/river-sky-386919/assets/reference_rasters/vpd').select(\"b1\").rename(\"VPD\")\n",
        "rh = ee.Image('projects/river-sky-386919/assets/reference_rasters/vpd').select(\"b1\").rename(\"RH\")\n",
        "pet = ee.Image('projects/river-sky-386919/assets/reference_rasters/pet').select(\"b1\").rename(\"PET\")\n",
        "dem = ee.ImageCollection('projects/sat-io/open-datasets/GLO-30').select(\"b1\").mosaic().rename(\"DEM\")\n",
        "pa = ee.Image('projects/river-sky-386919/assets/reference_rasters/dem_pa_brasil_raster').select(\"b2\").rename(\"PA\")\n",
        "temp = ee.Image('projects/river-sky-386919/assets/reference_rasters/mean_annual_temperature').select(\"b1\").rename(\"Mean Annual Temperature\")\n",
        "prec = ee.Image('WORLDCLIM/V1/BIO').select('bio12').rename(\"Mean Annual Precipitation\")\n",
        "cg = ee.Image('projects/river-sky-386919/assets/reference_rasters/Iso_Oxi_Stack_mean_TERZER').select('b1').rename(\"Iso_Oxi_Stack_mean_TERZER\")\n",
        "prec_reg = ee.Image('projects/river-sky-386919/assets/reference_rasters/isoscape_fullmodel_d18O_prec_REGRESSION').select('b1').rename(\"isoscape_fullmodel_d18O_prec_REGRESSION\")\n",
        "brisoisorix = ee.Image('projects/river-sky-386919/assets/reference_rasters/brisoscape_mean_ISORIX').select('b1').rename(\"brisoscape_mean_ISORIX\")\n",
        "d13C_mean = ee.Image('projects/river-sky-386919/assets/reference_rasters/d13C_cel_map_BRAZIL_stack').select('b1').rename(\"d13C_cel_mean\")\n",
        "d13C_var = ee.Image('projects/river-sky-386919/assets/reference_rasters/d13C_cel_map_BRAZIL_stack').select('b2').rename(\"d13C_cel_var\")\n",
        "krig_mean = ee.Image('projects/river-sky-386919/assets/reference_rasters/uc_davis_d18O_cel_ordinary_random_grouped_means').select('b1').rename(\"ordinary_kriging_linear_d18O_predicted_mean\")\n",
        "krig_var = ee.Image('projects/river-sky-386919/assets/reference_rasters/uc_davis_d18O_cel_ordinary_random_grouped_vars').select('b1').rename(\"ordinary_kriging_linear_d18O_predicted_variance\")\n",
        "\n",
        "image_features = [vpd, rh, pet, dem, pa, temp, prec, cg, prec_reg, brisoisorix, d13C_mean, d13C_var, krig_mean, krig_var]\n",
        "\n",
        "# Add all the other images as bands to the first image.\n",
        "aggregated = image_features[0]\n",
        "for image in range(1, len(image_features)):\n",
        "  aggregated.addBands(image)\n",
        "\n",
        "print(aggregated.getInfo())\n"
      ],
      "metadata": {
        "id": "c6D3jgNKJpcX",
        "outputId": "f53e50a3-b011-4a76-ddba-12123b3b1b20",
        "colab": {
          "base_uri": "https://localhost:8080/"
        }
      },
      "execution_count": 15,
      "outputs": [
        {
          "output_type": "stream",
          "name": "stdout",
          "text": [
            "{'type': 'Image', 'bands': [{'id': 'VPD', 'data_type': {'type': 'PixelType', 'precision': 'float'}, 'dimensions': [941, 937], 'crs': 'EPSG:4326', 'crs_transform': [0.04166666666665718, 0, -74.0000000000241, 0, -0.04166666666667143, 5.29166666665704]}], 'version': 1695924701571346, 'id': 'projects/river-sky-386919/assets/reference_rasters/vpd', 'properties': {'system:footprint': {'type': 'LinearRing', 'coordinates': [[-66.63541667943487, -33.77090919107404], [-64.18749999991525, -33.77090919144714], [-59.29166664498704, -33.77090915005782], [-51.947916685933684, -33.77090917632496], [-47.05208330827284, -33.77090913361833], [-44.60416669353532, -33.770909152117], [-39.70833330612979, -33.77090916461001], [-34.7623011318398, -33.770403423678886], [-34.770591137859284, 5.3124066571087925], [-39.70833330612978, 5.312573202501962], [-49.49999997085615, 5.312573218424768], [-59.29166664498704, 5.312573178621252], [-69.08333337187567, 5.312573243178015], [-74.02107547204307, 5.312406629037761], [-74.02936554316571, -33.77040341092474], [-71.5312500348406, -33.77090918407049], [-66.63541667943487, -33.77090919107404]]}, 'system:asset_size': 5544124}}\n"
          ]
        }
      ]
    }
  ],
  "metadata": {
    "colab": {
      "provenance": [],
      "include_colab_link": true
    },
    "kernelspec": {
      "display_name": "Python 3",
      "name": "python3"
    },
    "language_info": {
      "name": "python"
    }
  },
  "nbformat": 4,
  "nbformat_minor": 0
}