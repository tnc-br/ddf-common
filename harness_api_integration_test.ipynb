{
  "nbformat": 4,
  "nbformat_minor": 0,
  "metadata": {
    "colab": {
      "provenance": [],
      "authorship_tag": "ABX9TyOyIegsV+hdSG2ZzxuH6AnE",
      "include_colab_link": true
    },
    "kernelspec": {
      "name": "python3",
      "display_name": "Python 3"
    },
    "language_info": {
      "name": "python"
    },
    "widgets": {
      "application/vnd.jupyter.widget-state+json": {
        "765d1466c5504374b27228c5b318fb98": {
          "model_module": "@jupyter-widgets/controls",
          "model_name": "VBoxModel",
          "model_module_version": "1.5.0",
          "state": {
            "_dom_classes": [
              "widget-interact"
            ],
            "_model_module": "@jupyter-widgets/controls",
            "_model_module_version": "1.5.0",
            "_model_name": "VBoxModel",
            "_view_count": null,
            "_view_module": "@jupyter-widgets/controls",
            "_view_module_version": "1.5.0",
            "_view_name": "VBoxView",
            "box_style": "",
            "children": [
              "IPY_MODEL_ff4e41d18f054d87b14fc6849e2b7e10",
              "IPY_MODEL_184c346133934225839f3768694b8fff",
              "IPY_MODEL_b5a51b250a35470db0bd68b6b608f922",
              "IPY_MODEL_b4f65400c1c14317ac37422539d9a2df"
            ],
            "layout": "IPY_MODEL_765355744f324913b180cd4dd4a3e63d"
          }
        },
        "ff4e41d18f054d87b14fc6849e2b7e10": {
          "model_module": "@jupyter-widgets/controls",
          "model_name": "TextModel",
          "model_module_version": "1.5.0",
          "state": {
            "_dom_classes": [],
            "_model_module": "@jupyter-widgets/controls",
            "_model_module_version": "1.5.0",
            "_model_name": "TextModel",
            "_view_count": null,
            "_view_module": "@jupyter-widgets/controls",
            "_view_module_version": "1.5.0",
            "_view_name": "TextView",
            "continuous_update": true,
            "description": "Email",
            "description_tooltip": null,
            "disabled": false,
            "layout": "IPY_MODEL_8311cdfd4d844f7e9b000b1b8a45cec5",
            "placeholder": "Enter email",
            "style": "IPY_MODEL_833f80e2194b45798b14b3cdd1b12b02",
            "value": "tripiace@yahoo.com"
          }
        },
        "184c346133934225839f3768694b8fff": {
          "model_module": "@jupyter-widgets/controls",
          "model_name": "TextModel",
          "model_module_version": "1.5.0",
          "state": {
            "_dom_classes": [],
            "_model_module": "@jupyter-widgets/controls",
            "_model_module_version": "1.5.0",
            "_model_name": "TextModel",
            "_view_count": null,
            "_view_module": "@jupyter-widgets/controls",
            "_view_module_version": "1.5.0",
            "_view_name": "TextView",
            "continuous_update": true,
            "description": "Branch name",
            "description_tooltip": null,
            "disabled": false,
            "layout": "IPY_MODEL_17be71a1a04d45058a8a482b44f15980",
            "placeholder": "Enter branch name",
            "style": "IPY_MODEL_7dcc01079bfa40eab4b2c3d722db38df",
            "value": "bqddf"
          }
        },
        "b5a51b250a35470db0bd68b6b608f922": {
          "model_module": "@jupyter-widgets/controls",
          "model_name": "ButtonModel",
          "model_module_version": "1.5.0",
          "state": {
            "_dom_classes": [],
            "_model_module": "@jupyter-widgets/controls",
            "_model_module_version": "1.5.0",
            "_model_name": "ButtonModel",
            "_view_count": null,
            "_view_module": "@jupyter-widgets/controls",
            "_view_module_version": "1.5.0",
            "_view_name": "ButtonView",
            "button_style": "",
            "description": "Checkout Code",
            "disabled": false,
            "icon": "",
            "layout": "IPY_MODEL_bfbd823eef7f4366b2e55f984ff1fb1a",
            "style": "IPY_MODEL_dbae6d5349464a4baed871d28ca47487",
            "tooltip": ""
          }
        },
        "b4f65400c1c14317ac37422539d9a2df": {
          "model_module": "@jupyter-widgets/output",
          "model_name": "OutputModel",
          "model_module_version": "1.0.0",
          "state": {
            "_dom_classes": [],
            "_model_module": "@jupyter-widgets/output",
            "_model_module_version": "1.0.0",
            "_model_name": "OutputModel",
            "_view_count": null,
            "_view_module": "@jupyter-widgets/output",
            "_view_module_version": "1.0.0",
            "_view_name": "OutputView",
            "layout": "IPY_MODEL_21dd7ab48fb748dbae90f78b5ad8ed3f",
            "msg_id": "",
            "outputs": [
              {
                "output_type": "stream",
                "name": "stdout",
                "text": [
                  "Mounted at /content/gdrive\n"
                ]
              },
              {
                "output_type": "stream",
                "name": "stdout",
                "text": [
                  "b\"fatal: destination path 'ddf_common' already exists and is not an empty directory.\\nRepository already exists.\\n\"\n"
                ]
              },
              {
                "output_type": "stream",
                "name": "stdout",
                "text": [
                  "b'From https://github.com/tnc-br/ddf_common\\n   5c03bc6..f7da53d  bqddf               -> origin/bqddf\\n   4036c14..69c4c65  raster_cache_common -> origin/raster_cache_common\\nerror: Your local changes to the following files would be overwritten by merge:\\n\\tbqddf.py\\nPlease commit your changes or stash them before you merge.\\nAborting\\nUpdating 5c03bc6..f7da53d\\n'\n",
                  "b''\n",
                  "bqddf branch checked out at \"/content/gdrive/MyDrive/bqddf/ddf_common\". You may now use ddf_common imports and change common files.\n"
                ]
              },
              {
                "output_type": "display_data",
                "data": {
                  "text/plain": "interactive(children=(Text(value='required', description='Commit Msg', placeholder='Enter commit message'), Bu…",
                  "application/vnd.jupyter.widget-view+json": {
                    "version_major": 2,
                    "version_minor": 0,
                    "model_id": "db71b1a68b8b49e5bb1a6a8bbb795488"
                  }
                },
                "metadata": {}
              }
            ]
          }
        },
        "765355744f324913b180cd4dd4a3e63d": {
          "model_module": "@jupyter-widgets/base",
          "model_name": "LayoutModel",
          "model_module_version": "1.2.0",
          "state": {
            "_model_module": "@jupyter-widgets/base",
            "_model_module_version": "1.2.0",
            "_model_name": "LayoutModel",
            "_view_count": null,
            "_view_module": "@jupyter-widgets/base",
            "_view_module_version": "1.2.0",
            "_view_name": "LayoutView",
            "align_content": null,
            "align_items": null,
            "align_self": null,
            "border": null,
            "bottom": null,
            "display": null,
            "flex": null,
            "flex_flow": null,
            "grid_area": null,
            "grid_auto_columns": null,
            "grid_auto_flow": null,
            "grid_auto_rows": null,
            "grid_column": null,
            "grid_gap": null,
            "grid_row": null,
            "grid_template_areas": null,
            "grid_template_columns": null,
            "grid_template_rows": null,
            "height": null,
            "justify_content": null,
            "justify_items": null,
            "left": null,
            "margin": null,
            "max_height": null,
            "max_width": null,
            "min_height": null,
            "min_width": null,
            "object_fit": null,
            "object_position": null,
            "order": null,
            "overflow": null,
            "overflow_x": null,
            "overflow_y": null,
            "padding": null,
            "right": null,
            "top": null,
            "visibility": null,
            "width": null
          }
        },
        "8311cdfd4d844f7e9b000b1b8a45cec5": {
          "model_module": "@jupyter-widgets/base",
          "model_name": "LayoutModel",
          "model_module_version": "1.2.0",
          "state": {
            "_model_module": "@jupyter-widgets/base",
            "_model_module_version": "1.2.0",
            "_model_name": "LayoutModel",
            "_view_count": null,
            "_view_module": "@jupyter-widgets/base",
            "_view_module_version": "1.2.0",
            "_view_name": "LayoutView",
            "align_content": null,
            "align_items": null,
            "align_self": null,
            "border": null,
            "bottom": null,
            "display": null,
            "flex": null,
            "flex_flow": null,
            "grid_area": null,
            "grid_auto_columns": null,
            "grid_auto_flow": null,
            "grid_auto_rows": null,
            "grid_column": null,
            "grid_gap": null,
            "grid_row": null,
            "grid_template_areas": null,
            "grid_template_columns": null,
            "grid_template_rows": null,
            "height": null,
            "justify_content": null,
            "justify_items": null,
            "left": null,
            "margin": null,
            "max_height": null,
            "max_width": null,
            "min_height": null,
            "min_width": null,
            "object_fit": null,
            "object_position": null,
            "order": null,
            "overflow": null,
            "overflow_x": null,
            "overflow_y": null,
            "padding": null,
            "right": null,
            "top": null,
            "visibility": null,
            "width": null
          }
        },
        "833f80e2194b45798b14b3cdd1b12b02": {
          "model_module": "@jupyter-widgets/controls",
          "model_name": "DescriptionStyleModel",
          "model_module_version": "1.5.0",
          "state": {
            "_model_module": "@jupyter-widgets/controls",
            "_model_module_version": "1.5.0",
            "_model_name": "DescriptionStyleModel",
            "_view_count": null,
            "_view_module": "@jupyter-widgets/base",
            "_view_module_version": "1.2.0",
            "_view_name": "StyleView",
            "description_width": ""
          }
        },
        "17be71a1a04d45058a8a482b44f15980": {
          "model_module": "@jupyter-widgets/base",
          "model_name": "LayoutModel",
          "model_module_version": "1.2.0",
          "state": {
            "_model_module": "@jupyter-widgets/base",
            "_model_module_version": "1.2.0",
            "_model_name": "LayoutModel",
            "_view_count": null,
            "_view_module": "@jupyter-widgets/base",
            "_view_module_version": "1.2.0",
            "_view_name": "LayoutView",
            "align_content": null,
            "align_items": null,
            "align_self": null,
            "border": null,
            "bottom": null,
            "display": null,
            "flex": null,
            "flex_flow": null,
            "grid_area": null,
            "grid_auto_columns": null,
            "grid_auto_flow": null,
            "grid_auto_rows": null,
            "grid_column": null,
            "grid_gap": null,
            "grid_row": null,
            "grid_template_areas": null,
            "grid_template_columns": null,
            "grid_template_rows": null,
            "height": null,
            "justify_content": null,
            "justify_items": null,
            "left": null,
            "margin": null,
            "max_height": null,
            "max_width": null,
            "min_height": null,
            "min_width": null,
            "object_fit": null,
            "object_position": null,
            "order": null,
            "overflow": null,
            "overflow_x": null,
            "overflow_y": null,
            "padding": null,
            "right": null,
            "top": null,
            "visibility": null,
            "width": null
          }
        },
        "7dcc01079bfa40eab4b2c3d722db38df": {
          "model_module": "@jupyter-widgets/controls",
          "model_name": "DescriptionStyleModel",
          "model_module_version": "1.5.0",
          "state": {
            "_model_module": "@jupyter-widgets/controls",
            "_model_module_version": "1.5.0",
            "_model_name": "DescriptionStyleModel",
            "_view_count": null,
            "_view_module": "@jupyter-widgets/base",
            "_view_module_version": "1.2.0",
            "_view_name": "StyleView",
            "description_width": ""
          }
        },
        "bfbd823eef7f4366b2e55f984ff1fb1a": {
          "model_module": "@jupyter-widgets/base",
          "model_name": "LayoutModel",
          "model_module_version": "1.2.0",
          "state": {
            "_model_module": "@jupyter-widgets/base",
            "_model_module_version": "1.2.0",
            "_model_name": "LayoutModel",
            "_view_count": null,
            "_view_module": "@jupyter-widgets/base",
            "_view_module_version": "1.2.0",
            "_view_name": "LayoutView",
            "align_content": null,
            "align_items": null,
            "align_self": null,
            "border": null,
            "bottom": null,
            "display": null,
            "flex": null,
            "flex_flow": null,
            "grid_area": null,
            "grid_auto_columns": null,
            "grid_auto_flow": null,
            "grid_auto_rows": null,
            "grid_column": null,
            "grid_gap": null,
            "grid_row": null,
            "grid_template_areas": null,
            "grid_template_columns": null,
            "grid_template_rows": null,
            "height": null,
            "justify_content": null,
            "justify_items": null,
            "left": null,
            "margin": null,
            "max_height": null,
            "max_width": null,
            "min_height": null,
            "min_width": null,
            "object_fit": null,
            "object_position": null,
            "order": null,
            "overflow": null,
            "overflow_x": null,
            "overflow_y": null,
            "padding": null,
            "right": null,
            "top": null,
            "visibility": null,
            "width": null
          }
        },
        "dbae6d5349464a4baed871d28ca47487": {
          "model_module": "@jupyter-widgets/controls",
          "model_name": "ButtonStyleModel",
          "model_module_version": "1.5.0",
          "state": {
            "_model_module": "@jupyter-widgets/controls",
            "_model_module_version": "1.5.0",
            "_model_name": "ButtonStyleModel",
            "_view_count": null,
            "_view_module": "@jupyter-widgets/base",
            "_view_module_version": "1.2.0",
            "_view_name": "StyleView",
            "button_color": null,
            "font_weight": ""
          }
        },
        "21dd7ab48fb748dbae90f78b5ad8ed3f": {
          "model_module": "@jupyter-widgets/base",
          "model_name": "LayoutModel",
          "model_module_version": "1.2.0",
          "state": {
            "_model_module": "@jupyter-widgets/base",
            "_model_module_version": "1.2.0",
            "_model_name": "LayoutModel",
            "_view_count": null,
            "_view_module": "@jupyter-widgets/base",
            "_view_module_version": "1.2.0",
            "_view_name": "LayoutView",
            "align_content": null,
            "align_items": null,
            "align_self": null,
            "border": null,
            "bottom": null,
            "display": null,
            "flex": null,
            "flex_flow": null,
            "grid_area": null,
            "grid_auto_columns": null,
            "grid_auto_flow": null,
            "grid_auto_rows": null,
            "grid_column": null,
            "grid_gap": null,
            "grid_row": null,
            "grid_template_areas": null,
            "grid_template_columns": null,
            "grid_template_rows": null,
            "height": null,
            "justify_content": null,
            "justify_items": null,
            "left": null,
            "margin": null,
            "max_height": null,
            "max_width": null,
            "min_height": null,
            "min_width": null,
            "object_fit": null,
            "object_position": null,
            "order": null,
            "overflow": null,
            "overflow_x": null,
            "overflow_y": null,
            "padding": null,
            "right": null,
            "top": null,
            "visibility": null,
            "width": null
          }
        },
        "db71b1a68b8b49e5bb1a6a8bbb795488": {
          "model_module": "@jupyter-widgets/controls",
          "model_name": "VBoxModel",
          "model_module_version": "1.5.0",
          "state": {
            "_dom_classes": [
              "widget-interact"
            ],
            "_model_module": "@jupyter-widgets/controls",
            "_model_module_version": "1.5.0",
            "_model_name": "VBoxModel",
            "_view_count": null,
            "_view_module": "@jupyter-widgets/controls",
            "_view_module_version": "1.5.0",
            "_view_name": "VBoxView",
            "box_style": "",
            "children": [
              "IPY_MODEL_36a88a41bc434a72b6d9097c0f609142",
              "IPY_MODEL_15a1aa34e2c749f180ce5253db29f573",
              "IPY_MODEL_9a661ca1f5ea4cf0a2e7715556480403"
            ],
            "layout": "IPY_MODEL_8922d1c8676f43739540fc8421a654c3"
          }
        },
        "36a88a41bc434a72b6d9097c0f609142": {
          "model_module": "@jupyter-widgets/controls",
          "model_name": "TextModel",
          "model_module_version": "1.5.0",
          "state": {
            "_dom_classes": [],
            "_model_module": "@jupyter-widgets/controls",
            "_model_module_version": "1.5.0",
            "_model_name": "TextModel",
            "_view_count": null,
            "_view_module": "@jupyter-widgets/controls",
            "_view_module_version": "1.5.0",
            "_view_name": "TextView",
            "continuous_update": true,
            "description": "Commit Msg",
            "description_tooltip": null,
            "disabled": false,
            "layout": "IPY_MODEL_9188cf3225d2408aa254fe1dc91be00e",
            "placeholder": "Enter commit message",
            "style": "IPY_MODEL_b7a83dc5fcf441d686793b657d6e5e2c",
            "value": "required"
          }
        },
        "15a1aa34e2c749f180ce5253db29f573": {
          "model_module": "@jupyter-widgets/controls",
          "model_name": "ButtonModel",
          "model_module_version": "1.5.0",
          "state": {
            "_dom_classes": [],
            "_model_module": "@jupyter-widgets/controls",
            "_model_module_version": "1.5.0",
            "_model_name": "ButtonModel",
            "_view_count": null,
            "_view_module": "@jupyter-widgets/controls",
            "_view_module_version": "1.5.0",
            "_view_name": "ButtonView",
            "button_style": "",
            "description": "Commit All Changes",
            "disabled": false,
            "icon": "",
            "layout": "IPY_MODEL_46eaf38888a24d3dbef21743b081efba",
            "style": "IPY_MODEL_3f420ed11d5c44b8b3dcf327cf443660",
            "tooltip": ""
          }
        },
        "9a661ca1f5ea4cf0a2e7715556480403": {
          "model_module": "@jupyter-widgets/output",
          "model_name": "OutputModel",
          "model_module_version": "1.0.0",
          "state": {
            "_dom_classes": [],
            "_model_module": "@jupyter-widgets/output",
            "_model_module_version": "1.0.0",
            "_model_name": "OutputModel",
            "_view_count": null,
            "_view_module": "@jupyter-widgets/output",
            "_view_module_version": "1.0.0",
            "_view_name": "OutputView",
            "layout": "IPY_MODEL_9e542eddadaf4c8cb09bd176dbcf3e78",
            "msg_id": "",
            "outputs": []
          }
        },
        "8922d1c8676f43739540fc8421a654c3": {
          "model_module": "@jupyter-widgets/base",
          "model_name": "LayoutModel",
          "model_module_version": "1.2.0",
          "state": {
            "_model_module": "@jupyter-widgets/base",
            "_model_module_version": "1.2.0",
            "_model_name": "LayoutModel",
            "_view_count": null,
            "_view_module": "@jupyter-widgets/base",
            "_view_module_version": "1.2.0",
            "_view_name": "LayoutView",
            "align_content": null,
            "align_items": null,
            "align_self": null,
            "border": null,
            "bottom": null,
            "display": null,
            "flex": null,
            "flex_flow": null,
            "grid_area": null,
            "grid_auto_columns": null,
            "grid_auto_flow": null,
            "grid_auto_rows": null,
            "grid_column": null,
            "grid_gap": null,
            "grid_row": null,
            "grid_template_areas": null,
            "grid_template_columns": null,
            "grid_template_rows": null,
            "height": null,
            "justify_content": null,
            "justify_items": null,
            "left": null,
            "margin": null,
            "max_height": null,
            "max_width": null,
            "min_height": null,
            "min_width": null,
            "object_fit": null,
            "object_position": null,
            "order": null,
            "overflow": null,
            "overflow_x": null,
            "overflow_y": null,
            "padding": null,
            "right": null,
            "top": null,
            "visibility": null,
            "width": null
          }
        },
        "9188cf3225d2408aa254fe1dc91be00e": {
          "model_module": "@jupyter-widgets/base",
          "model_name": "LayoutModel",
          "model_module_version": "1.2.0",
          "state": {
            "_model_module": "@jupyter-widgets/base",
            "_model_module_version": "1.2.0",
            "_model_name": "LayoutModel",
            "_view_count": null,
            "_view_module": "@jupyter-widgets/base",
            "_view_module_version": "1.2.0",
            "_view_name": "LayoutView",
            "align_content": null,
            "align_items": null,
            "align_self": null,
            "border": null,
            "bottom": null,
            "display": null,
            "flex": null,
            "flex_flow": null,
            "grid_area": null,
            "grid_auto_columns": null,
            "grid_auto_flow": null,
            "grid_auto_rows": null,
            "grid_column": null,
            "grid_gap": null,
            "grid_row": null,
            "grid_template_areas": null,
            "grid_template_columns": null,
            "grid_template_rows": null,
            "height": null,
            "justify_content": null,
            "justify_items": null,
            "left": null,
            "margin": null,
            "max_height": null,
            "max_width": null,
            "min_height": null,
            "min_width": null,
            "object_fit": null,
            "object_position": null,
            "order": null,
            "overflow": null,
            "overflow_x": null,
            "overflow_y": null,
            "padding": null,
            "right": null,
            "top": null,
            "visibility": null,
            "width": null
          }
        },
        "b7a83dc5fcf441d686793b657d6e5e2c": {
          "model_module": "@jupyter-widgets/controls",
          "model_name": "DescriptionStyleModel",
          "model_module_version": "1.5.0",
          "state": {
            "_model_module": "@jupyter-widgets/controls",
            "_model_module_version": "1.5.0",
            "_model_name": "DescriptionStyleModel",
            "_view_count": null,
            "_view_module": "@jupyter-widgets/base",
            "_view_module_version": "1.2.0",
            "_view_name": "StyleView",
            "description_width": ""
          }
        },
        "46eaf38888a24d3dbef21743b081efba": {
          "model_module": "@jupyter-widgets/base",
          "model_name": "LayoutModel",
          "model_module_version": "1.2.0",
          "state": {
            "_model_module": "@jupyter-widgets/base",
            "_model_module_version": "1.2.0",
            "_model_name": "LayoutModel",
            "_view_count": null,
            "_view_module": "@jupyter-widgets/base",
            "_view_module_version": "1.2.0",
            "_view_name": "LayoutView",
            "align_content": null,
            "align_items": null,
            "align_self": null,
            "border": null,
            "bottom": null,
            "display": null,
            "flex": null,
            "flex_flow": null,
            "grid_area": null,
            "grid_auto_columns": null,
            "grid_auto_flow": null,
            "grid_auto_rows": null,
            "grid_column": null,
            "grid_gap": null,
            "grid_row": null,
            "grid_template_areas": null,
            "grid_template_columns": null,
            "grid_template_rows": null,
            "height": null,
            "justify_content": null,
            "justify_items": null,
            "left": null,
            "margin": null,
            "max_height": null,
            "max_width": null,
            "min_height": null,
            "min_width": null,
            "object_fit": null,
            "object_position": null,
            "order": null,
            "overflow": null,
            "overflow_x": null,
            "overflow_y": null,
            "padding": null,
            "right": null,
            "top": null,
            "visibility": null,
            "width": null
          }
        },
        "3f420ed11d5c44b8b3dcf327cf443660": {
          "model_module": "@jupyter-widgets/controls",
          "model_name": "ButtonStyleModel",
          "model_module_version": "1.5.0",
          "state": {
            "_model_module": "@jupyter-widgets/controls",
            "_model_module_version": "1.5.0",
            "_model_name": "ButtonStyleModel",
            "_view_count": null,
            "_view_module": "@jupyter-widgets/base",
            "_view_module_version": "1.2.0",
            "_view_name": "StyleView",
            "button_color": null,
            "font_weight": ""
          }
        },
        "9e542eddadaf4c8cb09bd176dbcf3e78": {
          "model_module": "@jupyter-widgets/base",
          "model_name": "LayoutModel",
          "model_module_version": "1.2.0",
          "state": {
            "_model_module": "@jupyter-widgets/base",
            "_model_module_version": "1.2.0",
            "_model_name": "LayoutModel",
            "_view_count": null,
            "_view_module": "@jupyter-widgets/base",
            "_view_module_version": "1.2.0",
            "_view_name": "LayoutView",
            "align_content": null,
            "align_items": null,
            "align_self": null,
            "border": null,
            "bottom": null,
            "display": null,
            "flex": null,
            "flex_flow": null,
            "grid_area": null,
            "grid_auto_columns": null,
            "grid_auto_flow": null,
            "grid_auto_rows": null,
            "grid_column": null,
            "grid_gap": null,
            "grid_row": null,
            "grid_template_areas": null,
            "grid_template_columns": null,
            "grid_template_rows": null,
            "height": null,
            "justify_content": null,
            "justify_items": null,
            "left": null,
            "margin": null,
            "max_height": null,
            "max_width": null,
            "min_height": null,
            "min_width": null,
            "object_fit": null,
            "object_position": null,
            "order": null,
            "overflow": null,
            "overflow_x": null,
            "overflow_y": null,
            "padding": null,
            "right": null,
            "top": null,
            "visibility": null,
            "width": null
          }
        }
      }
    }
  },
  "cells": [
    {
      "cell_type": "markdown",
      "metadata": {
        "id": "view-in-github",
        "colab_type": "text"
      },
      "source": [
        "<a href=\"https://colab.research.google.com/github/tnc-br/ddf_common/blob/bqddf/harness_api_integration_test.ipynb\" target=\"_parent\"><img src=\"https://colab.research.google.com/assets/colab-badge.svg\" alt=\"Open In Colab\"/></a>"
      ]
    },
    {
      "cell_type": "markdown",
      "source": [
        "Colab by default is on an old version of the bigquery API unfortunately, so update to latest version."
      ],
      "metadata": {
        "id": "xrwRGcarNTlp"
      }
    },
    {
      "cell_type": "code",
      "source": [
        "%pip install --upgrade google-cloud-bigquery"
      ],
      "metadata": {
        "id": "0XnnzDnRNQgr"
      },
      "execution_count": null,
      "outputs": []
    },
    {
      "cell_type": "markdown",
      "source": [
        "## Imports"
      ],
      "metadata": {
        "id": "NXqlmrdWNbLx"
      }
    },
    {
      "cell_type": "code",
      "execution_count": 1,
      "metadata": {
        "colab": {
          "base_uri": "https://localhost:8080/",
          "height": 434,
          "referenced_widgets": [
            "765d1466c5504374b27228c5b318fb98",
            "ff4e41d18f054d87b14fc6849e2b7e10",
            "184c346133934225839f3768694b8fff",
            "b5a51b250a35470db0bd68b6b608f922",
            "b4f65400c1c14317ac37422539d9a2df",
            "765355744f324913b180cd4dd4a3e63d",
            "8311cdfd4d844f7e9b000b1b8a45cec5",
            "833f80e2194b45798b14b3cdd1b12b02",
            "17be71a1a04d45058a8a482b44f15980",
            "7dcc01079bfa40eab4b2c3d722db38df",
            "bfbd823eef7f4366b2e55f984ff1fb1a",
            "dbae6d5349464a4baed871d28ca47487",
            "21dd7ab48fb748dbae90f78b5ad8ed3f",
            "db71b1a68b8b49e5bb1a6a8bbb795488",
            "36a88a41bc434a72b6d9097c0f609142",
            "15a1aa34e2c749f180ce5253db29f573",
            "9a661ca1f5ea4cf0a2e7715556480403",
            "8922d1c8676f43739540fc8421a654c3",
            "9188cf3225d2408aa254fe1dc91be00e",
            "b7a83dc5fcf441d686793b657d6e5e2c",
            "46eaf38888a24d3dbef21743b081efba",
            "3f420ed11d5c44b8b3dcf327cf443660",
            "9e542eddadaf4c8cb09bd176dbcf3e78"
          ]
        },
        "id": "7LqDd-awJnx9",
        "outputId": "e14426d1-f764-4459-d749-abf486e77633"
      },
      "outputs": [
        {
          "output_type": "stream",
          "name": "stdout",
          "text": [
            "Cloning into 'ddf_common_stub'...\n",
            "remote: Enumerating objects: 18, done.\u001b[K\n",
            "remote: Counting objects: 100% (18/18), done.\u001b[K\n",
            "remote: Compressing objects: 100% (18/18), done.\u001b[K\n",
            "remote: Total 18 (delta 7), reused 0 (delta 0), pack-reused 0\u001b[K\n",
            "Receiving objects: 100% (18/18), 7.36 KiB | 1.84 MiB/s, done.\n",
            "Resolving deltas: 100% (7/7), done.\n"
          ]
        },
        {
          "output_type": "display_data",
          "data": {
            "text/plain": [
              "interactive(children=(Text(value='', description='Email', placeholder='Enter email'), Text(value='', descripti…"
            ],
            "application/vnd.jupyter.widget-view+json": {
              "version_major": 2,
              "version_minor": 0,
              "model_id": "765d1466c5504374b27228c5b318fb98"
            }
          },
          "metadata": {}
        }
      ],
      "source": [
        "# This stub (ddfimport) allows the Ddf EE API to be imported.\n",
        "import sys\n",
        "!if [ ! -d \"/content/ddf_common_stub\" ] ; then git clone -b test https://github.com/tnc-br/ddf_common_stub.git; fi\n",
        "sys.path.append(\"/content/ddf_common_stub/\")\n",
        "import ddfimport\n",
        "\n",
        "# Use this line to import from a branch of the github repository.\n",
        "# It will git clone the git repository under a google drive path.\n",
        "# This allows you to modify the source files by opening the file view and\n",
        "# changing files under /content/gdrive/MyDrive/<branch_name>\n",
        "ddfimport.ddf_source_control_pane()\n",
        "\n",
        "# Alternatively, you can use this line to import from Main.\n",
        "# If you import from Main, you will not be able to change files, but will not\n",
        "# need a Google Login for Google Drive.\n",
        "#ddfimport.ddf_import_common()"
      ]
    },
    {
      "cell_type": "markdown",
      "source": [
        "Authenticate"
      ],
      "metadata": {
        "id": "c7gc0qcNNZ9y"
      }
    },
    {
      "cell_type": "code",
      "source": [
        "import importlib\n",
        "import eeddf\n",
        "import bqddf\n",
        "importlib.reload(eeddf)\n",
        "importlib.reload(bqddf)\n",
        "\n",
        "eeddf.initialize_ddf(test_environment = True)"
      ],
      "metadata": {
        "id": "ESPRca9_JtXR"
      },
      "execution_count": 2,
      "outputs": []
    },
    {
      "cell_type": "markdown",
      "source": [
        "## Create fake tables for testing."
      ],
      "metadata": {
        "id": "yfolckdTOztM"
      }
    },
    {
      "cell_type": "code",
      "source": [
        "from google.cloud import bigquery\n",
        "import time\n",
        "\n",
        "client = bqddf._get_big_query_client()\n",
        "\n",
        "# Create a minimal metadata schema\n",
        "metadata_schema = [\n",
        "    bigquery.SchemaField(\"eval_id\", \"STRING\", mode=\"REQUIRED\"),\n",
        "    bigquery.SchemaField(\"baseline_id\", \"STRING\", mode=\"NULLABLE\"),\n",
        "    bigquery.SchemaField(\"experiment_id\", \"STRING\", mode=\"NULLABLE\"),\n",
        "    bigquery.SchemaField(\"completion_timestamp\", \"TIMESTAMP\", mode=\"NULLABLE\"),\n",
        "]\n",
        "\n",
        "# Modify config values for test.\n",
        "bqddf._TEST_CONFIG['METADATA_TABLE'] = f'test_{int(time.time())}'\n",
        "\n",
        "# table_id should evaluate to project.dataset.test-table\n",
        "table_id = f\"{bqddf._TEST_CONFIG['PROJECT_NAME']}.{bqddf._TEST_CONFIG['DATASET']}.{bqddf._TEST_CONFIG['METADATA_TABLE']}\"\n",
        "table = bigquery.Table(table_id, schema=metadata_schema)\n",
        "\n",
        "# If it exists, delete it first.\n",
        "client.delete_table(table_id, not_found_ok=True)\n",
        "\n",
        "# Create the test table.\n",
        "table = client.create_table(table)\n",
        "print(\n",
        "    \"Created table {}.{}.{}\".format(table.project, table.dataset_id, table.table_id)\n",
        ")"
      ],
      "metadata": {
        "id": "S2IkQFGkOzUO",
        "outputId": "e81b6ad6-fd93-46a8-bf56-b17321c2bb7e",
        "colab": {
          "base_uri": "https://localhost:8080/"
        }
      },
      "execution_count": 4,
      "outputs": [
        {
          "output_type": "stream",
          "name": "stdout",
          "text": [
            "Created table river-sky-386919.harness_test_db.test_1709915066\n"
          ]
        }
      ]
    },
    {
      "cell_type": "code",
      "source": [
        "results_schema = [\n",
        "    bigquery.SchemaField(\"eval_id\", \"STRING\", mode=\"REQUIRED\"),\n",
        "    bigquery.SchemaField(\"max_fraud_radius\", \"FLOAT\", mode=\"NULLABLE\"),\n",
        "    bigquery.SchemaField(\"pr_curve\", \"RECORD\", mode=\"REPEATED\", fields=[\n",
        "        bigquery.SchemaField(\"precision\", \"FLOAT\", mode=\"NULLABLE\"),\n",
        "        bigquery.SchemaField(\"recall\", \"FLOAT\", mode=\"NULLABLE\"),\n",
        "    ])\n",
        "]\n",
        "\n",
        "# Modify config values for test.\n",
        "bqddf._TEST_CONFIG['RESULTS_TABLE'] = bqddf._TEST_CONFIG['METADATA_TABLE'] + '_results'\n",
        "\n",
        "# table_id should evaluate to project.dataset.test-table\n",
        "results_table_id = f\"{bqddf._TEST_CONFIG['PROJECT_NAME']}.{bqddf._TEST_CONFIG['DATASET']}.{bqddf._TEST_CONFIG['RESULTS_TABLE']}\"\n",
        "results_table = bigquery.Table(results_table_id, schema=metadata_schema)\n",
        "\n",
        "# If it exists, delete it first.\n",
        "client.delete_table(results_table_id, not_found_ok=True)\n",
        "\n",
        "# Create the test table.\n",
        "results_table = client.create_table(results_table)\n",
        "print(\n",
        "    \"Created table {}.{}.{}\".format(\n",
        "        results_table.project, results_table.dataset_id, results_table.table_id)\n",
        ")"
      ],
      "metadata": {
        "id": "9uyfQEcGuVEW",
        "outputId": "0acbc21d-367d-4c94-fdcf-46cd37116f2e",
        "colab": {
          "base_uri": "https://localhost:8080/"
        }
      },
      "execution_count": 5,
      "outputs": [
        {
          "output_type": "stream",
          "name": "stdout",
          "text": [
            "Created table river-sky-386919.harness_test_db.test_1709915066_results\n"
          ]
        }
      ]
    },
    {
      "cell_type": "code",
      "source": [
        "import json\n",
        "\n",
        "def test_read_and_write():\n",
        "  eval_metadata = {\n",
        "    \"baseline_id\" : \"baseline_2\",\n",
        "    \"experiment_id\" : \"fake_experiment_1\"\n",
        "  }\n",
        "\n",
        "  pr_curve_1 = {\n",
        "      \"max_fraud_radius\" : 10,\n",
        "      \"pr_curve\" : [\n",
        "          {\"precision\" : 0.9, \"recall\" : 0.0},\n",
        "          {\"precision\" : 0.8, \"recall\" : 0.1},\n",
        "          {\"precision\" : 0.7, \"recall\" : 0.2},\n",
        "      ]\n",
        "  }\n",
        "\n",
        "  pr_curve_2 = {\n",
        "      \"max_fraud_radius\" : 20,\n",
        "      \"pr_curve\" : [\n",
        "          {\"precision\" : 0.9, \"recall\" : 0.0},\n",
        "          {\"precision\" : 0.8, \"recall\" : 0.1},\n",
        "          {\"precision\" : 0.7, \"recall\" : 0.2},\n",
        "      ]\n",
        "  }\n",
        "\n",
        "  expected_eval_id = bqddf._generate_eval_id(eval_metadata)\n",
        "  assert bqddf.insert_eval(\n",
        "      eval_metadata, [pr_curve_1, pr_curve_2]) == expected_eval_id\n",
        "\n",
        "  result = bqddf.get_eval_result(expected_eval_id)\n",
        "  assert result.total_rows == 1"
      ],
      "metadata": {
        "id": "RrZ2fw6tKCKY"
      },
      "execution_count": 6,
      "outputs": []
    },
    {
      "cell_type": "markdown",
      "source": [
        "## Run the test."
      ],
      "metadata": {
        "id": "BA03lUDkVdhE"
      }
    },
    {
      "cell_type": "code",
      "source": [
        "test_read_and_write()"
      ],
      "metadata": {
        "id": "Z7of_mZ0KzPE"
      },
      "execution_count": 7,
      "outputs": []
    },
    {
      "cell_type": "markdown",
      "source": [
        "## Delete the test table"
      ],
      "metadata": {
        "id": "VFwlzuIPSVGV"
      }
    },
    {
      "cell_type": "code",
      "source": [
        "client.delete_table(table_id)\n",
        "client.delete_table(results_table_id)"
      ],
      "metadata": {
        "id": "RdzxSLmHSKDQ"
      },
      "execution_count": 8,
      "outputs": []
    }
  ]
}