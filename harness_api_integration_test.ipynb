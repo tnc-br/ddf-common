{
  "nbformat": 4,
  "nbformat_minor": 0,
  "metadata": {
    "colab": {
      "provenance": [],
      "authorship_tag": "ABX9TyNKEfRCUsN7W3Tv/894MfZl",
      "include_colab_link": true
    },
    "kernelspec": {
      "name": "python3",
      "display_name": "Python 3"
    },
    "language_info": {
      "name": "python"
    },
    "widgets": {
      "application/vnd.jupyter.widget-state+json": {
        "7f68ae7015344ef7af124d497549bed4": {
          "model_module": "@jupyter-widgets/controls",
          "model_name": "VBoxModel",
          "model_module_version": "1.5.0",
          "state": {
            "_dom_classes": [
              "widget-interact"
            ],
            "_model_module": "@jupyter-widgets/controls",
            "_model_module_version": "1.5.0",
            "_model_name": "VBoxModel",
            "_view_count": null,
            "_view_module": "@jupyter-widgets/controls",
            "_view_module_version": "1.5.0",
            "_view_name": "VBoxView",
            "box_style": "",
            "children": [
              "IPY_MODEL_3bcfc9846541417cb720220726414b23",
              "IPY_MODEL_e32994fb95294a7fa9f1c787ab0e6fc7",
              "IPY_MODEL_5f7693f285524637aefa6b30619723f5",
              "IPY_MODEL_c919e0e686144074989ba0795f14e148"
            ],
            "layout": "IPY_MODEL_92810a718f2747d79376976b8d624ff3"
          }
        },
        "3bcfc9846541417cb720220726414b23": {
          "model_module": "@jupyter-widgets/controls",
          "model_name": "TextModel",
          "model_module_version": "1.5.0",
          "state": {
            "_dom_classes": [],
            "_model_module": "@jupyter-widgets/controls",
            "_model_module_version": "1.5.0",
            "_model_name": "TextModel",
            "_view_count": null,
            "_view_module": "@jupyter-widgets/controls",
            "_view_module_version": "1.5.0",
            "_view_name": "TextView",
            "continuous_update": true,
            "description": "Email",
            "description_tooltip": null,
            "disabled": false,
            "layout": "IPY_MODEL_ae8b53130ce648c3bef4ecdaad6eba04",
            "placeholder": "Enter email",
            "style": "IPY_MODEL_9dabb3a822494ef8beef08fda3aa98a6",
            "value": "tripiace@yahoo.com"
          }
        },
        "e32994fb95294a7fa9f1c787ab0e6fc7": {
          "model_module": "@jupyter-widgets/controls",
          "model_name": "TextModel",
          "model_module_version": "1.5.0",
          "state": {
            "_dom_classes": [],
            "_model_module": "@jupyter-widgets/controls",
            "_model_module_version": "1.5.0",
            "_model_name": "TextModel",
            "_view_count": null,
            "_view_module": "@jupyter-widgets/controls",
            "_view_module_version": "1.5.0",
            "_view_name": "TextView",
            "continuous_update": true,
            "description": "Branch name",
            "description_tooltip": null,
            "disabled": false,
            "layout": "IPY_MODEL_aa324d40cc414254980b650918253e1a",
            "placeholder": "Enter branch name",
            "style": "IPY_MODEL_1447a24d9e2f4ad68b8f9a6719ca8ab0",
            "value": "bqddf"
          }
        },
        "5f7693f285524637aefa6b30619723f5": {
          "model_module": "@jupyter-widgets/controls",
          "model_name": "ButtonModel",
          "model_module_version": "1.5.0",
          "state": {
            "_dom_classes": [],
            "_model_module": "@jupyter-widgets/controls",
            "_model_module_version": "1.5.0",
            "_model_name": "ButtonModel",
            "_view_count": null,
            "_view_module": "@jupyter-widgets/controls",
            "_view_module_version": "1.5.0",
            "_view_name": "ButtonView",
            "button_style": "",
            "description": "Checkout Code",
            "disabled": false,
            "icon": "",
            "layout": "IPY_MODEL_07cd413544fd48a69d227fa354e54b3d",
            "style": "IPY_MODEL_b1afc0e508da4848a8e7f8aa1c96e804",
            "tooltip": ""
          }
        },
        "c919e0e686144074989ba0795f14e148": {
          "model_module": "@jupyter-widgets/output",
          "model_name": "OutputModel",
          "model_module_version": "1.0.0",
          "state": {
            "_dom_classes": [],
            "_model_module": "@jupyter-widgets/output",
            "_model_module_version": "1.0.0",
            "_model_name": "OutputModel",
            "_view_count": null,
            "_view_module": "@jupyter-widgets/output",
            "_view_module_version": "1.0.0",
            "_view_name": "OutputView",
            "layout": "IPY_MODEL_c8f0fada5f2e40de9284ea7debdf7796",
            "msg_id": "",
            "outputs": [
              {
                "output_type": "stream",
                "name": "stdout",
                "text": [
                  "executing checkout_branch bqddf...\n",
                  "Branch bqddf already checked out.\n",
                  "Remember to reload your imports with `importlib.reload(module)`.\n"
                ]
              },
              {
                "output_type": "stream",
                "name": "stdout",
                "text": [
                  "b''\n"
                ]
              },
              {
                "output_type": "stream",
                "name": "stdout",
                "text": [
                  "b'Already up to date.\\n'\n",
                  "b''\n",
                  "bqddf branch checked out at \"/content/gdrive/MyDrive/bqddf/ddf_common\". You may now use ddf_common imports and change common files.\n"
                ]
              },
              {
                "output_type": "display_data",
                "data": {
                  "text/plain": "interactive(children=(Text(value='required', description='Commit Msg', placeholder='Enter commit message'), Bu…",
                  "application/vnd.jupyter.widget-view+json": {
                    "version_major": 2,
                    "version_minor": 0,
                    "model_id": "855be3a7f9a14d5fae27feba85651ea2"
                  }
                },
                "metadata": {}
              }
            ]
          }
        },
        "92810a718f2747d79376976b8d624ff3": {
          "model_module": "@jupyter-widgets/base",
          "model_name": "LayoutModel",
          "model_module_version": "1.2.0",
          "state": {
            "_model_module": "@jupyter-widgets/base",
            "_model_module_version": "1.2.0",
            "_model_name": "LayoutModel",
            "_view_count": null,
            "_view_module": "@jupyter-widgets/base",
            "_view_module_version": "1.2.0",
            "_view_name": "LayoutView",
            "align_content": null,
            "align_items": null,
            "align_self": null,
            "border": null,
            "bottom": null,
            "display": null,
            "flex": null,
            "flex_flow": null,
            "grid_area": null,
            "grid_auto_columns": null,
            "grid_auto_flow": null,
            "grid_auto_rows": null,
            "grid_column": null,
            "grid_gap": null,
            "grid_row": null,
            "grid_template_areas": null,
            "grid_template_columns": null,
            "grid_template_rows": null,
            "height": null,
            "justify_content": null,
            "justify_items": null,
            "left": null,
            "margin": null,
            "max_height": null,
            "max_width": null,
            "min_height": null,
            "min_width": null,
            "object_fit": null,
            "object_position": null,
            "order": null,
            "overflow": null,
            "overflow_x": null,
            "overflow_y": null,
            "padding": null,
            "right": null,
            "top": null,
            "visibility": null,
            "width": null
          }
        },
        "ae8b53130ce648c3bef4ecdaad6eba04": {
          "model_module": "@jupyter-widgets/base",
          "model_name": "LayoutModel",
          "model_module_version": "1.2.0",
          "state": {
            "_model_module": "@jupyter-widgets/base",
            "_model_module_version": "1.2.0",
            "_model_name": "LayoutModel",
            "_view_count": null,
            "_view_module": "@jupyter-widgets/base",
            "_view_module_version": "1.2.0",
            "_view_name": "LayoutView",
            "align_content": null,
            "align_items": null,
            "align_self": null,
            "border": null,
            "bottom": null,
            "display": null,
            "flex": null,
            "flex_flow": null,
            "grid_area": null,
            "grid_auto_columns": null,
            "grid_auto_flow": null,
            "grid_auto_rows": null,
            "grid_column": null,
            "grid_gap": null,
            "grid_row": null,
            "grid_template_areas": null,
            "grid_template_columns": null,
            "grid_template_rows": null,
            "height": null,
            "justify_content": null,
            "justify_items": null,
            "left": null,
            "margin": null,
            "max_height": null,
            "max_width": null,
            "min_height": null,
            "min_width": null,
            "object_fit": null,
            "object_position": null,
            "order": null,
            "overflow": null,
            "overflow_x": null,
            "overflow_y": null,
            "padding": null,
            "right": null,
            "top": null,
            "visibility": null,
            "width": null
          }
        },
        "9dabb3a822494ef8beef08fda3aa98a6": {
          "model_module": "@jupyter-widgets/controls",
          "model_name": "DescriptionStyleModel",
          "model_module_version": "1.5.0",
          "state": {
            "_model_module": "@jupyter-widgets/controls",
            "_model_module_version": "1.5.0",
            "_model_name": "DescriptionStyleModel",
            "_view_count": null,
            "_view_module": "@jupyter-widgets/base",
            "_view_module_version": "1.2.0",
            "_view_name": "StyleView",
            "description_width": ""
          }
        },
        "aa324d40cc414254980b650918253e1a": {
          "model_module": "@jupyter-widgets/base",
          "model_name": "LayoutModel",
          "model_module_version": "1.2.0",
          "state": {
            "_model_module": "@jupyter-widgets/base",
            "_model_module_version": "1.2.0",
            "_model_name": "LayoutModel",
            "_view_count": null,
            "_view_module": "@jupyter-widgets/base",
            "_view_module_version": "1.2.0",
            "_view_name": "LayoutView",
            "align_content": null,
            "align_items": null,
            "align_self": null,
            "border": null,
            "bottom": null,
            "display": null,
            "flex": null,
            "flex_flow": null,
            "grid_area": null,
            "grid_auto_columns": null,
            "grid_auto_flow": null,
            "grid_auto_rows": null,
            "grid_column": null,
            "grid_gap": null,
            "grid_row": null,
            "grid_template_areas": null,
            "grid_template_columns": null,
            "grid_template_rows": null,
            "height": null,
            "justify_content": null,
            "justify_items": null,
            "left": null,
            "margin": null,
            "max_height": null,
            "max_width": null,
            "min_height": null,
            "min_width": null,
            "object_fit": null,
            "object_position": null,
            "order": null,
            "overflow": null,
            "overflow_x": null,
            "overflow_y": null,
            "padding": null,
            "right": null,
            "top": null,
            "visibility": null,
            "width": null
          }
        },
        "1447a24d9e2f4ad68b8f9a6719ca8ab0": {
          "model_module": "@jupyter-widgets/controls",
          "model_name": "DescriptionStyleModel",
          "model_module_version": "1.5.0",
          "state": {
            "_model_module": "@jupyter-widgets/controls",
            "_model_module_version": "1.5.0",
            "_model_name": "DescriptionStyleModel",
            "_view_count": null,
            "_view_module": "@jupyter-widgets/base",
            "_view_module_version": "1.2.0",
            "_view_name": "StyleView",
            "description_width": ""
          }
        },
        "07cd413544fd48a69d227fa354e54b3d": {
          "model_module": "@jupyter-widgets/base",
          "model_name": "LayoutModel",
          "model_module_version": "1.2.0",
          "state": {
            "_model_module": "@jupyter-widgets/base",
            "_model_module_version": "1.2.0",
            "_model_name": "LayoutModel",
            "_view_count": null,
            "_view_module": "@jupyter-widgets/base",
            "_view_module_version": "1.2.0",
            "_view_name": "LayoutView",
            "align_content": null,
            "align_items": null,
            "align_self": null,
            "border": null,
            "bottom": null,
            "display": null,
            "flex": null,
            "flex_flow": null,
            "grid_area": null,
            "grid_auto_columns": null,
            "grid_auto_flow": null,
            "grid_auto_rows": null,
            "grid_column": null,
            "grid_gap": null,
            "grid_row": null,
            "grid_template_areas": null,
            "grid_template_columns": null,
            "grid_template_rows": null,
            "height": null,
            "justify_content": null,
            "justify_items": null,
            "left": null,
            "margin": null,
            "max_height": null,
            "max_width": null,
            "min_height": null,
            "min_width": null,
            "object_fit": null,
            "object_position": null,
            "order": null,
            "overflow": null,
            "overflow_x": null,
            "overflow_y": null,
            "padding": null,
            "right": null,
            "top": null,
            "visibility": null,
            "width": null
          }
        },
        "b1afc0e508da4848a8e7f8aa1c96e804": {
          "model_module": "@jupyter-widgets/controls",
          "model_name": "ButtonStyleModel",
          "model_module_version": "1.5.0",
          "state": {
            "_model_module": "@jupyter-widgets/controls",
            "_model_module_version": "1.5.0",
            "_model_name": "ButtonStyleModel",
            "_view_count": null,
            "_view_module": "@jupyter-widgets/base",
            "_view_module_version": "1.2.0",
            "_view_name": "StyleView",
            "button_color": null,
            "font_weight": ""
          }
        },
        "c8f0fada5f2e40de9284ea7debdf7796": {
          "model_module": "@jupyter-widgets/base",
          "model_name": "LayoutModel",
          "model_module_version": "1.2.0",
          "state": {
            "_model_module": "@jupyter-widgets/base",
            "_model_module_version": "1.2.0",
            "_model_name": "LayoutModel",
            "_view_count": null,
            "_view_module": "@jupyter-widgets/base",
            "_view_module_version": "1.2.0",
            "_view_name": "LayoutView",
            "align_content": null,
            "align_items": null,
            "align_self": null,
            "border": null,
            "bottom": null,
            "display": null,
            "flex": null,
            "flex_flow": null,
            "grid_area": null,
            "grid_auto_columns": null,
            "grid_auto_flow": null,
            "grid_auto_rows": null,
            "grid_column": null,
            "grid_gap": null,
            "grid_row": null,
            "grid_template_areas": null,
            "grid_template_columns": null,
            "grid_template_rows": null,
            "height": null,
            "justify_content": null,
            "justify_items": null,
            "left": null,
            "margin": null,
            "max_height": null,
            "max_width": null,
            "min_height": null,
            "min_width": null,
            "object_fit": null,
            "object_position": null,
            "order": null,
            "overflow": null,
            "overflow_x": null,
            "overflow_y": null,
            "padding": null,
            "right": null,
            "top": null,
            "visibility": null,
            "width": null
          }
        },
        "855be3a7f9a14d5fae27feba85651ea2": {
          "model_module": "@jupyter-widgets/controls",
          "model_name": "VBoxModel",
          "model_module_version": "1.5.0",
          "state": {
            "_dom_classes": [
              "widget-interact"
            ],
            "_model_module": "@jupyter-widgets/controls",
            "_model_module_version": "1.5.0",
            "_model_name": "VBoxModel",
            "_view_count": null,
            "_view_module": "@jupyter-widgets/controls",
            "_view_module_version": "1.5.0",
            "_view_name": "VBoxView",
            "box_style": "",
            "children": [
              "IPY_MODEL_fbeddea38b6c42229221789df0173e69",
              "IPY_MODEL_bfc5ec9700954b82b75640de42b229d8",
              "IPY_MODEL_61132168170441828486a6298e9f33c5"
            ],
            "layout": "IPY_MODEL_198adac6010f46649c662f1bea66fc7d"
          }
        },
        "fbeddea38b6c42229221789df0173e69": {
          "model_module": "@jupyter-widgets/controls",
          "model_name": "TextModel",
          "model_module_version": "1.5.0",
          "state": {
            "_dom_classes": [],
            "_model_module": "@jupyter-widgets/controls",
            "_model_module_version": "1.5.0",
            "_model_name": "TextModel",
            "_view_count": null,
            "_view_module": "@jupyter-widgets/controls",
            "_view_module_version": "1.5.0",
            "_view_name": "TextView",
            "continuous_update": true,
            "description": "Commit Msg",
            "description_tooltip": null,
            "disabled": false,
            "layout": "IPY_MODEL_e5c69342823247bd982f78f4cc06e1fc",
            "placeholder": "Enter commit message",
            "style": "IPY_MODEL_9b3fc37d1d0244b08ba6163b33213905",
            "value": "required"
          }
        },
        "bfc5ec9700954b82b75640de42b229d8": {
          "model_module": "@jupyter-widgets/controls",
          "model_name": "ButtonModel",
          "model_module_version": "1.5.0",
          "state": {
            "_dom_classes": [],
            "_model_module": "@jupyter-widgets/controls",
            "_model_module_version": "1.5.0",
            "_model_name": "ButtonModel",
            "_view_count": null,
            "_view_module": "@jupyter-widgets/controls",
            "_view_module_version": "1.5.0",
            "_view_name": "ButtonView",
            "button_style": "",
            "description": "Commit All Changes",
            "disabled": false,
            "icon": "",
            "layout": "IPY_MODEL_15c38e2908824ea3981a94436fb65f03",
            "style": "IPY_MODEL_c113e03a361d4521b82ff8cbe4f4c99a",
            "tooltip": ""
          }
        },
        "61132168170441828486a6298e9f33c5": {
          "model_module": "@jupyter-widgets/output",
          "model_name": "OutputModel",
          "model_module_version": "1.0.0",
          "state": {
            "_dom_classes": [],
            "_model_module": "@jupyter-widgets/output",
            "_model_module_version": "1.0.0",
            "_model_name": "OutputModel",
            "_view_count": null,
            "_view_module": "@jupyter-widgets/output",
            "_view_module_version": "1.0.0",
            "_view_name": "OutputView",
            "layout": "IPY_MODEL_814636a6e06e4695bc547c2ac827a0b9",
            "msg_id": "",
            "outputs": []
          }
        },
        "198adac6010f46649c662f1bea66fc7d": {
          "model_module": "@jupyter-widgets/base",
          "model_name": "LayoutModel",
          "model_module_version": "1.2.0",
          "state": {
            "_model_module": "@jupyter-widgets/base",
            "_model_module_version": "1.2.0",
            "_model_name": "LayoutModel",
            "_view_count": null,
            "_view_module": "@jupyter-widgets/base",
            "_view_module_version": "1.2.0",
            "_view_name": "LayoutView",
            "align_content": null,
            "align_items": null,
            "align_self": null,
            "border": null,
            "bottom": null,
            "display": null,
            "flex": null,
            "flex_flow": null,
            "grid_area": null,
            "grid_auto_columns": null,
            "grid_auto_flow": null,
            "grid_auto_rows": null,
            "grid_column": null,
            "grid_gap": null,
            "grid_row": null,
            "grid_template_areas": null,
            "grid_template_columns": null,
            "grid_template_rows": null,
            "height": null,
            "justify_content": null,
            "justify_items": null,
            "left": null,
            "margin": null,
            "max_height": null,
            "max_width": null,
            "min_height": null,
            "min_width": null,
            "object_fit": null,
            "object_position": null,
            "order": null,
            "overflow": null,
            "overflow_x": null,
            "overflow_y": null,
            "padding": null,
            "right": null,
            "top": null,
            "visibility": null,
            "width": null
          }
        },
        "e5c69342823247bd982f78f4cc06e1fc": {
          "model_module": "@jupyter-widgets/base",
          "model_name": "LayoutModel",
          "model_module_version": "1.2.0",
          "state": {
            "_model_module": "@jupyter-widgets/base",
            "_model_module_version": "1.2.0",
            "_model_name": "LayoutModel",
            "_view_count": null,
            "_view_module": "@jupyter-widgets/base",
            "_view_module_version": "1.2.0",
            "_view_name": "LayoutView",
            "align_content": null,
            "align_items": null,
            "align_self": null,
            "border": null,
            "bottom": null,
            "display": null,
            "flex": null,
            "flex_flow": null,
            "grid_area": null,
            "grid_auto_columns": null,
            "grid_auto_flow": null,
            "grid_auto_rows": null,
            "grid_column": null,
            "grid_gap": null,
            "grid_row": null,
            "grid_template_areas": null,
            "grid_template_columns": null,
            "grid_template_rows": null,
            "height": null,
            "justify_content": null,
            "justify_items": null,
            "left": null,
            "margin": null,
            "max_height": null,
            "max_width": null,
            "min_height": null,
            "min_width": null,
            "object_fit": null,
            "object_position": null,
            "order": null,
            "overflow": null,
            "overflow_x": null,
            "overflow_y": null,
            "padding": null,
            "right": null,
            "top": null,
            "visibility": null,
            "width": null
          }
        },
        "9b3fc37d1d0244b08ba6163b33213905": {
          "model_module": "@jupyter-widgets/controls",
          "model_name": "DescriptionStyleModel",
          "model_module_version": "1.5.0",
          "state": {
            "_model_module": "@jupyter-widgets/controls",
            "_model_module_version": "1.5.0",
            "_model_name": "DescriptionStyleModel",
            "_view_count": null,
            "_view_module": "@jupyter-widgets/base",
            "_view_module_version": "1.2.0",
            "_view_name": "StyleView",
            "description_width": ""
          }
        },
        "15c38e2908824ea3981a94436fb65f03": {
          "model_module": "@jupyter-widgets/base",
          "model_name": "LayoutModel",
          "model_module_version": "1.2.0",
          "state": {
            "_model_module": "@jupyter-widgets/base",
            "_model_module_version": "1.2.0",
            "_model_name": "LayoutModel",
            "_view_count": null,
            "_view_module": "@jupyter-widgets/base",
            "_view_module_version": "1.2.0",
            "_view_name": "LayoutView",
            "align_content": null,
            "align_items": null,
            "align_self": null,
            "border": null,
            "bottom": null,
            "display": null,
            "flex": null,
            "flex_flow": null,
            "grid_area": null,
            "grid_auto_columns": null,
            "grid_auto_flow": null,
            "grid_auto_rows": null,
            "grid_column": null,
            "grid_gap": null,
            "grid_row": null,
            "grid_template_areas": null,
            "grid_template_columns": null,
            "grid_template_rows": null,
            "height": null,
            "justify_content": null,
            "justify_items": null,
            "left": null,
            "margin": null,
            "max_height": null,
            "max_width": null,
            "min_height": null,
            "min_width": null,
            "object_fit": null,
            "object_position": null,
            "order": null,
            "overflow": null,
            "overflow_x": null,
            "overflow_y": null,
            "padding": null,
            "right": null,
            "top": null,
            "visibility": null,
            "width": null
          }
        },
        "c113e03a361d4521b82ff8cbe4f4c99a": {
          "model_module": "@jupyter-widgets/controls",
          "model_name": "ButtonStyleModel",
          "model_module_version": "1.5.0",
          "state": {
            "_model_module": "@jupyter-widgets/controls",
            "_model_module_version": "1.5.0",
            "_model_name": "ButtonStyleModel",
            "_view_count": null,
            "_view_module": "@jupyter-widgets/base",
            "_view_module_version": "1.2.0",
            "_view_name": "StyleView",
            "button_color": null,
            "font_weight": ""
          }
        },
        "814636a6e06e4695bc547c2ac827a0b9": {
          "model_module": "@jupyter-widgets/base",
          "model_name": "LayoutModel",
          "model_module_version": "1.2.0",
          "state": {
            "_model_module": "@jupyter-widgets/base",
            "_model_module_version": "1.2.0",
            "_model_name": "LayoutModel",
            "_view_count": null,
            "_view_module": "@jupyter-widgets/base",
            "_view_module_version": "1.2.0",
            "_view_name": "LayoutView",
            "align_content": null,
            "align_items": null,
            "align_self": null,
            "border": null,
            "bottom": null,
            "display": null,
            "flex": null,
            "flex_flow": null,
            "grid_area": null,
            "grid_auto_columns": null,
            "grid_auto_flow": null,
            "grid_auto_rows": null,
            "grid_column": null,
            "grid_gap": null,
            "grid_row": null,
            "grid_template_areas": null,
            "grid_template_columns": null,
            "grid_template_rows": null,
            "height": null,
            "justify_content": null,
            "justify_items": null,
            "left": null,
            "margin": null,
            "max_height": null,
            "max_width": null,
            "min_height": null,
            "min_width": null,
            "object_fit": null,
            "object_position": null,
            "order": null,
            "overflow": null,
            "overflow_x": null,
            "overflow_y": null,
            "padding": null,
            "right": null,
            "top": null,
            "visibility": null,
            "width": null
          }
        }
      }
    }
  },
  "cells": [
    {
      "cell_type": "markdown",
      "metadata": {
        "id": "view-in-github",
        "colab_type": "text"
      },
      "source": [
        "<a href=\"https://colab.research.google.com/github/tnc-br/ddf_common/blob/bqddf/harness_api_integration_test.ipynb\" target=\"_parent\"><img src=\"https://colab.research.google.com/assets/colab-badge.svg\" alt=\"Open In Colab\"/></a>"
      ]
    },
    {
      "cell_type": "markdown",
      "source": [
        "Colab by default is on an old version of the bigquery API unfortunately, so update to latest version."
      ],
      "metadata": {
        "id": "xrwRGcarNTlp"
      }
    },
    {
      "cell_type": "code",
      "source": [
        "%pip install --upgrade google-cloud-bigquery"
      ],
      "metadata": {
        "id": "0XnnzDnRNQgr"
      },
      "execution_count": null,
      "outputs": []
    },
    {
      "cell_type": "markdown",
      "source": [
        "## Imports"
      ],
      "metadata": {
        "id": "NXqlmrdWNbLx"
      }
    },
    {
      "cell_type": "code",
      "execution_count": 7,
      "metadata": {
        "colab": {
          "base_uri": "https://localhost:8080/",
          "height": 306,
          "referenced_widgets": [
            "7f68ae7015344ef7af124d497549bed4",
            "3bcfc9846541417cb720220726414b23",
            "e32994fb95294a7fa9f1c787ab0e6fc7",
            "5f7693f285524637aefa6b30619723f5",
            "c919e0e686144074989ba0795f14e148",
            "92810a718f2747d79376976b8d624ff3",
            "ae8b53130ce648c3bef4ecdaad6eba04",
            "9dabb3a822494ef8beef08fda3aa98a6",
            "aa324d40cc414254980b650918253e1a",
            "1447a24d9e2f4ad68b8f9a6719ca8ab0",
            "07cd413544fd48a69d227fa354e54b3d",
            "b1afc0e508da4848a8e7f8aa1c96e804",
            "c8f0fada5f2e40de9284ea7debdf7796",
            "855be3a7f9a14d5fae27feba85651ea2",
            "fbeddea38b6c42229221789df0173e69",
            "bfc5ec9700954b82b75640de42b229d8",
            "61132168170441828486a6298e9f33c5",
            "198adac6010f46649c662f1bea66fc7d",
            "e5c69342823247bd982f78f4cc06e1fc",
            "9b3fc37d1d0244b08ba6163b33213905",
            "15c38e2908824ea3981a94436fb65f03",
            "c113e03a361d4521b82ff8cbe4f4c99a",
            "814636a6e06e4695bc547c2ac827a0b9"
          ]
        },
        "id": "7LqDd-awJnx9",
        "outputId": "0960cae0-9cea-4c56-d1ac-b754bee5bf03"
      },
      "outputs": [
        {
          "output_type": "display_data",
          "data": {
            "text/plain": [
              "interactive(children=(Text(value='', description='Email', placeholder='Enter email'), Text(value='', descripti…"
            ],
            "application/vnd.jupyter.widget-view+json": {
              "version_major": 2,
              "version_minor": 0,
              "model_id": "7f68ae7015344ef7af124d497549bed4"
            }
          },
          "metadata": {}
        }
      ],
      "source": [
        "# This stub (ddfimport) allows the Ddf EE API to be imported.\n",
        "import sys\n",
        "!if [ ! -d \"/content/ddf_common_stub\" ] ; then git clone -b test https://github.com/tnc-br/ddf_common_stub.git; fi\n",
        "sys.path.append(\"/content/ddf_common_stub/\")\n",
        "import ddfimport\n",
        "\n",
        "# Use this line to import from a branch of the github repository.\n",
        "# It will git clone the git repository under a google drive path.\n",
        "# This allows you to modify the source files by opening the file view and\n",
        "# changing files under /content/gdrive/MyDrive/<branch_name>\n",
        "# ddfimport.ddf_source_control_pane()\n",
        "\n",
        "# Alternatively, you can use this line to import from Main.\n",
        "# If you import from Main, you will not be able to change files, but will not\n",
        "# need a Google Login for Google Drive.\n",
        "ddfimport.ddf_import_common()"
      ]
    },
    {
      "cell_type": "markdown",
      "source": [
        "Authenticate"
      ],
      "metadata": {
        "id": "c7gc0qcNNZ9y"
      }
    },
    {
      "cell_type": "code",
      "source": [
        "import importlib\n",
        "import eeddf\n",
        "import bqddf\n",
        "importlib.reload(eeddf)\n",
        "importlib.reload(bqddf)\n",
        "\n",
        "eeddf.initialize_ddf(test_environment = True)"
      ],
      "metadata": {
        "id": "ESPRca9_JtXR"
      },
      "execution_count": 48,
      "outputs": []
    },
    {
      "cell_type": "markdown",
      "source": [
        "## Create a fake table for testing."
      ],
      "metadata": {
        "id": "yfolckdTOztM"
      }
    },
    {
      "cell_type": "code",
      "source": [
        "from google.cloud import bigquery\n",
        "import time\n",
        "\n",
        "client = bqddf.get_big_query_client()\n",
        "\n",
        "# Create a minimal schema\n",
        "schema = [\n",
        "    bigquery.SchemaField(\"eval_id\", \"STRING\", mode=\"REQUIRED\"),\n",
        "    bigquery.SchemaField(\"baseline_id\", \"STRING\", mode=\"NULLABLE\"),\n",
        "    bigquery.SchemaField(\"experiment_id\", \"STRING\", mode=\"NULLABLE\"),\n",
        "    bigquery.SchemaField(\"completion_timestamp\", \"TIMESTAMP\", mode=\"NULLABLE\"),\n",
        "]\n",
        "\n",
        "# Modify config values for test.\n",
        "bqddf._TEST_CONFIG['TABLE'] = f'test_{int(time.time())}'\n",
        "\n",
        "# table_id should evaluate to project.dataset.test-table\n",
        "table_id = f\"{bqddf._TEST_CONFIG['PROJECT_NAME']}.{bqddf._TEST_CONFIG['DATASET']}.{bqddf._TEST_CONFIG['TABLE']}\"\n",
        "table = bigquery.Table(table_id, schema=schema)\n",
        "\n",
        "# If it exists, delete it first.\n",
        "client.delete_table(table_id, not_found_ok=True)\n",
        "\n",
        "# Create the test table.\n",
        "table = client.create_table(table)\n",
        "print(\n",
        "    \"Created table {}.{}.{}\".format(table.project, table.dataset_id, table.table_id)\n",
        ")"
      ],
      "metadata": {
        "id": "S2IkQFGkOzUO",
        "outputId": "5b1497ee-a58e-402d-e78c-551af7b93bc2",
        "colab": {
          "base_uri": "https://localhost:8080/"
        }
      },
      "execution_count": 53,
      "outputs": [
        {
          "output_type": "stream",
          "name": "stdout",
          "text": [
            "Created table river-sky-386919.harness_test_db.test_1708563688\n"
          ]
        }
      ]
    },
    {
      "cell_type": "code",
      "source": [
        "## Create fake data."
      ],
      "metadata": {
        "id": "Q0eGd98ZVZ4N"
      },
      "execution_count": null,
      "outputs": []
    },
    {
      "cell_type": "code",
      "source": [
        "import json\n",
        "\n",
        "def test_read_and_write():\n",
        "  eval_1 = {\n",
        "    \"eval_id\" : 'fake_eval_1',\n",
        "    \"baseline_id\" : \"baseline_2\",\n",
        "    \"experiment_id\" : \"fake_experiment_1\"\n",
        "  }\n",
        "\n",
        "  eval_2 = {\n",
        "    \"eval_id\" : 'fake_eval_2',\n",
        "  }\n",
        "\n",
        "  eval_3 = {\n",
        "    \"eval_id\" : 'fake_eval_3',\n",
        "    \"baseline_id\" : \"baseline_3\",\n",
        "    \"experiment_id\" : \"fake_experiment_1\",\n",
        "  }\n",
        "\n",
        "  errors = bqddf.insert_eval_result(eval_1)\n",
        "  assert len(errors) == 0, errors\n",
        "\n",
        "  errors = bqddf.insert_eval_result(eval_2)\n",
        "  assert len(errors) == 0, errors\n",
        "\n",
        "  errors = bqddf.insert_eval_result(eval_3)\n",
        "  assert len(errors) == 0, errors\n",
        "\n",
        "  result = bqddf.get_eval_result('fake_eval_1')\n",
        "  assert result.total_rows == 1\n",
        "\n",
        "  rows = bqddf.get_eval_result('fake_eval_2')\n",
        "  assert result.total_rows == 1\n",
        "\n",
        "  rows = bqddf.get_eval_result('fake_eval_3')\n",
        "  assert result.total_rows == 1\n"
      ],
      "metadata": {
        "id": "RrZ2fw6tKCKY"
      },
      "execution_count": 54,
      "outputs": []
    },
    {
      "cell_type": "markdown",
      "source": [
        "## Run the test."
      ],
      "metadata": {
        "id": "BA03lUDkVdhE"
      }
    },
    {
      "cell_type": "code",
      "source": [
        "test_read_and_write()"
      ],
      "metadata": {
        "id": "Z7of_mZ0KzPE"
      },
      "execution_count": null,
      "outputs": []
    },
    {
      "cell_type": "markdown",
      "source": [
        "## Delete the test table"
      ],
      "metadata": {
        "id": "VFwlzuIPSVGV"
      }
    },
    {
      "cell_type": "code",
      "source": [
        "client.delete_table(table_id)"
      ],
      "metadata": {
        "id": "RdzxSLmHSKDQ"
      },
      "execution_count": null,
      "outputs": []
    }
  ]
}