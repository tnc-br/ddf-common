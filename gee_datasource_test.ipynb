{
  "cells": [
    {
      "cell_type": "markdown",
      "metadata": {
        "colab_type": "text",
        "id": "view-in-github"
      },
      "source": [
        "<a href=\"https://colab.research.google.com/github/tnc-br/ddf_common/blob/gee/gee_datasource_test.ipynb\" target=\"_parent\"><img src=\"https://colab.research.google.com/assets/colab-badge.svg\" alt=\"Open In Colab\"/></a>"
      ]
    },
    {
      "cell_type": "code",
      "execution_count": null,
      "metadata": {
        "id": "OluHNHOoi5Za",
        "vscode": {
          "languageId": "python"
        }
      },
      "outputs": [],
      "source": [
        "import sys\n",
        "!if [ ! -d \"/content/ddf_common_stub\" ] ; then git clone -b test https://github.com/tnc-br/ddf_common_stub.git; fi\n",
        "sys.path.append(\"/content/ddf_common_stub/\")\n",
        "import ddfimport\n",
        "ddfimport.ddf_source_control_pane()\n",
        "# ddfimport.ddf_import_common()\n"
      ]
    },
    {
      "cell_type": "code",
      "execution_count": 4,
      "metadata": {
        "colab": {
          "base_uri": "https://localhost:8080/"
        },
        "id": "AjczrwOxbdQE",
        "outputId": "ad004805-d5ce-421f-d09e-bec8a3d4e45a",
        "vscode": {
          "languageId": "python"
        }
      },
      "outputs": [
        {
          "name": "stdout",
          "output_type": "stream",
          "text": [
            "1090\n",
            "       lat     long\n",
            "0 -13.0813 -52.3771\n",
            "1 -13.0813 -52.3771\n",
            "2 -13.0813 -52.3771\n",
            "3 -13.0813 -52.3771\n",
            "4 -13.0813 -52.3771\n"
          ]
        }
      ],
      "source": [
        "import dataset\n",
        "#replace tnc with your org name, it should be one word, reach out to your admin for the name \n",
        "org_name = \"tnc\"\n",
        "ref_samples = dataset.load_reference_samples(org_name, 'dev')\n",
        "assert(len(ref_samples) > 1000)\n",
        "assert(ref_samples['long'].min() < -70)\n",
        "print(len(ref_samples))\n",
        "print(ref_samples[[\"lat\", \"long\"]].head(5))\n",
        "\n"
      ]
    }
  ],
  "metadata": {
    "colab": {
      "include_colab_link": true,
      "provenance": []
    },
    "kernelspec": {
      "display_name": "Python 3",
      "name": "python3"
    }
  },
  "nbformat": 4,
  "nbformat_minor": 0
}
