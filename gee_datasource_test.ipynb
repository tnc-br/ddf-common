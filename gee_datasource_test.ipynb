{
  "nbformat": 4,
  "nbformat_minor": 0,
  "metadata": {
    "colab": {
      "provenance": [],
      "include_colab_link": true
    },
    "kernelspec": {
      "name": "python3",
      "display_name": "Python 3"
    }
  },
  "cells": [
    {
      "cell_type": "markdown",
      "metadata": {
        "id": "view-in-github",
        "colab_type": "text"
      },
      "source": [
        "<a href=\"https://colab.research.google.com/github/tnc-br/ddf_common/blob/gee/gee_datasource_test.ipynb\" target=\"_parent\"><img src=\"https://colab.research.google.com/assets/colab-badge.svg\" alt=\"Open In Colab\"/></a>"
      ]
    },
    {
      "cell_type": "code",
      "source": [
        "import sys\n",
        "!if [ ! -d \"/content/ddf_common_stub\" ] ; then git clone -b test https://github.com/tnc-br/ddf_common_stub.git; fi\n",
        "sys.path.append(\"/content/ddf_common_stub/\")\n",
        "import ddfimport\n",
        "ddfimport.ddf_source_control_pane()\n",
        "# ddfimport.ddf_import_common()\n"
      ],
      "metadata": {
        "id": "OluHNHOoi5Za"
      },
      "execution_count": null,
      "outputs": []
    },
    {
      "cell_type": "code",
      "metadata": {
        "id": "65RChERMzQHZ"
      },
      "source": [
        "import ee\n",
        "\n",
        "# Trigger the authentication flow.\n",
        "ee.Authenticate()\n",
        "\n",
        "# Initialize the library.\n",
        "ee.Initialize()"
      ],
      "execution_count": null,
      "outputs": []
    },
    {
      "cell_type": "markdown",
      "metadata": {
        "id": "8I_Fr0L5AFmu"
      },
      "source": [
        "## Test the API\n",
        "\n",
        "Test the API by printing the elevation of Mount Everest."
      ]
    },
    {
      "cell_type": "code",
      "metadata": {
        "id": "v7pD6pDOAhOW",
        "colab": {
          "base_uri": "https://localhost:8080/"
        },
        "outputId": "ba34ab1a-fd49-44d3-dde5-08beee912e69"
      },
      "source": [
        "# Print the elevation of Mount Everest.\n",
        "dem = ee.Image('USGS/SRTMGL1_003')\n",
        "xy = ee.Geometry.Point([86.9250, 27.9881])\n",
        "elev = dem.sample(xy, 30).first().get('elevation').getInfo()\n",
        "print('Mount Everest elevation (m):', elev)"
      ],
      "execution_count": null,
      "outputs": [
        {
          "output_type": "stream",
          "name": "stdout",
          "text": [
            "Mount Everest elevation (m): 8729\n"
          ]
        }
      ]
    },
    {
      "cell_type": "code",
      "source": [
        "import pandas as pd\n",
        "from geopandas import GeoDataFrame\n",
        "\n",
        "fc = ee.FeatureCollection('projects/river-sky-386919/assets/timberID/trusted_samples')\n",
        "info = fc.getInfo()\n",
        "features = info['features']\n",
        "print(info['properties'])\n",
        "\n",
        "dictarr = []\n",
        "\n",
        "for f in features:\n",
        "    # Store all attributes in a dict\n",
        "    attr = f['properties']\n",
        "    # and treat geometry separately\n",
        "    # 0 = lon\n",
        "    # 1 = lat\n",
        "    attr['lat'] = f['geometry']['coordinates'][1]\n",
        "    attr['long'] = f['geometry']['coordinates'][0]\n",
        "    dictarr.append(attr)\n",
        "\n",
        "df = pd.DataFrame(dictarr)\n",
        "print(df.head())\n"
      ],
      "metadata": {
        "id": "AjczrwOxbdQE"
      },
      "execution_count": null,
      "outputs": []
    }
  ]
}