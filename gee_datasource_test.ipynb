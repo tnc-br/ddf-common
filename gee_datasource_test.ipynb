{
  "nbformat": 4,
  "nbformat_minor": 0,
  "metadata": {
    "colab": {
      "provenance": [],
      "include_colab_link": true
    },
    "kernelspec": {
      "name": "python3",
      "display_name": "Python 3"
    }
  },
  "cells": [
    {
      "cell_type": "markdown",
      "metadata": {
        "id": "view-in-github",
        "colab_type": "text"
      },
      "source": [
        "<a href=\"https://colab.research.google.com/github/tnc-br/ddf_common/blob/gee/gee_datasource_test.ipynb\" target=\"_parent\"><img src=\"https://colab.research.google.com/assets/colab-badge.svg\" alt=\"Open In Colab\"/></a>"
      ]
    },
    {
      "cell_type": "code",
      "source": [
        "import sys\n",
        "!if [ ! -d \"/content/ddf_common_stub\" ] ; then git clone -b test https://github.com/tnc-br/ddf_common_stub.git; fi\n",
        "sys.path.append(\"/content/ddf_common_stub/\")\n",
        "import ddfimport\n",
        "ddfimport.ddf_source_control_pane()\n",
        "# ddfimport.ddf_import_common()\n"
      ],
      "metadata": {
        "id": "OluHNHOoi5Za"
      },
      "execution_count": null,
      "outputs": []
    },
    {
      "cell_type": "code",
      "source": [
        "import dataset\n",
        "\n",
        "ref_samples = dataset.load_reference_samples()\n",
        "assert(len(ref_samples) > 1000)\n",
        "assert(ref_samples['long'].min() < -70)\n",
        "print(len(ref_samples))\n",
        "print(ref_samples[[\"lat\", \"long\"]].head(5))\n",
        "\n"
      ],
      "metadata": {
        "id": "AjczrwOxbdQE",
        "colab": {
          "base_uri": "https://localhost:8080/"
        },
        "outputId": "ad004805-d5ce-421f-d09e-bec8a3d4e45a"
      },
      "execution_count": 4,
      "outputs": [
        {
          "output_type": "stream",
          "name": "stdout",
          "text": [
            "1090\n",
            "       lat     long\n",
            "0 -13.0813 -52.3771\n",
            "1 -13.0813 -52.3771\n",
            "2 -13.0813 -52.3771\n",
            "3 -13.0813 -52.3771\n",
            "4 -13.0813 -52.3771\n"
          ]
        }
      ]
    }
  ]
}