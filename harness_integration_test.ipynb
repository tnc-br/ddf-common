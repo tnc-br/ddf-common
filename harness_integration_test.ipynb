{
  "nbformat": 4,
  "nbformat_minor": 0,
  "metadata": {
    "colab": {
      "provenance": [],
      "authorship_tag": "ABX9TyP0cj1L53px18turMJi48Ab",
      "include_colab_link": true
    },
    "kernelspec": {
      "name": "python3",
      "display_name": "Python 3"
    },
    "language_info": {
      "name": "python"
    }
  },
  "cells": [
    {
      "cell_type": "markdown",
      "metadata": {
        "id": "view-in-github",
        "colab_type": "text"
      },
      "source": [
        "<a href=\"https://colab.research.google.com/github/tnc-br/ddf_common/blob/vertex_ai_test/harness_integration_test.ipynb\" target=\"_parent\"><img src=\"https://colab.research.google.com/assets/colab-badge.svg\" alt=\"Open In Colab\"/></a>"
      ]
    },
    {
      "cell_type": "code",
      "execution_count": 1,
      "metadata": {
        "colab": {
          "base_uri": "https://localhost:8080/"
        },
        "id": "7LqDd-awJnx9",
        "outputId": "826ad761-a15d-45b8-a839-883e66e4c2b3"
      },
      "outputs": [
        {
          "output_type": "stream",
          "name": "stdout",
          "text": [
            "Cloning into 'ddf_common_stub'...\n",
            "remote: Enumerating objects: 18, done.\u001b[K\n",
            "remote: Counting objects: 100% (18/18), done.\u001b[K\n",
            "remote: Compressing objects: 100% (18/18), done.\u001b[K\n",
            "remote: Total 18 (delta 7), reused 0 (delta 0), pack-reused 0\u001b[K\n",
            "Receiving objects: 100% (18/18), 7.36 KiB | 7.36 MiB/s, done.\n",
            "Resolving deltas: 100% (7/7), done.\n",
            "executing checkout_branch ...\n",
            "b''\n",
            "main branch checked out as readonly. You may now use ddf_common imports\n"
          ]
        }
      ],
      "source": [
        "# This stub (ddfimport) allows the Ddf EE API to be imported.\n",
        "import sys\n",
        "!if [ ! -d \"/content/ddf_common_stub\" ] ; then git clone -b test https://github.com/tnc-br/ddf_common_stub.git; fi\n",
        "sys.path.append(\"/content/ddf_common_stub/\")\n",
        "import ddfimport\n",
        "\n",
        "# Use this line to import from a branch of the github repository.\n",
        "# It will git clone the git repository under a google drive path.\n",
        "# This allows you to modify the source files by opening the file view and\n",
        "# changing files under /content/gdrive/MyDrive/<branch_name>\n",
        "# ddfimport.ddf_source_control_pane()\n",
        "\n",
        "# Alternatively, you can use this line to import from Main.\n",
        "# If you import from Main, you will not be able to change files, but will not\n",
        "# need a Google Login for Google Drive.\n",
        "ddfimport.ddf_import_common()"
      ]
    },
    {
      "cell_type": "code",
      "source": [
        "import importlib\n",
        "import eeddf\n",
        "\n",
        "# This may prompt for your Google account credentials to authenticate for\n",
        "# Earth Engine. You may pass in an argument test_environment = True to access\n",
        "# test data.\n",
        "eeddf.initialize_ddf(test_environment = True)"
      ],
      "metadata": {
        "id": "ESPRca9_JtXR"
      },
      "execution_count": 2,
      "outputs": []
    },
    {
      "cell_type": "code",
      "source": [
        "from google.cloud import bigquery\n",
        "_CLIENT = None\n",
        "_TEST_CONFIG = {\n",
        "    \"TABLE\" : \"eval_results\",\n",
        "    \"DATASET\" : \"harness-test-db\",\n",
        "    \"PROJECT\" : \"river-sky-386919\",\n",
        "}\n",
        "\n",
        "def get_big_qquery_client():\n",
        "  global _CLIENT\n",
        "  if not _CLIENT:\n",
        "    _CLIENT = bigquery.Client()\n",
        "\n",
        "def write_eval_results(results):\n",
        "  client = get_big_qquery_client()"
      ],
      "metadata": {
        "id": "lZWg2TROKOEJ"
      },
      "execution_count": 3,
      "outputs": []
    },
    {
      "cell_type": "code",
      "source": [
        "import json\n",
        "\n",
        "def test_write():\n",
        "  eval = {\n",
        "    \"eval_id\" : 'foo123',\n",
        "    \"baseline_id\" : \"baseline_1\",\n",
        "    \"experiment_id\" : \"fake_experiment_1\",\n",
        "    \"fraction_fraudulent\" : 0.5,\n",
        "    \"p_value_strategy\" : \"DEFAULT\",\n",
        "    \"eval_pipeline_version_id\" : \"v1\",\n",
        "    \"dataset_id\" : \"v1\",\n",
        "    \"p_value_threshold_100km\" : 0.03,\n",
        "    \"p_at_100km\": 0.7,\n",
        "    \"r_at_100km\" : 0.2,\n",
        "    \"AUC_at_100km\": 0.6,\n",
        "    \"p_value_threshold_300km\" : 0.04,\n",
        "    \"p_at_300km\": 0.8,\n",
        "    \"r_at_300km\" : 0.4,\n",
        "    \"AUC_at_300km\": 0.7,\n",
        "    \"p_value_threshold_500km\" : 0.03,\n",
        "    \"p_at_500km\": 0.7,\n",
        "    \"r_at_500km\" : 0.2,\n",
        "    \"AUC_at_500km\": 0.6,\n",
        "  }\n",
        "\n",
        "  write_eval_results(eval)"
      ],
      "metadata": {
        "id": "RrZ2fw6tKCKY"
      },
      "execution_count": 20,
      "outputs": []
    },
    {
      "cell_type": "code",
      "source": [
        "test_write()"
      ],
      "metadata": {
        "id": "Z7of_mZ0KzPE"
      },
      "execution_count": 21,
      "outputs": []
    },
    {
      "cell_type": "code",
      "source": [],
      "metadata": {
        "id": "IElZkVpRJ04b"
      },
      "execution_count": null,
      "outputs": []
    }
  ]
}